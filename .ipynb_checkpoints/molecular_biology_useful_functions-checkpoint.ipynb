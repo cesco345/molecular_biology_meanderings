{
 "cells": [
  {
   "cell_type": "markdown",
   "id": "861ffe76-521e-4377-9516-829b7b899237",
   "metadata": {},
   "source": [
    "# Counting Nucleotides in a DNA String"
   ]
  },
  {
   "cell_type": "markdown",
   "id": "45564d83-ba0e-4503-809f-d1fef0a91fd7",
   "metadata": {},
   "source": [
    "Sample Dataset\n",
    "\n",
    "\n",
    "\n",
    "AGCTTTTCATTCTGACTGCAACGGGCAATATGTCTCTGTGTGGATTAAAAAAAGAGTGTCTGATAGCAGC"
   ]
  },
  {
   "cell_type": "markdown",
   "id": "956627cb-09e5-44b7-b58d-988a1128d444",
   "metadata": {},
   "source": [
    "logic: In order to count the occurrences of each nucleotide (A, C, G, T) in the given DNA string. Let's write a Python function to do this:"
   ]
  },
  {
   "cell_type": "code",
   "execution_count": 1,
   "id": "7a59f273-6c05-4b4a-8b05-922c3d5841a1",
   "metadata": {},
   "outputs": [
    {
     "name": "stdout",
     "output_type": "stream",
     "text": [
      "20 12 17 21\n"
     ]
    }
   ],
   "source": [
    "def count_nucleotides(dna_string):\n",
    "    return (\n",
    "        dna_string.count('A'),\n",
    "        dna_string.count('C'),\n",
    "        dna_string.count('G'),\n",
    "        dna_string.count('T')\n",
    "    )\n",
    "\n",
    "# Test with the sample dataset\n",
    "sample_dna = \"AGCTTTTCATTCTGACTGCAACGGGCAATATGTCTCTGTGTGGATTAAAAAAAGAGTGTCTGATAGCAGC\"\n",
    "result = count_nucleotides(sample_dna)\n",
    "print(\" \".join(map(str, result)))"
   ]
  },
  {
   "cell_type": "markdown",
   "id": "a46a2b2a-cc38-4fd3-bb37-4a9e066a32f7",
   "metadata": {},
   "source": [
    "# Conversion from DNA string to RNA string"
   ]
  },
  {
   "cell_type": "markdown",
   "id": "e11dbcf3-d209-4906-8c69-8ce825ce56c7",
   "metadata": {},
   "source": [
    "Sample Dataset:\n",
    "GATGGAACTTGACTACGTAAATT\n",
    "\n",
    "logic: In order to solve this problem, we need to create a function that transcribes a DNA string to an RNA string by replacing all occurrences of 'T' with 'U'. Here's a Python function to accomplish this:"
   ]
  },
  {
   "cell_type": "code",
   "execution_count": 2,
   "id": "9f67fe82-c5ae-4a98-a4ff-11e3313c98d0",
   "metadata": {},
   "outputs": [
    {
     "name": "stdout",
     "output_type": "stream",
     "text": [
      "GAUGGAACUUGACUACGUAAAUU\n"
     ]
    }
   ],
   "source": [
    "def dna_to_rna(dna_string):\n",
    "    return dna_string.replace('T', 'U')\n",
    "\n",
    "# Test with the sample dataset\n",
    "sample_dna = \"GATGGAACTTGACTACGTAAATT\"\n",
    "rna_string = dna_to_rna(sample_dna)\n",
    "print(rna_string)"
   ]
  },
  {
   "cell_type": "markdown",
   "id": "52e075bd-02d8-4fdd-adf4-8df0e7168440",
   "metadata": {},
   "source": [
    "# Complementing a Strand of DNA"
   ]
  },
  {
   "cell_type": "markdown",
   "id": "c7f8c83b-8d87-40bb-a15c-453cd861efae",
   "metadata": {},
   "source": [
    "Sample Dataset:  \n",
    "AAAACCCGGT"
   ]
  },
  {
   "cell_type": "markdown",
   "id": "bd7d6f18-6292-4665-b54e-4b30f0aaffc9",
   "metadata": {},
   "source": [
    "logic: To solve this problem, we need to create a function that produces the reverse complement of a given DNA string. Here's a Python function to accomplish this:"
   ]
  },
  {
   "cell_type": "code",
   "execution_count": 3,
   "id": "09f006ee-22a8-4599-a1e2-3aa7884044f0",
   "metadata": {},
   "outputs": [
    {
     "name": "stdout",
     "output_type": "stream",
     "text": [
      "ACCGGGTTTT\n"
     ]
    }
   ],
   "source": [
    "def reverse_complement(dna_string):\n",
    "    complement = {'A': 'T', 'T': 'A', 'C': 'G', 'G': 'C'}\n",
    "    return ''.join(complement[base] for base in reversed(dna_string))\n",
    "\n",
    "# Test with the sample dataset\n",
    "sample_dna = \"AAAACCCGGT\"\n",
    "result = reverse_complement(sample_dna)\n",
    "print(result)"
   ]
  },
  {
   "cell_type": "markdown",
   "id": "c7db5357-3771-456c-a3bb-491ab407dd14",
   "metadata": {},
   "source": [
    "# Fibonacci's Rabbits and Recurrence Relations"
   ]
  },
  {
   "cell_type": "markdown",
   "id": "303b153b-5503-4eaf-b306-89d04fc284d0",
   "metadata": {},
   "source": [
    "Example of a variation of the Fibonacci sequence, often referred to as the \"Rabbit Sequence\" or \"Fibonacci's Rabbits\". "
   ]
  },
  {
   "cell_type": "markdown",
   "id": "8f36b108-9918-4fee-bbf5-a7d938a2fba7",
   "metadata": {},
   "source": [
    "Sample Dataset:  \n",
    "5 3"
   ]
  },
  {
   "cell_type": "markdown",
   "id": "c11e50e9-93d4-411d-852c-be1fb6f3852a",
   "metadata": {},
   "source": [
    "logic:  In the first month, we start with 1 mature pair and 0 immature pairs. In each subsequent month the number of new immature pairs is the number of mature pairs from last month multiplied by k. The number of new mature pairs is the sum of immature and mature pairs from last month (all rabbits mature after one month). We update our mature and immature counts for the next iteration. The total number of pairs is the sum of mature and immature pairs."
   ]
  },
  {
   "cell_type": "code",
   "execution_count": 10,
   "id": "6dbc2493-1a5c-4710-93fa-4ca84fc49718",
   "metadata": {},
   "outputs": [
    {
     "name": "stdout",
     "output_type": "stream",
     "text": [
      "Month 3: 4\n",
      "Month 4: 7\n",
      "Month 5: 19\n",
      "Final result: 19\n"
     ]
    }
   ],
   "source": [
    "def rabbit_pairs(n, k):\n",
    "    if n <= 2:\n",
    "        return 1\n",
    "    \n",
    "    # Initialize the first two months\n",
    "    mature = 1  # Mature (reproductive) pairs\n",
    "    immature = 0  # Immature pairs\n",
    "    \n",
    "    # Calculate rabbit pairs for each month\n",
    "    for month in range(2, n):\n",
    "        # New immature pairs = mature pairs * k\n",
    "        new_immature = mature * k\n",
    "        # New mature pairs = last month's immature pairs + last month's mature pairs\n",
    "        new_mature = immature + mature\n",
    "        \n",
    "        mature = new_mature\n",
    "        immature = new_immature\n",
    "        \n",
    "        total = mature + immature\n",
    "        print(f\"Month {month+1}: {total}\")\n",
    "    \n",
    "    return mature + immature\n",
    "\n",
    "# Test with the sample dataset\n",
    "n, k = 5, 3\n",
    "result = rabbit_pairs(n, k)\n",
    "print(f\"Final result: {result}\")"
   ]
  },
  {
   "cell_type": "markdown",
   "id": "6ff54d73-7bad-4401-ade1-7e1ecebb604d",
   "metadata": {},
   "source": [
    "# Computing GC Content"
   ]
  },
  {
   "cell_type": "markdown",
   "id": "ef53046f-d86d-46fd-b041-2eff1e99d5f6",
   "metadata": {},
   "source": [
    "Because of the base pairing relations of the two DNA strands, cytosine and guanine will always appear in equal amounts in a double-stranded DNA molecule. Thus, to analyze the symbol frequencies of DNA for comparison against a database, we compute the molecule's GC-content, or the percentage of its bases that are either cytosine or guanine."
   ]
  },
  {
   "cell_type": "code",
   "execution_count": null,
   "id": "d527e78a-d616-4f9c-bd64-f98a79bba0cc",
   "metadata": {},
   "outputs": [],
   "source": [
    "Sample Dataset\n",
    ">Sequence_6404\n",
    "CCTGCGGAAGATCGGCACTAGAATAGCCAGAACCGTTTCTCTGAGGCTTCCGGCCTTCCC\n",
    "TCCCACTAATAATTCTGAGG\n",
    ">Sequence_5959\n",
    "CCATCGGTAGCGCATCCTTAGTCCAATTAAGTCCCTATCCAGGCGCTCCGCCGAAGGTCT\n",
    "ATATCCATTTGTCAGCAGACACGC\n",
    ">Sequence_0808\n",
    "CCACCCTCGTGGTATGGCTAGGCATTCAGGAACCGGAGAACGCTTCAGACCAGCCCGGAC\n",
    "TGGGAACCTGCGGGCAGTAGGTGGAAT"
   ]
  },
  {
   "cell_type": "markdown",
   "id": "2ff310dc-6057-4984-8a50-12159cef599f",
   "metadata": {},
   "source": [
    "logic: To solve this problem, we need to create a function that can parse FASTA format DNA strings, calculate their GC-content, and return the ID of the string with the highest GC-content along with its GC-content percentage. "
   ]
  },
  {
   "cell_type": "code",
   "execution_count": 11,
   "id": "b2b0662b-f88a-47f5-85ae-6c5be3a6094f",
   "metadata": {},
   "outputs": [
    {
     "name": "stdout",
     "output_type": "stream",
     "text": [
      "Sequence_0808\n",
      "60.919540\n"
     ]
    }
   ],
   "source": [
    "def parse_fasta(fasta_string):\n",
    "    sequences = {}\n",
    "    current_id = None\n",
    "    current_seq = []\n",
    "\n",
    "    for line in fasta_string.split('\\n'):\n",
    "        if line.startswith('>'):\n",
    "            if current_id:\n",
    "                sequences[current_id] = ''.join(current_seq)\n",
    "            current_id = line[1:]\n",
    "            current_seq = []\n",
    "        else:\n",
    "            current_seq.append(line)\n",
    "\n",
    "    if current_id:\n",
    "        sequences[current_id] = ''.join(current_seq)\n",
    "\n",
    "    return sequences\n",
    "\n",
    "def gc_content(dna_string):\n",
    "    gc_count = dna_string.count('G') + dna_string.count('C')\n",
    "    return (gc_count / len(dna_string)) * 100\n",
    "\n",
    "def highest_gc_content(fasta_string):\n",
    "    sequences = parse_fasta(fasta_string)\n",
    "    max_gc = 0\n",
    "    max_id = ''\n",
    "\n",
    "    for seq_id, sequence in sequences.items():\n",
    "        gc = gc_content(sequence)\n",
    "        if gc > max_gc:\n",
    "            max_gc = gc\n",
    "            max_id = seq_id\n",
    "\n",
    "    return max_id, max_gc\n",
    "\n",
    "# Test with the sample dataset\n",
    "sample_data = \"\"\">Sequence_6404\n",
    "CCTGCGGAAGATCGGCACTAGAATAGCCAGAACCGTTTCTCTGAGGCTTCCGGCCTTCCC\n",
    "TCCCACTAATAATTCTGAGG\n",
    ">Sequence_5959\n",
    "CCATCGGTAGCGCATCCTTAGTCCAATTAAGTCCCTATCCAGGCGCTCCGCCGAAGGTCT\n",
    "ATATCCATTTGTCAGCAGACACGC\n",
    ">Sequence_0808\n",
    "CCACCCTCGTGGTATGGCTAGGCATTCAGGAACCGGAGAACGCTTCAGACCAGCCCGGAC\n",
    "TGGGAACCTGCGGGCAGTAGGTGGAAT\"\"\"\n",
    "\n",
    "result_id, result_gc = highest_gc_content(sample_data)\n",
    "print(result_id)\n",
    "print(f\"{result_gc:.6f}\")"
   ]
  },
  {
   "cell_type": "markdown",
   "id": "6ec3eaa3-c784-40ac-bc2f-69242ec6b5f1",
   "metadata": {},
   "source": [
    "# Counting Point Mutations and Hamming Distance"
   ]
  },
  {
   "cell_type": "markdown",
   "id": "8fa126a2-73d8-4881-b112-b968da54c112",
   "metadata": {},
   "source": [
    "Sample Dataset:\n",
    "\n",
    "Sequence A: GAGCCTACTAACGGGAT , \n",
    "Sequence B: CATCGTAATGACGGCCT"
   ]
  },
  {
   "cell_type": "markdown",
   "id": "dea186ab-7c46-44e0-9aa7-436697220c25",
   "metadata": {},
   "source": [
    "logic: To solve this problem, we need to create a function that calculates the Hamming distance between two DNA strings. "
   ]
  },
  {
   "cell_type": "code",
   "execution_count": 14,
   "id": "d98b34d5-cc33-4246-a600-3e69af82c6dd",
   "metadata": {},
   "outputs": [
    {
     "name": "stdout",
     "output_type": "stream",
     "text": [
      "7\n"
     ]
    }
   ],
   "source": [
    "def hamming_distance(s, t):\n",
    "    if len(s) != len(t):\n",
    "        raise ValueError(\"Strings must be of equal length\")\n",
    "    \n",
    "    return sum(c1 != c2 for c1, c2 in zip(s, t))\n",
    "\n",
    "# Test with the sample dataset\n",
    "s = \"GAGCCTACTAACGGGAT\"\n",
    "t = \"CATCGTAATGACGGCCT\"\n",
    "\n",
    "distance = hamming_distance(s, t)\n",
    "print(distance)"
   ]
  },
  {
   "cell_type": "markdown",
   "id": "ad630664-2983-4af9-866d-40a5cdf1ed3a",
   "metadata": {},
   "source": [
    "# Mendel's Law of Segregation"
   ]
  },
  {
   "cell_type": "markdown",
   "id": "4f65562d-ca1a-46f4-bcd3-9427da0205ff",
   "metadata": {},
   "source": [
    "Sample Dataset:  2 , 2 , 2"
   ]
  },
  {
   "cell_type": "markdown",
   "id": "08b49162-b8ac-4eee-b1fc-ff07e7dbc4c9",
   "metadata": {},
   "source": [
    "logic: To solve this problem, we need to calculate the probability of producing an offspring with a dominant allele when randomly selecting two organisms from a population. We calculate the total number of organisms and the total number of possible pairs. We then calculate the probability for each scenario that results in a dominant allele. When k (homozygous dominant) mates with anyone, it's always dominant. When m (heterozygous) mates with m, there's a 0.75 chance of dominant allele. When m mates with n (homozygous recessive), there's a 0.5 chance of dominant allele."
   ]
  },
  {
   "cell_type": "code",
   "execution_count": 20,
   "id": "70fe2c6a-62a9-49ed-82f5-7b31cf3b5038",
   "metadata": {},
   "outputs": [
    {
     "name": "stdout",
     "output_type": "stream",
     "text": [
      "0.78333\n"
     ]
    }
   ],
   "source": [
    "def dominant_allele_probability(k, m, n):\n",
    "    total = k + m + n\n",
    "    total_pairs = total * (total - 1)  # Total number of ways to choose 2 organisms\n",
    "    \n",
    "    # Probabilities of getting at least one dominant allele:\n",
    "    \n",
    "    # k with k\n",
    "    p_kk = k * (k - 1) / total_pairs\n",
    "    \n",
    "    # k with m or n\n",
    "    p_k_other = k * (m + n) * 2 / total_pairs\n",
    "    \n",
    "    # m with m (0.75 chance)\n",
    "    p_mm = m * (m - 1) / total_pairs * 0.75\n",
    "    \n",
    "    # m with n (0.5 chance)\n",
    "    p_mn = m * n * 2 / total_pairs * 0.5\n",
    "    \n",
    "    # Probability of getting a dominant allele\n",
    "    probability = p_kk + p_k_other + p_mm + p_mn\n",
    "    \n",
    "    return probability\n",
    "\n",
    "# Test with the sample dataset\n",
    "k, m, n = 2, 2, 2\n",
    "result = dominant_allele_probability(k, m, n)\n",
    "print(f\"{result:.5f}\")"
   ]
  },
  {
   "cell_type": "markdown",
   "id": "08fca32e-bdd5-4926-92d9-b915a50720e0",
   "metadata": {},
   "source": [
    "# Translating RNA into Protein"
   ]
  },
  {
   "cell_type": "markdown",
   "id": "0bf98bb0-a26e-41bd-823c-cad478a6f746",
   "metadata": {},
   "source": [
    "Sample Dataset : AUGGCCAUGGCGCCCAGAACUGAGAUCAAUAGUACCCGUAUUAACGGGUGA"
   ]
  },
  {
   "cell_type": "markdown",
   "id": "d24da18e-9076-4965-bbaf-b9998f65d5cb",
   "metadata": {},
   "source": [
    "logic: To solve this problem, we need to translate an RNA sequence into a protein sequence using the RNA codon table. We define a codon_table dictionary that maps each RNA codon to its corresponding amino acid. The rna_to_protein function takes an RNA string as input and translates it to a protein string. It iterates over the RNA string in steps of 3 (each codon is 3 nucleotides). For each codon, it looks up the corresponding amino acid in the codon_table. If it encounters a 'Stop' codon, it stops the translation. It builds up the protein string one amino acid at a time. We test the function with the sample dataset provided."
   ]
  },
  {
   "cell_type": "code",
   "execution_count": 22,
   "id": "5f6e5ac8-216b-4e04-a194-014d9684c6b0",
   "metadata": {},
   "outputs": [
    {
     "name": "stdout",
     "output_type": "stream",
     "text": [
      "MAMAPRTEINSTRING\n"
     ]
    }
   ],
   "source": [
    "def rna_to_protein(rna_string):\n",
    "    # RNA codon table\n",
    "    codon_table = {\n",
    "        'UUU': 'F', 'CUU': 'L', 'AUU': 'I', 'GUU': 'V',\n",
    "        'UUC': 'F', 'CUC': 'L', 'AUC': 'I', 'GUC': 'V',\n",
    "        'UUA': 'L', 'CUA': 'L', 'AUA': 'I', 'GUA': 'V',\n",
    "        'UUG': 'L', 'CUG': 'L', 'AUG': 'M', 'GUG': 'V',\n",
    "        'UCU': 'S', 'CCU': 'P', 'ACU': 'T', 'GCU': 'A',\n",
    "        'UCC': 'S', 'CCC': 'P', 'ACC': 'T', 'GCC': 'A',\n",
    "        'UCA': 'S', 'CCA': 'P', 'ACA': 'T', 'GCA': 'A',\n",
    "        'UCG': 'S', 'CCG': 'P', 'ACG': 'T', 'GCG': 'A',\n",
    "        'UAU': 'Y', 'CAU': 'H', 'AAU': 'N', 'GAU': 'D',\n",
    "        'UAC': 'Y', 'CAC': 'H', 'AAC': 'N', 'GAC': 'D',\n",
    "        'UAA': 'Stop', 'CAA': 'Q', 'AAA': 'K', 'GAA': 'E',\n",
    "        'UAG': 'Stop', 'CAG': 'Q', 'AAG': 'K', 'GAG': 'E',\n",
    "        'UGU': 'C', 'CGU': 'R', 'AGU': 'S', 'GGU': 'G',\n",
    "        'UGC': 'C', 'CGC': 'R', 'AGC': 'S', 'GGC': 'G',\n",
    "        'UGA': 'Stop', 'CGA': 'R', 'AGA': 'R', 'GGA': 'G',\n",
    "        'UGG': 'W', 'CGG': 'R', 'AGG': 'R', 'GGG': 'G'\n",
    "    }\n",
    "\n",
    "    protein = []\n",
    "    for i in range(0, len(rna_string), 3):\n",
    "        codon = rna_string[i:i+3]\n",
    "        if len(codon) == 3:  # Ensure we have a full codon\n",
    "            amino_acid = codon_table[codon]\n",
    "            if amino_acid == 'Stop':\n",
    "                break\n",
    "            protein.append(amino_acid)\n",
    "\n",
    "    return ''.join(protein)\n",
    "\n",
    "# Test with the sample dataset\n",
    "rna_string = \"AUGGCCAUGGCGCCCAGAACUGAGAUCAAUAGUACCCGUAUUAACGGGUGA\"\n",
    "protein_string = rna_to_protein(rna_string)\n",
    "print(protein_string)"
   ]
  },
  {
   "cell_type": "markdown",
   "id": "1d33bb29-7bc5-4c85-a9ec-6c44a9752df3",
   "metadata": {},
   "source": [
    "# Finding a Motif in DNA"
   ]
  },
  {
   "cell_type": "markdown",
   "id": "4a8b4be4-d69f-4f5c-83c7-437cdbb2eeb9",
   "metadata": {},
   "source": [
    "Sample Dataset : GATATATGCATATACTT , ATAT"
   ]
  },
  {
   "cell_type": "markdown",
   "id": "9624cb0b-1e08-4cb0-8111-cae1431136a7",
   "metadata": {},
   "source": [
    "logic: To solve this problem, we need to find all occurrences of a substring within a larger string. We define a function  that takes two parameters(s, t). We initialize an empty list location and iterate through the main string s, but only up to the point where there's enough room for the substring t to fit. We then check if the substring of s starting at that position and of length equal to t matches t. If there's a match, we add the position to our locations list. We add 1 to the index because the problem specifies 1-indexed positions. After the function definition we read the input strings s and t. Call our function with these inputs. Print the results, joining the list of locations with spaces."
   ]
  },
  {
   "cell_type": "code",
   "execution_count": 25,
   "id": "8538df49-f1ae-4a53-a758-d85123e7e35d",
   "metadata": {},
   "outputs": [
    {
     "name": "stdout",
     "output_type": "stream",
     "text": [
      "Enter the main DNA string and the substring on separate lines:\n"
     ]
    },
    {
     "name": "stdin",
     "output_type": "stream",
     "text": [
      " GATATATGCATATACTT\n",
      " ATAT\n"
     ]
    },
    {
     "name": "stdout",
     "output_type": "stream",
     "text": [
      "2 4 10\n"
     ]
    }
   ],
   "source": [
    "def find_substring_locations(s, t):\n",
    "    locations = []\n",
    "    for i in range(len(s) - len(t) + 1):\n",
    "        if s[i:i+len(t)] == t:\n",
    "            locations.append(i + 1)  # Add 1 because positions are 1-indexed\n",
    "    return locations\n",
    "\n",
    "# Get input from the user\n",
    "print(\"Enter the main DNA string and the substring on separate lines:\")\n",
    "s = input().strip()\n",
    "t = input().strip()\n",
    "\n",
    "# Find locations\n",
    "locations = find_substring_locations(s, t)\n",
    "\n",
    "# Print results\n",
    "print(' '.join(map(str, locations)))"
   ]
  },
  {
   "cell_type": "markdown",
   "id": "f4ba887f-e498-4e32-853d-b3b6abec4ec2",
   "metadata": {},
   "source": [
    "# Consensus and Profile \n",
    "### The natural problem to find an average-case strand to represent the most likely common ancestor of the given strands.\n",
    "\n"
   ]
  },
  {
   "cell_type": "markdown",
   "id": "a6256db9-ecc8-49fc-9849-9d3f407ea7aa",
   "metadata": {},
   "source": [
    "Sample Dataset : \n",
    ">Strand_1 : \n",
    "ATCCAGCT ,  \n",
    ">Strand_2 :\n",
    "GGGCAACT , \n",
    ">Strand_3 :\n",
    "ATGGATCT , \n",
    ">Strand_4 :\n",
    "AAGCAACC , \n",
    ">Strand_5 :\n",
    "TTGGAACT , \n",
    ">Strand_6 :\n",
    "ATGCCATT , \n",
    ">Strand_7 :\n",
    "ATGGCACT"
   ]
  },
  {
   "cell_type": "markdown",
   "id": "11d6a60e-e227-41c8-8226-144fb4e2da05",
   "metadata": {},
   "source": [
    "logic:  Copy the entire code above into a Python file, the script will prompt you to enter the DNA strings in FASTA format. Enter each line and press enter after each line. When you're done, press enter twice to finish the input. The script will output the consensus string and the profile matrix."
   ]
  },
  {
   "cell_type": "code",
   "execution_count": 30,
   "id": "8025baab-bbcc-4266-860c-e6726d9ff8d6",
   "metadata": {},
   "outputs": [
    {
     "name": "stdout",
     "output_type": "stream",
     "text": [
      "Enter the DNA strings (in FASTA format or as a simple list, press Enter twice to finish):\n"
     ]
    },
    {
     "name": "stdin",
     "output_type": "stream",
     "text": [
      " ATCCAGCT\n",
      " GGGCAACT\n",
      " ATGGATCT\n",
      " AAGCAACC\n",
      " TTGGAACT\n",
      " ATGCCATT\n",
      " ATGGCACT\n",
      " \n"
     ]
    },
    {
     "name": "stdout",
     "output_type": "stream",
     "text": [
      "\n",
      "Received input:\n",
      "ATCCAGCT\n",
      "GGGCAACT\n",
      "ATGGATCT\n",
      "AAGCAACC\n",
      "TTGGAACT\n",
      "ATGCCATT\n",
      "ATGGCACT\n",
      "\n",
      "\n",
      "Parsed sequences:\n",
      "Sequence_1: ATCCAGCT\n",
      "Sequence_2: GGGCAACT\n",
      "Sequence_3: ATGGATCT\n",
      "Sequence_4: AAGCAACC\n",
      "Sequence_5: TTGGAACT\n",
      "Sequence_6: ATGCCATT\n",
      "Sequence_7: ATGGCACT\n",
      "\n",
      "Results:\n",
      "ATGCAACT\n",
      "A: 5 1 0 0 5 5 0 0\n",
      "C: 0 0 1 4 2 0 6 1\n",
      "G: 1 1 6 3 0 1 0 0\n",
      "T: 1 5 0 0 0 1 1 6\n"
     ]
    }
   ],
   "source": [
    "def parse_input(input_string):\n",
    "    sequences = {}\n",
    "    lines = input_string.strip().split('\\n')\n",
    "    \n",
    "    if lines and lines[0].startswith('>'):  # FASTA format\n",
    "        current_id = ''\n",
    "        current_sequence = ''\n",
    "        for line in lines:\n",
    "            if line.startswith('>'):\n",
    "                if current_id:\n",
    "                    sequences[current_id] = current_sequence\n",
    "                current_id = line[1:]\n",
    "                current_sequence = ''\n",
    "            else:\n",
    "                current_sequence += line.strip()\n",
    "        if current_id:\n",
    "            sequences[current_id] = current_sequence\n",
    "    else:  # Simple list of sequences\n",
    "        for i, line in enumerate(lines, 1):\n",
    "            if line.strip():\n",
    "                sequences[f'Sequence_{i}'] = line.strip()\n",
    "    \n",
    "    return sequences\n",
    "\n",
    "def create_profile_matrix(dna_strings):\n",
    "    if not dna_strings:\n",
    "        raise ValueError(\"No DNA strings provided\")\n",
    "    length = len(dna_strings[0])\n",
    "    profile = {'A': [0] * length, 'C': [0] * length, 'G': [0] * length, 'T': [0] * length}\n",
    "    \n",
    "    for dna in dna_strings:\n",
    "        if len(dna) != length:\n",
    "            raise ValueError(f\"All DNA strings must have the same length. Found lengths {length} and {len(dna)}\")\n",
    "        for i, nucleotide in enumerate(dna):\n",
    "            if nucleotide not in profile:\n",
    "                raise ValueError(f\"Invalid nucleotide {nucleotide} found in DNA string\")\n",
    "            profile[nucleotide][i] += 1\n",
    "    \n",
    "    return profile\n",
    "\n",
    "def find_consensus(profile):\n",
    "    if not profile['A']:\n",
    "        raise ValueError(\"Profile matrix is empty\")\n",
    "    consensus = ''\n",
    "    for i in range(len(profile['A'])):\n",
    "        max_count = 0\n",
    "        max_nucleotide = ''\n",
    "        for nucleotide in 'ACGT':\n",
    "            if profile[nucleotide][i] > max_count:\n",
    "                max_count = profile[nucleotide][i]\n",
    "                max_nucleotide = nucleotide\n",
    "        consensus += max_nucleotide\n",
    "    return consensus\n",
    "\n",
    "# Get input from the user\n",
    "print(\"Enter the DNA strings (in FASTA format or as a simple list, press Enter twice to finish):\")\n",
    "input_data = ''\n",
    "while True:\n",
    "    line = input()\n",
    "    if line == '':\n",
    "        break\n",
    "    input_data += line + '\\n'\n",
    "\n",
    "print(\"\\nReceived input:\")\n",
    "print(input_data)\n",
    "\n",
    "try:\n",
    "    # Parse input\n",
    "    sequences = parse_input(input_data)\n",
    "    if not sequences:\n",
    "        raise ValueError(\"No valid sequences found in input\")\n",
    "    \n",
    "    print(\"\\nParsed sequences:\")\n",
    "    for id, seq in sequences.items():\n",
    "        print(f\"{id}: {seq}\")\n",
    "    \n",
    "    dna_strings = list(sequences.values())\n",
    "\n",
    "    # Create profile matrix\n",
    "    profile = create_profile_matrix(dna_strings)\n",
    "\n",
    "    # Find consensus string\n",
    "    consensus = find_consensus(profile)\n",
    "\n",
    "    # Print results\n",
    "    print(\"\\nResults:\")\n",
    "    print(consensus)\n",
    "    for nucleotide in 'ACGT':\n",
    "        print(f\"{nucleotide}: {' '.join(map(str, profile[nucleotide]))}\")\n",
    "\n",
    "except ValueError as e:\n",
    "    print(f\"Error: {e}\")"
   ]
  },
  {
   "cell_type": "code",
   "execution_count": null,
   "id": "c05e064b-f427-4ae6-9a05-1c7dbfc89056",
   "metadata": {},
   "outputs": [],
   "source": [
    "ATCCAGCT\n",
    " GGGCAACT\n",
    " ATGGATCT\n",
    " AAGCAACC\n",
    " TTGGAACT\n",
    " ATGCCATT\n",
    " ATGGCACT"
   ]
  },
  {
   "cell_type": "markdown",
   "id": "90fd7d5b-fe5d-4f0b-8066-630d1950b9cf",
   "metadata": {},
   "source": [
    "# Mortal Fibonacci Rabbits"
   ]
  },
  {
   "cell_type": "markdown",
   "id": "7468efc1-4794-4b0b-977a-f3a45e995950",
   "metadata": {},
   "source": [
    "### A depiction of a rabbit situation in which rabbits live for (m=3) months (meaning that they reproduce only twice before dying)."
   ]
  },
  {
   "cell_type": "markdown",
   "id": "a5ab482f-24da-4192-a807-dc10e1a87880",
   "metadata": {},
   "source": [
    "Sample Dataset : \n",
    "6 3"
   ]
  },
  {
   "cell_type": "markdown",
   "id": "56d3b841-3b8c-404d-99e0-10a859cfa3a7",
   "metadata": {},
   "source": [
    "logic: To solve this problem, we need to modify the Fibonacci sequence to account for rabbits dying after m months. We define a function mortal_fibonacci_rabbits that takes two parameters: (n, m) Initialize a list rabbits of length m, where each element represents the number of rabbit pairs born in that month. We start with 1 pair in the first month, and iterate through each month up to n. We calculate the number of new rabbits born this month, which is the sum of all mature rabbits (all except the newborns from last month). We shift the rabbit population, adding the new rabbits at the beginning and removing the oldest rabbits (which die after m months). After n months, we return the sum of all rabbits alive. We get the input from the user and print the result. "
   ]
  },
  {
   "cell_type": "code",
   "execution_count": 32,
   "id": "94c18014-f3da-4924-b259-ad5b743cb685",
   "metadata": {},
   "outputs": [
    {
     "name": "stdin",
     "output_type": "stream",
     "text": [
      "Enter n and m separated by a space:  6 3 \n"
     ]
    },
    {
     "name": "stdout",
     "output_type": "stream",
     "text": [
      "4\n"
     ]
    }
   ],
   "source": [
    "def mortal_fibonacci_rabbits(n, m):\n",
    "    # Initialize the rabbit population for the first m months\n",
    "    rabbits = [0] * m\n",
    "    rabbits[0] = 1  # First month, we have 1 pair of rabbits\n",
    "\n",
    "    # Calculate the rabbit population for each month\n",
    "    for month in range(1, n):\n",
    "        # Calculate new rabbits born this month\n",
    "        new_rabbits = sum(rabbits[1:])  # All rabbits except newborns reproduce\n",
    "\n",
    "        # Shift the rabbit population, removing rabbits that die\n",
    "        rabbits = [new_rabbits] + rabbits[:-1]\n",
    "\n",
    "    # Return the total number of rabbit pairs alive\n",
    "    return sum(rabbits)\n",
    "\n",
    "# Get input from the user\n",
    "n, m = map(int, input(\"Enter n and m separated by a space: \").split())\n",
    "\n",
    "# Calculate and print the result\n",
    "result = mortal_fibonacci_rabbits(n, m)\n",
    "print(result)"
   ]
  },
  {
   "cell_type": "markdown",
   "id": "bd21afe4-5fe5-4324-8dd4-d5bc0556206d",
   "metadata": {},
   "source": [
    "# Overlap Graphs \n",
    "### A Brief Introduction to Graph Theory"
   ]
  },
  {
   "cell_type": "markdown",
   "id": "4498da9c-c828-4ace-9a6f-e5a61fcd0341",
   "metadata": {},
   "source": [
    "Sample Dataset : \n",
    ">Sequence_0498 : \n",
    "AAATAAA , \n",
    ">Sequence_2391 :\n",
    "AAATTTT , \n",
    ">Sequence_2323 :\n",
    "TTTTCCC , \n",
    ">Sequence_0442 :\n",
    "AAATCCC , \n",
    ">Sequence_5013 :\n",
    "GGGTGGG"
   ]
  },
  {
   "cell_type": "markdown",
   "id": "2acc098b-dd0e-4490-a02e-30da532bb7f9",
   "metadata": {},
   "source": [
    "logic: This function parses the FASTA format input and returns a dictionary where keys are sequence IDs and values are the DNA sequences.\n",
    "It checks each pair of sequences to see if the k-length suffix of one matches the k-length prefix of the other. We get the input from the user in FASTA format. We parse the FASTA input using our parse_fasta function. We create the overlap graph with k=3 using our overlap_graph function. Enter the DNA strings in FASTA format when prompted. Press Enter twice to finish input. The script will output the adjacency list for the overlap graph."
   ]
  },
  {
   "cell_type": "code",
   "execution_count": 41,
   "id": "4f287ddd-346d-4722-a992-76f95b4822dc",
   "metadata": {},
   "outputs": [
    {
     "name": "stdout",
     "output_type": "stream",
     "text": [
      "Enter the DNA strings one at a time (press Enter without input to finish):\n"
     ]
    },
    {
     "name": "stdin",
     "output_type": "stream",
     "text": [
      " Sequence_0498 : AAATAAA\n",
      " Sequence_2391 : AAATTTT\n",
      " Sequence_2323 : TTTTCCC\n",
      " Sequence_0442 : AAATCCC\n",
      " Sequence_5013 : GGGTGGG\n",
      " \n"
     ]
    },
    {
     "name": "stdout",
     "output_type": "stream",
     "text": [
      "Sequence_0498 Sequence_2391\n",
      "Sequence_0498 Sequence_0442\n",
      "Sequence_2391 Sequence_2323\n"
     ]
    }
   ],
   "source": [
    "def overlap_graph(sequences, k):\n",
    "    adjacency_list = []\n",
    "    for id1, seq1 in sequences.items():\n",
    "        suffix = seq1[-k:]\n",
    "        for id2, seq2 in sequences.items():\n",
    "            if id1 != id2 and seq2.startswith(suffix):\n",
    "                adjacency_list.append((id1, id2))\n",
    "    return adjacency_list\n",
    "\n",
    "# Get input from the user\n",
    "print(\"Enter the DNA strings one at a time (press Enter without input to finish):\")\n",
    "sequences = {}\n",
    "while True:\n",
    "    input_data = input().strip()\n",
    "    if not input_data:\n",
    "        break\n",
    "    parts = input_data.split(':')\n",
    "    if len(parts) == 2:\n",
    "        seq_id = parts[0].strip()\n",
    "        seq = parts[1].strip()\n",
    "        sequences[seq_id] = seq\n",
    "    else:\n",
    "        print(\"Invalid input format. Please use 'Sequence_ID : DNASEQUENCE'\")\n",
    "\n",
    "# Create overlap graph with k=3\n",
    "k = 3\n",
    "graph = overlap_graph(sequences, k)\n",
    "\n",
    "# Print results\n",
    "if graph:\n",
    "    for edge in graph:\n",
    "        print(f\"{edge[0]} {edge[1]}\")\n",
    "else:\n",
    "    print(\"No overlaps found.\")\n",
    "\n",
    "\n",
    "\n",
    "\n",
    "\n"
   ]
  },
  {
   "cell_type": "markdown",
   "id": "222df22f-c365-4498-9ed5-fca62ddbf465",
   "metadata": {},
   "source": [
    "# Calculating Expected Offspring"
   ]
  },
  {
   "cell_type": "markdown",
   "id": "160d6e86-a040-44c7-a41a-4c48c7b30de9",
   "metadata": {},
   "source": [
    "Sample Dataset : 1 0 0 1 0 1"
   ]
  },
  {
   "cell_type": "markdown",
   "id": "93347bcc-f97c-44e0-9838-0a1fd33c9780",
   "metadata": {},
   "source": [
    "logic: We define a function expected_dominant_offspring that takes a list of the number of couples for each genotype pairing. We define a list of probabilities for each genotype pairing to produce offspring with the dominant phenotype:\n",
    "\n",
    "AA-AA: 1 (100%)\n",
    "AA-Aa: 1 (100%)\n",
    "AA-aa: 1 (100%)\n",
    "Aa-Aa: 0.75 (75%)\n",
    "Aa-aa: 0.5 (50%)\n",
    "aa-aa: 0 (0%)"
   ]
  },
  {
   "cell_type": "code",
   "execution_count": 42,
   "id": "f35bf613-c087-41c1-8b8d-567cf94d666f",
   "metadata": {},
   "outputs": [
    {
     "name": "stdin",
     "output_type": "stream",
     "text": [
      "Enter six integers separated by spaces:  1 0 0 1 0 1\n"
     ]
    },
    {
     "name": "stdout",
     "output_type": "stream",
     "text": [
      "3.5\n"
     ]
    }
   ],
   "source": [
    "def expected_dominant_offspring(couples):\n",
    "    # Probability of dominant phenotype for each genotype pairing\n",
    "    probabilities = [1, 1, 1, 0.75, 0.5, 0]\n",
    "    \n",
    "    # Calculate expected value\n",
    "    expected = sum(c * p * 2 for c, p in zip(couples, probabilities))\n",
    "    \n",
    "    return expected\n",
    "\n",
    "# Get input from the user\n",
    "input_data = input(\"Enter six integers separated by spaces: \")\n",
    "couples = list(map(int, input_data.split()))\n",
    "\n",
    "if len(couples) != 6:\n",
    "    print(\"Error: You must enter exactly 6 integers.\")\n",
    "else:\n",
    "    result = expected_dominant_offspring(couples)\n",
    "    print(f\"{result:.1f}\")"
   ]
  },
  {
   "cell_type": "markdown",
   "id": "bd51521c-5180-4de8-9f0c-2cf7d337a215",
   "metadata": {},
   "source": [
    "# Finding a Shared Motif"
   ]
  },
  {
   "cell_type": "markdown",
   "id": "675b4dde-7fd4-4ad5-a2f9-1b420ef1eaf2",
   "metadata": {},
   "source": [
    "Sample Dataset : \n",
    ">Sequence_1\n",
    "GATTACA\n",
    ">Sequence_2\n",
    "TAGACCA\n",
    ">Sequence_3\n",
    "ATACA"
   ]
  },
  {
   "cell_type": "markdown",
   "id": "58642201-180f-44af-964a-879ed04dea2b",
   "metadata": {},
   "source": [
    "logic: To solve this problem, we'll implement a function that finds the longest common substring of a collection of DNA strings."
   ]
  },
  {
   "cell_type": "code",
   "execution_count": 47,
   "id": "1314bdbe-dad5-4c50-b78c-d8897b6dde45",
   "metadata": {},
   "outputs": [
    {
     "name": "stdout",
     "output_type": "stream",
     "text": [
      "Enter the DNA strings (press Enter twice to finish):\n"
     ]
    },
    {
     "name": "stdin",
     "output_type": "stream",
     "text": [
      " Sequence_1 GATTACA\n",
      " Sequence_2 TAGACCA\n",
      " Sequence_3 ATACA\n",
      " \n"
     ]
    },
    {
     "name": "stdout",
     "output_type": "stream",
     "text": [
      "Longest common substrings:\n",
      "TA\n",
      "AC\n",
      "CA\n"
     ]
    }
   ],
   "source": [
    "def parse_input(input_string):\n",
    "    sequences = {}\n",
    "    for line in input_string.split('\\n'):\n",
    "        parts = line.strip().split()\n",
    "        if len(parts) == 2:\n",
    "            sequences[parts[0]] = parts[1]\n",
    "    return sequences\n",
    "\n",
    "def longest_common_substring(strings):\n",
    "    if not strings:\n",
    "        return []\n",
    "    \n",
    "    ref = strings[0]\n",
    "    longest = []\n",
    "    max_length = 0\n",
    "    \n",
    "    for i in range(len(ref)):\n",
    "        for j in range(i + 1, len(ref) + 1):\n",
    "            substring = ref[i:j]\n",
    "            \n",
    "            if all(substring in s for s in strings[1:]):\n",
    "                if len(substring) > max_length:\n",
    "                    longest = [substring]\n",
    "                    max_length = len(substring)\n",
    "                elif len(substring) == max_length and substring not in longest:\n",
    "                    longest.append(substring)\n",
    "    \n",
    "    return longest\n",
    "\n",
    "# Get input from the user\n",
    "print(\"Enter the DNA strings (press Enter twice to finish):\")\n",
    "input_data = ''\n",
    "while True:\n",
    "    line = input()\n",
    "    if line == '':\n",
    "        break\n",
    "    input_data += line + '\\n'\n",
    "\n",
    "# Parse input\n",
    "sequences = parse_input(input_data)\n",
    "\n",
    "# Find longest common substrings\n",
    "results = longest_common_substring(list(sequences.values()))\n",
    "\n",
    "# Print results\n",
    "print(\"Longest common substrings:\")\n",
    "for result in results:\n",
    "    print(result)"
   ]
  },
  {
   "cell_type": "markdown",
   "id": "66998a7f-2901-4893-a146-5b9099128651",
   "metadata": {},
   "source": [
    "# Mendel's Law of Independent Assortment"
   ]
  },
  {
   "cell_type": "markdown",
   "id": "eb4c546b-3fb0-484f-ab43-bb0bdec45396",
   "metadata": {},
   "source": [
    "Sample Dataset : 2 1"
   ]
  },
  {
   "cell_type": "markdown",
   "id": "ee95b5da-1c50-4801-ac08-1ab8a4a8fe3a",
   "metadata": {},
   "source": [
    "logic: We import the comb function from the math module to calculate combinations. The binomial probability formula we're using is:     P(X ≥ N) = Σ(i=N to 2^k) C(2^k, i) * p^i * (1-p)^(2^k-i)\n",
    "Where: X is the number of AaBb organisms C(n,k) is the number of ways to choose k items from n items p is the probability of an individual being AaBb (0.25)"
   ]
  },
  {
   "cell_type": "code",
   "execution_count": 49,
   "id": "90271f56-ce5f-4287-84b3-e2cc7bc68c51",
   "metadata": {},
   "outputs": [
    {
     "name": "stdin",
     "output_type": "stream",
     "text": [
      "Enter k and N separated by a space:  2 1\n"
     ]
    },
    {
     "name": "stdout",
     "output_type": "stream",
     "text": [
      "0.684\n"
     ]
    }
   ],
   "source": [
    "from math import comb\n",
    "\n",
    "def probability_AaBb(k, N):\n",
    "    # Probability of an offspring being AaBb\n",
    "    p_AaBb = 0.25\n",
    "    \n",
    "    # Total number of organisms in k-th generation\n",
    "    total_organisms = 2**k\n",
    "    \n",
    "    # Calculate probability of at least N AaBb organisms\n",
    "    probability = 0\n",
    "    for i in range(N, total_organisms + 1):\n",
    "        probability += comb(total_organisms, i) * (p_AaBb**i) * ((1-p_AaBb)**(total_organisms-i))\n",
    "    \n",
    "    return probability\n",
    "\n",
    "# Get input from user\n",
    "k, N = map(int, input(\"Enter k and N separated by a space: \").split())\n",
    "\n",
    "# Calculate and print the result\n",
    "result = probability_AaBb(k, N)\n",
    "print(f\"{result:.3f}\")"
   ]
  },
  {
   "cell_type": "markdown",
   "id": "9c5f4278-b7fd-4801-8857-28c71a11e759",
   "metadata": {},
   "source": [
    "# Finding a Protein Motif"
   ]
  },
  {
   "cell_type": "markdown",
   "id": "ef353608-5b11-45b2-b2e9-6b062beb24d2",
   "metadata": {},
   "source": [
    "Sample Dataset :             \n",
    "A2Z669 , \n",
    "B5ZC00 , \n",
    "P07204_TRBM_HUMAN , \n",
    "P20840_SAG1_YEAST"
   ]
  },
  {
   "cell_type": "markdown",
   "id": "ef2a7041-56d1-405f-9eb6-7619da7de8dd",
   "metadata": {},
   "source": [
    "logic: To solve this problem, we need to create a script that can fetch protein sequences from UniProt and then search for the N-glycosylation motif in these sequences. We import the re module for regular expressions and the requests module to fetch data from the UniProt website. fetch_protein_sequence(uniprot_id): This function fetches the protein sequence in FASTA format from UniProt and returns just the sequence (without the header). find_n_glycosylation_motif(sequence): This function uses a regular expression to find all occurrences of the N-glycosylation motif in the sequence. It returns a list of starting positions (1-indexed). process_proteins(uniprot_ids): This function processes each UniProt ID, fetches its sequence, finds the motif positions, and prints the results if any motifs are found. We get the input UniProt IDs from the user. "
   ]
  },
  {
   "cell_type": "code",
   "execution_count": 55,
   "id": "586c7e6b-e6bd-4f20-a5a4-7b8b70e7e43b",
   "metadata": {},
   "outputs": [
    {
     "name": "stdout",
     "output_type": "stream",
     "text": [
      "Enter UniProt IDs (one per line, press Enter twice to finish):\n"
     ]
    },
    {
     "name": "stdin",
     "output_type": "stream",
     "text": [
      " B5ZC00\n",
      " A2Z669\n",
      " P07204_TRBM_HUMAN\n",
      " P20840_SAG1_YEAST\n",
      " \n"
     ]
    },
    {
     "name": "stdout",
     "output_type": "stream",
     "text": [
      "B5ZC00\n",
      "85 118 142 306 395\n",
      "P07204_TRBM_HUMAN\n",
      "47 115 382 409\n",
      "P20840_SAG1_YEAST\n",
      "79 109 135 248 306 348 364 402 485 501 614\n"
     ]
    }
   ],
   "source": [
    "import re\n",
    "import requests\n",
    "\n",
    "def fetch_protein_sequence(uniprot_id):\n",
    "    # Try different URL formats\n",
    "    urls = [\n",
    "        f\"https://www.uniprot.org/uniprot/{uniprot_id}.fasta\",\n",
    "        f\"https://rest.uniprot.org/uniprotkb/{uniprot_id}.fasta\",\n",
    "        f\"https://www.uniprot.org/uniprot/{uniprot_id.split('_')[0]}.fasta\"\n",
    "    ]\n",
    "    \n",
    "    for url in urls:\n",
    "        try:\n",
    "            response = requests.get(url)\n",
    "            response.raise_for_status()\n",
    "            lines = response.text.split('\\n')\n",
    "            return ''.join(lines[1:])  # Skip the header line\n",
    "        except requests.exceptions.RequestException:\n",
    "            continue\n",
    "    \n",
    "    print(f\"Error: Failed to fetch sequence for {uniprot_id}\")\n",
    "    return None\n",
    "\n",
    "def find_n_glycosylation_motif(sequence):\n",
    "    pattern = r'N[^P][ST][^P]'\n",
    "    matches = re.finditer(pattern, sequence)\n",
    "    return [match.start() + 1 for match in matches]  # +1 for 1-based indexing\n",
    "\n",
    "def process_proteins(uniprot_ids):\n",
    "    for uniprot_id in uniprot_ids:        \n",
    "        sequence = fetch_protein_sequence(uniprot_id)\n",
    "        if sequence:\n",
    "            motif_positions = find_n_glycosylation_motif(sequence)\n",
    "            if motif_positions:\n",
    "                print(uniprot_id)\n",
    "                print(' '.join(map(str, motif_positions)))\n",
    "\n",
    "# Get input from the user\n",
    "print(\"Enter UniProt IDs (one per line, press Enter twice to finish):\")\n",
    "uniprot_ids = []\n",
    "while True:\n",
    "    line = input().strip()\n",
    "    if not line:\n",
    "        break\n",
    "    uniprot_ids.append(line)\n",
    "\n",
    "# Process the proteins\n",
    "process_proteins(uniprot_ids)"
   ]
  },
  {
   "cell_type": "markdown",
   "id": "eb174cc8-91d8-4875-bad8-805827d01b60",
   "metadata": {},
   "source": [
    "# Inferring mRNA from Protein"
   ]
  },
  {
   "cell_type": "markdown",
   "id": "b67568a8-6066-4a7b-b221-d422c3e6d5c3",
   "metadata": {},
   "source": [
    "Sample Dataset :  \n",
    "MA"
   ]
  },
  {
   "cell_type": "markdown",
   "id": "1e464806-08e8-41ea-bc37-d835b0c3bfd4",
   "metadata": {},
   "source": [
    "logic: In order to solve this problem we need to calculate the number of possible RNA sequences that could produce a given protein sequence, considering the genetic code and the stop codon. We start with a total of 1 and iterate through each amino acid in the protein, and for each amino acid, we multiply the total by the number of codons that can encode it. We use the modulo operation after each multiplication to keep the number manageable. After processing all amino acids, we multiply by the number of stop codons (3) to account for the end of the protein. We return the final total, which is the number of possible RNA sequences modulo 1,000,000."
   ]
  },
  {
   "cell_type": "code",
   "execution_count": 57,
   "id": "325fcb75-374b-4344-8ddf-7be59c270cfe",
   "metadata": {},
   "outputs": [
    {
     "name": "stdin",
     "output_type": "stream",
     "text": [
      "Enter the protein sequence:  MA\n"
     ]
    },
    {
     "name": "stdout",
     "output_type": "stream",
     "text": [
      "12\n"
     ]
    }
   ],
   "source": [
    "def count_rna_sequences(protein):\n",
    "    modulo = 1000000\n",
    "    codon_count = {\n",
    "        'F': 2, 'L': 6, 'S': 6, 'Y': 2, 'C': 2, 'W': 1,\n",
    "        'P': 4, 'H': 2, 'Q': 2, 'R': 6, 'I': 3, 'M': 1,\n",
    "        'T': 4, 'N': 2, 'K': 2, 'V': 4, 'A': 4, 'D': 2,\n",
    "        'E': 2, 'G': 4\n",
    "    }\n",
    "    stop_codons = 3  # UAA, UAG, UGA\n",
    "\n",
    "    total = 1\n",
    "    for amino_acid in protein:\n",
    "        total = (total * codon_count[amino_acid]) % modulo\n",
    "\n",
    "    # Multiply by the number of stop codons for the last position\n",
    "    total = (total * stop_codons) % modulo\n",
    "\n",
    "    return total\n",
    "\n",
    "# Get input from the user\n",
    "protein = input(\"Enter the protein sequence: \").strip()\n",
    "\n",
    "# Calculate and print the result\n",
    "result = count_rna_sequences(protein)\n",
    "print(result)"
   ]
  },
  {
   "cell_type": "markdown",
   "id": "c5e6ba03-71de-4114-9121-c4a4d64e8891",
   "metadata": {},
   "source": [
    "# Open Reading Frames"
   ]
  },
  {
   "cell_type": "markdown",
   "id": "cbc6343a-e63e-44aa-a5ee-65c55fbf64e5",
   "metadata": {},
   "source": [
    "Sample Dataset :\n",
    ">Sequence_99\n",
    "AGCCATGTAGCTAACTCAGGTTACATGGGGATGACCCCGCGACTTGGATTAGAGTCTCTTTTGGAATAAGCCTGAATGATCCGAGTAGCATCTCAG"
   ]
  },
  {
   "cell_type": "markdown",
   "id": "349a92ea-302b-40d2-b028-44d8f8a38f8e",
   "metadata": {},
   "source": [
    "logic: An open reading frame (ORF) is one which starts from the start codon and ends by stop codon, without any other stop codons in between. First we need to save the DNA sequence in FASTA format to a file (e.g., sequence.fasta). We then run the script and enter the filename when prompted. We then import necessary modules from Biopython. The find_orfs function does the main work, and it considers both the original sequence and its reverse complement. For each strand, it checks all three reading frames. It looks for start codons ('ATG') and then searches for the next stop codon. When it finds a complete ORF, it translates it to a protein sequence. It uses a set to store unique protein sequences. Finally we read the FASTA file. We call find_orfs to get all possible protein sequences."
   ]
  },
  {
   "cell_type": "code",
   "execution_count": 64,
   "id": "6e424894-0df2-4928-bf2d-de2c0550de9a",
   "metadata": {},
   "outputs": [
    {
     "name": "stdin",
     "output_type": "stream",
     "text": [
      "Enter the sequence data:  Sequence_99 AGCCATGTAGCTAACTCAGGTTACATGGGGATGACCCCGCGACTTGGATTAGAGTCTCTTTTGGAATAAGCCTGAATGATCCGAGTAGCATCTCAG\n"
     ]
    },
    {
     "name": "stdout",
     "output_type": "stream",
     "text": [
      "MTPRLGLESLLE\n",
      "MLLGSFRLIPKETLIQVAGSSPCNLS\n",
      "MGMTPRLGLESLLE\n",
      "M\n"
     ]
    }
   ],
   "source": [
    "def reverse_complement(dna):\n",
    "    complement = {'A': 'T', 'C': 'G', 'G': 'C', 'T': 'A'}\n",
    "    return ''.join(complement[base] for base in reversed(dna))\n",
    "\n",
    "def translate(seq):\n",
    "    codon_table = {\n",
    "        'ATA':'I', 'ATC':'I', 'ATT':'I', 'ATG':'M',\n",
    "        'ACA':'T', 'ACC':'T', 'ACG':'T', 'ACT':'T',\n",
    "        'AAC':'N', 'AAT':'N', 'AAA':'K', 'AAG':'K',\n",
    "        'AGC':'S', 'AGT':'S', 'AGA':'R', 'AGG':'R',\n",
    "        'CTA':'L', 'CTC':'L', 'CTG':'L', 'CTT':'L',\n",
    "        'CCA':'P', 'CCC':'P', 'CCG':'P', 'CCT':'P',\n",
    "        'CAC':'H', 'CAT':'H', 'CAA':'Q', 'CAG':'Q',\n",
    "        'CGA':'R', 'CGC':'R', 'CGG':'R', 'CGT':'R',\n",
    "        'GTA':'V', 'GTC':'V', 'GTG':'V', 'GTT':'V',\n",
    "        'GCA':'A', 'GCC':'A', 'GCG':'A', 'GCT':'A',\n",
    "        'GAC':'D', 'GAT':'D', 'GAA':'E', 'GAG':'E',\n",
    "        'GGA':'G', 'GGC':'G', 'GGG':'G', 'GGT':'G',\n",
    "        'TCA':'S', 'TCC':'S', 'TCG':'S', 'TCT':'S',\n",
    "        'TTC':'F', 'TTT':'F', 'TTA':'L', 'TTG':'L',\n",
    "        'TAC':'Y', 'TAT':'Y', 'TAA':'_', 'TAG':'_',\n",
    "        'TGC':'C', 'TGT':'C', 'TGA':'_', 'TGG':'W',\n",
    "    }\n",
    "    protein = \"\"\n",
    "    for i in range(0, len(seq), 3):\n",
    "        codon = seq[i:i+3]\n",
    "        if len(codon) == 3:\n",
    "            amino_acid = codon_table.get(codon, 'X')\n",
    "            if amino_acid == '_':\n",
    "                break\n",
    "            protein += amino_acid\n",
    "    return protein\n",
    "\n",
    "def find_orfs(seq):\n",
    "    orfs = set()\n",
    "    \n",
    "    for strand in [seq, reverse_complement(seq)]:\n",
    "        for frame in range(3):\n",
    "            for start in range(frame, len(strand)-2, 3):\n",
    "                if strand[start:start+3] == 'ATG':\n",
    "                    for end in range(start+3, len(strand)-2, 3):\n",
    "                        codon = strand[end:end+3]\n",
    "                        if codon in ['TAA', 'TAG', 'TGA']:\n",
    "                            orf = strand[start:end+3]\n",
    "                            protein = translate(orf)\n",
    "                            orfs.add(protein)\n",
    "                            break\n",
    "    return list(orfs)\n",
    "\n",
    "# Get input from the user\n",
    "input_data = input(\"Enter the sequence data: \").strip()\n",
    "\n",
    "# Parse input\n",
    "parts = input_data.split()\n",
    "if len(parts) == 2:\n",
    "    seq_id, dna_seq = parts\n",
    "else:\n",
    "    print(\"Invalid input format. Please use 'Sequence_ID DNASEQUENCE'\")\n",
    "    exit()\n",
    "\n",
    "# Find ORFs and translate to proteins\n",
    "proteins = find_orfs(dna_seq)\n",
    "\n",
    "# Print results\n",
    "for protein in proteins:\n",
    "    print(protein)"
   ]
  },
  {
   "cell_type": "markdown",
   "id": "4725733a-dd60-4fe9-818d-6d8f30e9aebd",
   "metadata": {},
   "source": [
    "# Enumerating Gene Orders"
   ]
  },
  {
   "cell_type": "markdown",
   "id": "531cc12d-861b-4f4f-811a-a11574819206",
   "metadata": {},
   "source": [
    "### Rearrangements Power Large-Scale Genomic Changes"
   ]
  },
  {
   "cell_type": "markdown",
   "id": "6aa321fa-0890-4fcc-89e2-75fcc58284c0",
   "metadata": {},
   "source": [
    "Sample Dataset : 3"
   ]
  },
  {
   "cell_type": "markdown",
   "id": "597cd442-76c7-48b3-bb44-9404e15dc25c",
   "metadata": {},
   "source": [
    "logic: We import the itertools module, which provides the permutations function. We define a function that uses itertools.permutations(range(1, n+1)) to generate all permutations of numbers from 1 to n. It converts the result to a list and counts the total number of permutations. It returns both the total count and the list of permutations."
   ]
  },
  {
   "cell_type": "code",
   "execution_count": 66,
   "id": "dc5dad51-9a7c-4073-97a4-f8878c5ead3b",
   "metadata": {},
   "outputs": [
    {
     "name": "stdin",
     "output_type": "stream",
     "text": [
      "Enter a positive integer n (≤7):  3\n"
     ]
    },
    {
     "name": "stdout",
     "output_type": "stream",
     "text": [
      "6\n",
      "1 2 3\n",
      "1 3 2\n",
      "2 1 3\n",
      "2 3 1\n",
      "3 1 2\n",
      "3 2 1\n"
     ]
    }
   ],
   "source": [
    "import itertools\n",
    "\n",
    "def generate_permutations(n):\n",
    "    # Generate all permutations\n",
    "    perms = list(itertools.permutations(range(1, n+1)))\n",
    "    \n",
    "    # Count the total number of permutations\n",
    "    total = len(perms)\n",
    "    \n",
    "    return total, perms\n",
    "\n",
    "# Get input from the user\n",
    "n = int(input(\"Enter a positive integer n (≤7): \"))\n",
    "\n",
    "# Generate permutations\n",
    "total, permutations = generate_permutations(n)\n",
    "\n",
    "# Print results\n",
    "print(total)\n",
    "for perm in permutations:\n",
    "    print(' '.join(map(str, perm)))"
   ]
  },
  {
   "cell_type": "markdown",
   "id": "61902f10-abf1-4cfa-a497-13e88429c9a1",
   "metadata": {},
   "source": [
    "# Calculating Protein Mass"
   ]
  },
  {
   "cell_type": "markdown",
   "id": "b9977d1b-597e-42b6-9c6b-b61b90de4179",
   "metadata": {},
   "source": [
    "Sample Dataset : \n",
    "SKADYEK"
   ]
  },
  {
   "cell_type": "markdown",
   "id": "f12ccd58-5c4b-43ec-bea4-97ad7abd5a5d",
   "metadata": {},
   "source": [
    "logic: To solve this problem, we need to calculate the total weight of a protein string based on the monoisotopic mass of each amino acid. The script will work for any valid protein string up to 1000 amino acids long, as specified in the problem. It assumes that the input string contains only valid amino acid symbols (A, C, D, E, F, G, H, I, K, L, M, N, P, Q, R, S, T, V, W, Y). "
   ]
  },
  {
   "cell_type": "code",
   "execution_count": 68,
   "id": "f83a4bf6-9ca0-471d-8dff-e99a89111db8",
   "metadata": {},
   "outputs": [
    {
     "name": "stdin",
     "output_type": "stream",
     "text": [
      "Enter the protein string:  SKADYEK\n"
     ]
    },
    {
     "name": "stdout",
     "output_type": "stream",
     "text": [
      "821.392\n"
     ]
    }
   ],
   "source": [
    "def protein_mass(protein_string):\n",
    "    # Monoisotopic mass table for amino acids\n",
    "    mass_table = {\n",
    "        'A': 71.03711,\n",
    "        'C': 103.00919,\n",
    "        'D': 115.02694,\n",
    "        'E': 129.04259,\n",
    "        'F': 147.06841,\n",
    "        'G': 57.02146,\n",
    "        'H': 137.05891,\n",
    "        'I': 113.08406,\n",
    "        'K': 128.09496,\n",
    "        'L': 113.08406,\n",
    "        'M': 131.04049,\n",
    "        'N': 114.04293,\n",
    "        'P': 97.05276,\n",
    "        'Q': 128.05858,\n",
    "        'R': 156.10111,\n",
    "        'S': 87.03203,\n",
    "        'T': 101.04768,\n",
    "        'V': 99.06841,\n",
    "        'W': 186.07931,\n",
    "        'Y': 163.06333\n",
    "    }\n",
    "\n",
    "    total_mass = sum(mass_table[aa] for aa in protein_string)\n",
    "    return round(total_mass, 3)\n",
    "\n",
    "# Get input from the user\n",
    "protein_string = input(\"Enter the protein string: \").strip()\n",
    "\n",
    "# Calculate and print the result\n",
    "result = protein_mass(protein_string)\n",
    "print(result)"
   ]
  },
  {
   "cell_type": "markdown",
   "id": "fa9ea51d-3e7a-4b24-9847-acbbbedd1a1f",
   "metadata": {},
   "source": [
    "# Locating Restriction Sites"
   ]
  },
  {
   "cell_type": "code",
   "execution_count": null,
   "id": "5d0a1166-facb-4d1b-b460-ad8019ed1acc",
   "metadata": {},
   "outputs": [],
   "source": [
    ">Sequence_24 TCAATGCATGCGGGTCTATATGCAT"
   ]
  },
  {
   "cell_type": "markdown",
   "id": "60632683-a085-44ff-a001-74a65ae34739",
   "metadata": {},
   "source": [
    "logic: The restriction enzyme is a homodimer, which means that it is composed of two identical substructures. Each of these structures separates from the restriction enzyme in order to bind to and cut one strand of the phage DNA molecule; both substructures are pre-programmed with the same target string containing 4 to 12 nucleotides to search for within the phage DNA. For this reason we need a script that finds all reverse palindromes in a given DNA sequence, with lengths between 4 and 12."
   ]
  },
  {
   "cell_type": "code",
   "execution_count": 72,
   "id": "a0e4e035-798e-4b76-aa4a-a7a81efd69d5",
   "metadata": {},
   "outputs": [
    {
     "name": "stdin",
     "output_type": "stream",
     "text": [
      "Enter the DNA sequence:  Sequence_24 TCAATGCATGCGGGTCTATATGCAT\n"
     ]
    },
    {
     "name": "stdout",
     "output_type": "stream",
     "text": [
      "4 6\n",
      "5 4\n",
      "6 6\n",
      "7 4\n",
      "17 4\n",
      "18 4\n",
      "20 6\n",
      "21 4\n"
     ]
    }
   ],
   "source": [
    "def reverse_complement(dna):\n",
    "    complement = {'A': 'T', 'T': 'A', 'C': 'G', 'G': 'C'}\n",
    "    return ''.join(complement[base] for base in reversed(dna))\n",
    "\n",
    "def find_reverse_palindromes(dna):\n",
    "    palindromes = []\n",
    "    for i in range(len(dna)):\n",
    "        for length in range(4, 13):  # lengths from 4 to 12\n",
    "            if i + length > len(dna):\n",
    "                break\n",
    "            substring = dna[i:i+length]\n",
    "            if substring == reverse_complement(substring):\n",
    "                palindromes.append((i+1, length))  # +1 because positions are 1-indexed\n",
    "    return palindromes\n",
    "\n",
    "def parse_input(input_string):\n",
    "    parts = input_string.strip().split()\n",
    "    if len(parts) == 2:\n",
    "        return parts[1]  # Return just the DNA sequence\n",
    "    else:\n",
    "        raise ValueError(\"Invalid input format\")\n",
    "\n",
    "# Get input from the user\n",
    "input_data = input(\"Enter the DNA sequence: \").strip()\n",
    "\n",
    "try:\n",
    "    # Parse input\n",
    "    dna_sequence = parse_input(input_data)\n",
    "\n",
    "    # Find reverse palindromes\n",
    "    results = find_reverse_palindromes(dna_sequence)\n",
    "\n",
    "    # Print results\n",
    "    for position, length in results:\n",
    "        print(f\"{position} {length}\")\n",
    "\n",
    "except ValueError as e:\n",
    "    print(f\"Error: {e}\")"
   ]
  },
  {
   "cell_type": "markdown",
   "id": "8947d8d6-5e8c-4c92-b46a-9e9e43fb89a6",
   "metadata": {},
   "source": [
    "# RNA Splicing"
   ]
  },
  {
   "cell_type": "code",
   "execution_count": null,
   "id": "69a23754-8a88-4af2-a240-534a88bc974f",
   "metadata": {},
   "outputs": [],
   "source": [
    "Sample Dataset\n",
    ">Sequence_10\n",
    "ATGGTCTACATAGCTGACAAACAGCACGTAGCAATCGGTCGAATCTCGAGAGGCATATGGTCACATGATCGGTCGAGCGTGTTTCAAAGTTTGCGCCTAG\n",
    ">Sequence_12\n",
    "ATCGGTCGAA\n",
    ">Sequence_15\n",
    "ATCGGTCGAGCGTGT"
   ]
  },
  {
   "cell_type": "markdown",
   "id": "5b3f4058-94b6-4211-871c-76212619df40",
   "metadata": {},
   "source": [
    "logic: We'll need to parse the FASTA input, remove the introns from the DNA sequence, transcribe it to RNA, and then translate it to a protein sequence. Enter your DNA sequences in FASTA format when prompted. The first sequence should be the main DNA string, followed by the intron sequences. Press Enter twice to finish input. The script will output the protein sequence."
   ]
  },
  {
   "cell_type": "code",
   "execution_count": 74,
   "id": "3756b432-6ae2-4874-9fac-78b6443342c3",
   "metadata": {},
   "outputs": [
    {
     "name": "stdout",
     "output_type": "stream",
     "text": [
      "Enter the DNA sequences (press Enter twice to finish):\n"
     ]
    },
    {
     "name": "stdin",
     "output_type": "stream",
     "text": [
      " >Sequence_10 ATGGTCTACATAGCTGACAAACAGCACGTAGCAATCGGTCGAATCTCGAGAGGCATATGGTCACATGATCGGTCGAGCGTGTTTCAAAGTTTGCGCCTAG\n",
      " >Sequence_12 ATCGGTCGAA\n",
      " >Sequence_15 ATCGGTCGAGCGTGT\n",
      " \n"
     ]
    },
    {
     "name": "stdout",
     "output_type": "stream",
     "text": [
      "MVYIADKQHVASREAYGHMFKVCA\n"
     ]
    }
   ],
   "source": [
    "def parse_input(input_string):\n",
    "    sequences = {}\n",
    "    for line in input_string.split('\\n'):\n",
    "        parts = line.strip().split()\n",
    "        if len(parts) == 2:\n",
    "            sequences[parts[0]] = parts[1]\n",
    "    return sequences\n",
    "\n",
    "def remove_introns(dna, introns):\n",
    "    for intron in introns:\n",
    "        dna = dna.replace(intron, '')\n",
    "    return dna\n",
    "\n",
    "def transcribe(dna):\n",
    "    return dna.replace('T', 'U')\n",
    "\n",
    "def translate(rna):\n",
    "    codon_table = {\n",
    "        'UUU': 'F', 'UUC': 'F', 'UUA': 'L', 'UUG': 'L', 'CUU': 'L', 'CUC': 'L', 'CUA': 'L', 'CUG': 'L',\n",
    "        'AUU': 'I', 'AUC': 'I', 'AUA': 'I', 'AUG': 'M', 'GUU': 'V', 'GUC': 'V', 'GUA': 'V', 'GUG': 'V',\n",
    "        'UCU': 'S', 'UCC': 'S', 'UCA': 'S', 'UCG': 'S', 'CCU': 'P', 'CCC': 'P', 'CCA': 'P', 'CCG': 'P',\n",
    "        'ACU': 'T', 'ACC': 'T', 'ACA': 'T', 'ACG': 'T', 'GCU': 'A', 'GCC': 'A', 'GCA': 'A', 'GCG': 'A',\n",
    "        'UAU': 'Y', 'UAC': 'Y', 'UAA': '_', 'UAG': '_', 'CAU': 'H', 'CAC': 'H', 'CAA': 'Q', 'CAG': 'Q',\n",
    "        'AAU': 'N', 'AAC': 'N', 'AAA': 'K', 'AAG': 'K', 'GAU': 'D', 'GAC': 'D', 'GAA': 'E', 'GAG': 'E',\n",
    "        'UGU': 'C', 'UGC': 'C', 'UGA': '_', 'UGG': 'W', 'CGU': 'R', 'CGC': 'R', 'CGA': 'R', 'CGG': 'R',\n",
    "        'AGU': 'S', 'AGC': 'S', 'AGA': 'R', 'AGG': 'R', 'GGU': 'G', 'GGC': 'G', 'GGA': 'G', 'GGG': 'G'\n",
    "    }\n",
    "    protein = ''\n",
    "    for i in range(0, len(rna), 3):\n",
    "        codon = rna[i:i+3]\n",
    "        if len(codon) == 3:\n",
    "            amino_acid = codon_table.get(codon, '')\n",
    "            if amino_acid == '_':\n",
    "                break\n",
    "            protein += amino_acid\n",
    "    return protein\n",
    "\n",
    "# Get input from the user\n",
    "print(\"Enter the DNA sequences (press Enter twice to finish):\")\n",
    "input_data = ''\n",
    "while True:\n",
    "    line = input()\n",
    "    if line == '':\n",
    "        break\n",
    "    input_data += line + '\\n'\n",
    "\n",
    "# Parse input\n",
    "sequences = parse_input(input_data)\n",
    "\n",
    "# The first sequence is the main DNA string, the rest are introns\n",
    "dna = list(sequences.values())[0]\n",
    "introns = list(sequences.values())[1:]\n",
    "\n",
    "# Remove introns, transcribe to RNA, and translate to protein\n",
    "dna_without_introns = remove_introns(dna, introns)\n",
    "rna = transcribe(dna_without_introns)\n",
    "protein = translate(rna)\n",
    "\n",
    "# Print the result\n",
    "print(protein)"
   ]
  },
  {
   "cell_type": "markdown",
   "id": "1b37336a-5543-43e0-a761-6ffd55958f7a",
   "metadata": {},
   "source": [
    "# Enumerating k-mers Lexicographically"
   ]
  },
  {
   "cell_type": "markdown",
   "id": "05889dc6-ea3b-46ff-8801-e9ccf6819265",
   "metadata": {},
   "source": [
    "Sample Dataset : \n",
    "A C G T  ,  \n",
    "2"
   ]
  },
  {
   "cell_type": "markdown",
   "id": "11d724af-82f6-49ad-9b6f-8c835d0edf72",
   "metadata": {},
   "source": [
    "logic: In order to solve this problem we need a script that generates all possible strings of a given length from a given alphabet and orders them lexicographically. "
   ]
  },
  {
   "cell_type": "code",
   "execution_count": 76,
   "id": "66be0346-49e8-4cbc-9429-a92824d61dcc",
   "metadata": {},
   "outputs": [
    {
     "name": "stdin",
     "output_type": "stream",
     "text": [
      "Enter the alphabet symbols separated by spaces:  A C G T\n",
      "Enter the length of strings to generate:  2\n"
     ]
    },
    {
     "name": "stdout",
     "output_type": "stream",
     "text": [
      "AA\n",
      "AC\n",
      "AG\n",
      "AT\n",
      "CA\n",
      "CC\n",
      "CG\n",
      "CT\n",
      "GA\n",
      "GC\n",
      "GG\n",
      "GT\n",
      "TA\n",
      "TC\n",
      "TG\n",
      "TT\n"
     ]
    }
   ],
   "source": [
    "from itertools import product\n",
    "\n",
    "def generate_strings(alphabet, n):\n",
    "    # Generate all possible combinations\n",
    "    combinations = product(alphabet, repeat=n)\n",
    "    \n",
    "    # Convert each combination to a string and sort lexicographically\n",
    "    strings = sorted(''.join(combo) for combo in combinations)\n",
    "    \n",
    "    return strings\n",
    "\n",
    "# Get input from the user\n",
    "alphabet = input(\"Enter the alphabet symbols separated by spaces: \").split()\n",
    "n = int(input(\"Enter the length of strings to generate: \"))\n",
    "\n",
    "# Generate and print the strings\n",
    "result = generate_strings(alphabet, n)\n",
    "for string in result:\n",
    "    print(string)"
   ]
  },
  {
   "cell_type": "markdown",
   "id": "e1e48729-ad65-4764-ace2-fe0dffde0126",
   "metadata": {},
   "source": [
    "# Longest Increasing Subsequence"
   ]
  },
  {
   "cell_type": "markdown",
   "id": "4087ab39-9020-4e78-9bdd-4a8a05bcbed0",
   "metadata": {},
   "source": [
    "Sample Dataset :  \n",
    "5  ,  \n",
    "5 1 4 2 3"
   ]
  },
  {
   "cell_type": "markdown",
   "id": "d0bd2f25-3813-4667-b42a-6eac6e92bdea",
   "metadata": {},
   "source": [
    "logic: This problem requires implementing an algorithm to find the longest increasing subsequence (LIS) and longest decreasing subsequence (LDS) of a given permutation. We define two main functions, thelongest_increasing_subsequence(seq) and the longest_decreasing_subsequence(seq).  The LIS function implements the dynamic programming algorithm to find the longest increasing subsequence.  The LDS function uses the LIS algorithm on the reversed and negated sequence to find the longest decreasing subsequence."
   ]
  },
  {
   "cell_type": "code",
   "execution_count": 79,
   "id": "dfdb632f-3d21-457f-aea4-b5812a921c13",
   "metadata": {},
   "outputs": [
    {
     "name": "stdin",
     "output_type": "stream",
     "text": [
      "Enter the length of the permutation:  5\n",
      "Enter the permutation separated by spaces:  5 1 4 2 3\n"
     ]
    },
    {
     "name": "stdout",
     "output_type": "stream",
     "text": [
      "1 2 3\n",
      "5 4 2\n"
     ]
    }
   ],
   "source": [
    "def longest_increasing_subsequence(seq):\n",
    "    n = len(seq)\n",
    "    # L[i] - length of the longest increasing subsequence ending at i\n",
    "    L = [1] * n\n",
    "    # P[i] - predecessor of element i in the longest increasing subsequence\n",
    "    P = [-1] * n\n",
    "\n",
    "    for i in range(1, n):\n",
    "        for j in range(i):\n",
    "            if seq[i] > seq[j] and L[i] < L[j] + 1:\n",
    "                L[i] = L[j] + 1\n",
    "                P[i] = j\n",
    "\n",
    "    # Find the maximum length and its index\n",
    "    length = max(L)\n",
    "    index = L.index(length)\n",
    "\n",
    "    # Reconstruct the sequence\n",
    "    result = []\n",
    "    while index != -1:\n",
    "        result.append(seq[index])\n",
    "        index = P[index]\n",
    "\n",
    "    return result[::-1]  # Reverse the result\n",
    "\n",
    "def longest_decreasing_subsequence(seq):\n",
    "    # We can use LIS algorithm on the negated sequence\n",
    "    lis = longest_increasing_subsequence([-x for x in seq])\n",
    "    return [-x for x in lis]  # Convert back to original values\n",
    "\n",
    "# Get input from the user\n",
    "n = int(input(\"Enter the length of the permutation: \"))\n",
    "permutation = list(map(int, input(\"Enter the permutation separated by spaces: \").split()))\n",
    "\n",
    "# Find longest increasing and decreasing subsequences\n",
    "lis = longest_increasing_subsequence(permutation)\n",
    "lds = longest_decreasing_subsequence(permutation)\n",
    "\n",
    "# Print results\n",
    "print(' '.join(map(str, lis)))\n",
    "print(' '.join(map(str, lds)))"
   ]
  },
  {
   "cell_type": "markdown",
   "id": "d30537f2-50a3-443c-aa91-dd822355b93b",
   "metadata": {},
   "source": [
    "# Genome Assembly as Shortest Superstring"
   ]
  },
  {
   "cell_type": "markdown",
   "id": "11342bc3-ecf4-4e3c-9e99-e17b295c814d",
   "metadata": {},
   "source": [
    "Sample Dataset\n",
    ">Sequence_56 \n",
    "ATTAGACCTG , \n",
    ">Sequence_57  \n",
    "CCTGCCGGAA , \n",
    ">Sequence_58 \n",
    "AGACCTGCCG ,  \n",
    ">Sequence_59  \n",
    "GCCGGAATAC"
   ]
  },
  {
   "cell_type": "markdown",
   "id": "6e5ccbf5-cfd6-47d5-94e6-262e2c2902e2",
   "metadata": {},
   "source": [
    "logic: This problem requires implementing an algorithm to find the shortest superstring that contains all given DNA sequences. overlap(s1, s2): Finds the largest overlap between the end of s1 and the start of s2. the merge_strings(s1, s2) function merges s1 and s2 based on their overlap. The find_shortest_superstring(dna_strings) function mplements a greedy algorithm to find the shortest superstring. It repeatedly finds the pair of strings with the largest overlap. It merges these strings and replaces them in the list with the merged string. This continues until only one string remains, which is the shortest superstring. The parse_fasta(fasta_string) function parses the FASTA format input and returns a list of DNA sequences. We get the input from the user in FASTA format. We parse the FASTA input to get the list of DNA strings. We find the shortest superstring using our algorithm and print the result."
   ]
  },
  {
   "cell_type": "code",
   "execution_count": 82,
   "id": "a4076355-2646-4e3f-89af-49bf2f88b937",
   "metadata": {},
   "outputs": [
    {
     "name": "stdout",
     "output_type": "stream",
     "text": [
      "Enter the DNA sequences (press Enter twice to finish):\n"
     ]
    },
    {
     "name": "stdin",
     "output_type": "stream",
     "text": [
      " Sequence_56 ATTAGACCTG\n",
      " Sequence_57 CCTGCCGGAA\n",
      " Sequence_58 AGACCTGCCG\n",
      " Sequence_59 GCCGGAATAC\n",
      " \n"
     ]
    },
    {
     "name": "stdout",
     "output_type": "stream",
     "text": [
      "ATTAGACCTGCCGGAATAC\n"
     ]
    }
   ],
   "source": [
    "def overlap(s1, s2):\n",
    "    for i in range(min(len(s1), len(s2)), 0, -1):\n",
    "        if s1[-i:] == s2[:i]:\n",
    "            return i\n",
    "    return 0\n",
    "\n",
    "def merge_strings(s1, s2):\n",
    "    o = overlap(s1, s2)\n",
    "    return s1 + s2[o:]\n",
    "\n",
    "def find_shortest_superstring(dna_strings):\n",
    "    while len(dna_strings) > 1:\n",
    "        max_overlap = 0\n",
    "        best_pair = (0, 1)\n",
    "        \n",
    "        for i in range(len(dna_strings)):\n",
    "            for j in range(len(dna_strings)):\n",
    "                if i != j:\n",
    "                    o = overlap(dna_strings[i], dna_strings[j])\n",
    "                    if o > max_overlap:\n",
    "                        max_overlap = o\n",
    "                        best_pair = (i, j)\n",
    "        \n",
    "        i, j = best_pair\n",
    "        merged = merge_strings(dna_strings[i], dna_strings[j])\n",
    "        dna_strings = [s for k, s in enumerate(dna_strings) if k not in best_pair]\n",
    "        dna_strings.append(merged)\n",
    "    \n",
    "    return dna_strings[0]\n",
    "\n",
    "def parse_input(input_string):\n",
    "    sequences = []\n",
    "    for line in input_string.split('\\n'):\n",
    "        parts = line.strip().split()\n",
    "        if len(parts) == 2:\n",
    "            sequences.append(parts[1])\n",
    "    return sequences\n",
    "\n",
    "# Get input from the user\n",
    "print(\"Enter the DNA sequences (press Enter twice to finish):\")\n",
    "input_data = ''\n",
    "while True:\n",
    "    line = input()\n",
    "    if line == '':\n",
    "        break\n",
    "    input_data += line + '\\n'\n",
    "\n",
    "# Parse input\n",
    "dna_strings = parse_input(input_data)\n",
    "\n",
    "# Find shortest superstring\n",
    "if dna_strings:\n",
    "    result = find_shortest_superstring(dna_strings)\n",
    "    print(result)\n",
    "else:\n",
    "    print(\"No valid DNA sequences found in the input.\")"
   ]
  },
  {
   "cell_type": "markdown",
   "id": "0af6f9b1-6088-40df-a964-1a4ccd8408d5",
   "metadata": {},
   "source": [
    "# Perfect Matchings and RNA Secondary Structures"
   ]
  },
  {
   "cell_type": "markdown",
   "id": "5ceea64f-e4a0-4088-838c-f9d3601ee4b1",
   "metadata": {},
   "source": [
    "Sample Dataset : \n",
    ">Sequence_23\n",
    "AGCUAGUCAU"
   ]
  },
  {
   "cell_type": "markdown",
   "id": "768ba040-a9ed-47be-aa0a-466e5422cd25",
   "metadata": {},
   "source": [
    "logic: This problem requires us to calculate the total number of perfect matchings in the bonding graph of an RNA string."
   ]
  },
  {
   "cell_type": "code",
   "execution_count": 85,
   "id": "b00a83f8-943c-4196-acfa-ee573859626f",
   "metadata": {},
   "outputs": [
    {
     "name": "stdin",
     "output_type": "stream",
     "text": [
      "Enter the RNA sequence:  Sequence_23 AGCUAGUCAU\n"
     ]
    },
    {
     "name": "stdout",
     "output_type": "stream",
     "text": [
      "12\n"
     ]
    }
   ],
   "source": [
    "from math import factorial\n",
    "\n",
    "def count_perfect_matchings(rna):\n",
    "    # Count the occurrences of each nucleotide\n",
    "    count_A = rna.count('A')\n",
    "    count_U = rna.count('U')\n",
    "    count_C = rna.count('C')\n",
    "    count_G = rna.count('G')\n",
    "    \n",
    "    # Check if the counts are valid for perfect matching\n",
    "    if count_A != count_U or count_C != count_G:\n",
    "        return 0\n",
    "    \n",
    "    # Calculate the number of perfect matchings\n",
    "    return factorial(count_A) * factorial(count_C)\n",
    "\n",
    "def parse_input(input_string):\n",
    "    parts = input_string.strip().split()\n",
    "    if len(parts) == 2:\n",
    "        return parts[1]  # Return just the RNA sequence\n",
    "    else:\n",
    "        raise ValueError(\"Invalid input format\")\n",
    "\n",
    "# Get input from the user\n",
    "input_data = input(\"Enter the RNA sequence: \").strip()\n",
    "\n",
    "try:\n",
    "    # Parse input\n",
    "    rna = parse_input(input_data)\n",
    "\n",
    "    # Calculate and print the result\n",
    "    result = count_perfect_matchings(rna)\n",
    "    print(result)\n",
    "\n",
    "except ValueError as e:\n",
    "    print(f\"Error: {e}\")"
   ]
  },
  {
   "cell_type": "markdown",
   "id": "75cbf0a8-dfb9-4e42-8357-859b6ae16675",
   "metadata": {},
   "source": [
    "# Partial Permutations"
   ]
  },
  {
   "cell_type": "markdown",
   "id": "342740ec-a8c8-45ce-8a0c-787123450e8b",
   "metadata": {},
   "source": [
    "Sample Dataset :  \n",
    "21  ,   7"
   ]
  },
  {
   "cell_type": "markdown",
   "id": "11e24f66-806e-4de8-97e2-a9ee85c6e287",
   "metadata": {},
   "source": [
    "logic: This problem requires us to calculate the number of partial permutations P(n,k), which is equal to n!/(n-k)!, and then take the result modulo 1,000,000. We first need to define a function partial_permutations(n, k) that calculates P(n,k), we then need to get the input n and k from the user. We then call our function to calculate P(n,k) modulo 1,000,000."
   ]
  },
  {
   "cell_type": "code",
   "execution_count": 87,
   "id": "3e80e18f-9974-4450-8bb3-0afd6577c39b",
   "metadata": {},
   "outputs": [
    {
     "name": "stdin",
     "output_type": "stream",
     "text": [
      "Enter n and k separated by a space:  21 7\n"
     ]
    },
    {
     "name": "stdout",
     "output_type": "stream",
     "text": [
      "51200\n"
     ]
    }
   ],
   "source": [
    "def partial_permutations(n, k):\n",
    "    # Calculate P(n,k) = n! / (n-k)!\n",
    "    result = 1\n",
    "    for i in range(n, n-k, -1):\n",
    "        result = (result * i) % 1000000\n",
    "    \n",
    "    return result\n",
    "\n",
    "# Get input from the user\n",
    "n, k = map(int, input(\"Enter n and k separated by a space: \").split())\n",
    "\n",
    "# Calculate and print the result\n",
    "result = partial_permutations(n, k)\n",
    "print(result)"
   ]
  },
  {
   "cell_type": "markdown",
   "id": "0917bec6-2af1-4fc2-8ef8-0c3238392684",
   "metadata": {},
   "source": [
    "# Introduction to Random Strings"
   ]
  },
  {
   "cell_type": "markdown",
   "id": "58d0e99c-9136-4877-9428-dd49fa10ac83",
   "metadata": {},
   "source": [
    "Sample Dataset  :   \n",
    "ACGATACAA  ,   \n",
    "0.129 0.287 0.423 0.476 0.641 0.742 0.783"
   ]
  },
  {
   "cell_type": "markdown",
   "id": "c8c180f7-db56-4dbc-935d-9aad77199cc4",
   "metadata": {},
   "source": [
    "logic: In order to solve this proble we must first define a function calculate_probability(dna, gc_content) that calculates the probability of a random string matching the given DNA string for a specific GC-content.  We then define a function log_probability(dna, gc_contents) that applies the calculate_probability function to each GC-content in the input array and takes the log10 of the result.  We then get the input DNA string and GC-content array from the user and call our log_probability function to calculate the result."
   ]
  },
  {
   "cell_type": "code",
   "execution_count": 89,
   "id": "71e57d74-120b-42ce-b189-9718cd032a4c",
   "metadata": {},
   "outputs": [
    {
     "name": "stdin",
     "output_type": "stream",
     "text": [
      "Enter the DNA string:  ACGATACAA\n",
      "Enter the GC-content array (space-separated):  0.129 0.287 0.423 0.476 .641 0.742 0.783\n"
     ]
    },
    {
     "name": "stdout",
     "output_type": "stream",
     "text": [
      "-5.737 -5.217 -5.263 -5.360 -5.958 -6.628 -7.009\n"
     ]
    }
   ],
   "source": [
    "import math\n",
    "\n",
    "def calculate_probability(dna, gc_content):\n",
    "    prob = 1\n",
    "    gc_prob = gc_content / 2\n",
    "    at_prob = (1 - gc_content) / 2\n",
    "    \n",
    "    for nucleotide in dna:\n",
    "        if nucleotide in 'GC':\n",
    "            prob *= gc_prob\n",
    "        else:  # 'A' or 'T'\n",
    "            prob *= at_prob\n",
    "    \n",
    "    return prob\n",
    "\n",
    "def log_probability(dna, gc_contents):\n",
    "    return [math.log10(calculate_probability(dna, gc)) for gc in gc_contents]\n",
    "\n",
    "# Get input from the user\n",
    "dna = input(\"Enter the DNA string: \").strip()\n",
    "gc_contents = list(map(float, input(\"Enter the GC-content array (space-separated): \").split()))\n",
    "\n",
    "# Calculate and print the result\n",
    "result = log_probability(dna, gc_contents)\n",
    "\n",
    "# Print the result with 3 decimal places\n",
    "print(' '.join(f'{x:.3f}' for x in result))"
   ]
  },
  {
   "cell_type": "code",
   "execution_count": null,
   "id": "842e2971-084a-42e3-b410-c6c21c593a66",
   "metadata": {},
   "outputs": [],
   "source": [
    "ACGATACAA ,\n",
    "0.129 0.287 0.423 0.476 0.641 0.742 0.783"
   ]
  },
  {
   "cell_type": "markdown",
   "id": "383eb0ae-507f-49b5-8005-4779f5a5a2f7",
   "metadata": {},
   "source": [
    "# Enumerating Oriented Gene Orderings"
   ]
  },
  {
   "cell_type": "markdown",
   "id": "21bcc183-91d3-4581-8cca-b9998b3ea6da",
   "metadata": {},
   "source": [
    "Sample Dataset  :  \n",
    "2"
   ]
  },
  {
   "cell_type": "markdown",
   "id": "d0a54c64-8472-4830-ab5d-77afe885afe7",
   "metadata": {},
   "source": [
    "logic: We first need to define a function generate_signed_permutations(n) that generates all signed permutations and it uses itertools.permutations to generate all permutations of numbers from 1 to n. It also uses itertools.product to generate all possible sign combinations (-1 or 1 for each position) and then combines each permutation with each sign combination to create all possible signed permutations."
   ]
  },
  {
   "cell_type": "code",
   "execution_count": 91,
   "id": "7ae43f82-9144-459c-95ed-fec18a374c72",
   "metadata": {},
   "outputs": [
    {
     "name": "stdin",
     "output_type": "stream",
     "text": [
      "Enter a positive integer n (≤6):  2\n"
     ]
    },
    {
     "name": "stdout",
     "output_type": "stream",
     "text": [
      "8\n",
      "-1 -2\n",
      "-1 2\n",
      "1 -2\n",
      "1 2\n",
      "-2 -1\n",
      "-2 1\n",
      "2 -1\n",
      "2 1\n"
     ]
    }
   ],
   "source": [
    "import itertools\n",
    "\n",
    "def generate_signed_permutations(n):\n",
    "    # Generate all permutations\n",
    "    perms = list(itertools.permutations(range(1, n+1)))\n",
    "    \n",
    "    # Generate all possible sign combinations\n",
    "    signs = list(itertools.product([-1, 1], repeat=n))\n",
    "    \n",
    "    signed_perms = []\n",
    "    for perm in perms:\n",
    "        for sign in signs:\n",
    "            signed_perm = [p * s for p, s in zip(perm, sign)]\n",
    "            signed_perms.append(signed_perm)\n",
    "    \n",
    "    return signed_perms\n",
    "\n",
    "# Get input from the user\n",
    "n = int(input(\"Enter a positive integer n (≤6): \"))\n",
    "\n",
    "# Generate signed permutations\n",
    "signed_permutations = generate_signed_permutations(n)\n",
    "\n",
    "# Print results\n",
    "print(len(signed_permutations))\n",
    "for perm in signed_permutations:\n",
    "    print(' '.join(map(str, perm)))"
   ]
  },
  {
   "cell_type": "markdown",
   "id": "14f4ee96-8bb5-46f0-8d2d-2e171236c71e",
   "metadata": {},
   "source": [
    "# Finding a Spliced Motif"
   ]
  },
  {
   "cell_type": "markdown",
   "id": "2e54eb86-2e97-4dce-a396-e11480c52101",
   "metadata": {},
   "source": [
    "Sample Dataset  :  >Sequence_14 ACGTACGTGACG   ,    >Sequence_18  GTA"
   ]
  },
  {
   "cell_type": "markdown",
   "id": "eeef572c-33b4-41ba-a944-0d7e3e585abf",
   "metadata": {},
   "source": [
    "logic:  In order to solve this problem we need to find one collection of indices where a given DNA string appears as a subsequence of another DNA string. The function find_subsequence_indices(s, t) finds the indices where t appears as a subsequence in s and it iterates through s, keeping track of the current position in t. When it finds a matching character, it adds its index to the result and moves to the next character in t. It stops when it has found all characters of t. The parse_fasta(fasta_string) function parses the FASTA format input and returns a dictionary of sequences. We get the input from the user in FASTA format. We parse the FASTA input to get the two DNA sequences. We find the subsequence indices using our find_subsequence_indices function. We print the result as space-separated indices."
   ]
  },
  {
   "cell_type": "code",
   "execution_count": 102,
   "id": "ca404048-411e-4f66-97e0-f223db04f5a3",
   "metadata": {},
   "outputs": [
    {
     "name": "stdin",
     "output_type": "stream",
     "text": [
      "Enter the first DNA sequence:  >Sequence_14 ACGTACGTGACG\n",
      "Enter the second DNA sequence:  >Sequence_18 GTA\n"
     ]
    },
    {
     "name": "stdout",
     "output_type": "stream",
     "text": [
      "s: ACGTACGTGACG\n",
      "t: GTA\n",
      "Checking s[0] = A, current t_index = 0\n",
      "  No match\n",
      "Checking s[1] = C, current t_index = 0\n",
      "  No match\n",
      "Checking s[2] = G, current t_index = 0\n",
      "  Match found! Adding index 3\n",
      "Checking s[3] = T, current t_index = 1\n",
      "  Match found! Adding index 4\n",
      "Checking s[4] = A, current t_index = 2\n",
      "  Match found! Adding index 5\n",
      "  All characters in t found. Stopping search.\n",
      "\n",
      "Result: 3 4 5\n"
     ]
    }
   ],
   "source": [
    "\n",
    "def find_subsequence(s, t):\n",
    "    indices = []\n",
    "    t_index = 0\n",
    "    for i, char in enumerate(s):\n",
    "        print(f\"Checking s[{i}] = {char}, current t_index = {t_index}\")\n",
    "        if char == t[t_index]:\n",
    "            indices.append(i + 1)\n",
    "            print(f\"  Match found! Adding index {i+1}\")\n",
    "            t_index += 1\n",
    "            if t_index == len(t):\n",
    "                print(\"  All characters in t found. Stopping search.\")\n",
    "                return indices\n",
    "        else:\n",
    "            print(\"  No match\")\n",
    "            if indices:\n",
    "                print(\"  Resetting search\")\n",
    "                indices = []\n",
    "                t_index = 0\n",
    "                if char == t[0]:\n",
    "                    indices.append(i + 1)\n",
    "                    print(f\"  New match found! Adding index {i+1}\")\n",
    "                    t_index = 1\n",
    "    return []\n",
    "\n",
    "# Input\n",
    "s_input = input(\"Enter the first DNA sequence: \").strip()\n",
    "t_input = input(\"Enter the second DNA sequence: \").strip()\n",
    "\n",
    "# Parse input\n",
    "s = s_input.split()[-1]\n",
    "t = t_input.split()[-1]\n",
    "\n",
    "print(f\"s: {s}\")\n",
    "print(f\"t: {t}\")\n",
    "\n",
    "# Find subsequence indices\n",
    "result = find_subsequence(s, t)\n",
    "\n",
    "# Print result\n",
    "print(\"\\nResult:\", ' '.join(map(str, result)))\n",
    "\n"
   ]
  },
  {
   "cell_type": "code",
   "execution_count": null,
   "id": "b9b9fb2d-7825-4994-92c8-8c1042793e6c",
   "metadata": {},
   "outputs": [],
   "source": [
    ">Sequence_14 ACGTACGTGACG , >Sequence_18 GTA"
   ]
  },
  {
   "cell_type": "markdown",
   "id": "f20d1553-f75e-4f1c-8e34-111387567c85",
   "metadata": {},
   "source": [
    "# Transitions and Transversions"
   ]
  },
  {
   "cell_type": "markdown",
   "id": "d7f383ec-946f-43d6-971f-5c0f680124ee",
   "metadata": {},
   "source": [
    "Sample Dataset\n",
    ">Sequence_0209\n",
    "GCAACGCACAACGAAAACCCTTAGGGACTGGATTATTTCGTGATCGTTGTAGTTATTGGA\n",
    "AGTACGGGCATCAACCCAGTT  , \n",
    ">Sequence_2200\n",
    "TTATCTGACAAAGAAAGCCGTCAACGGCTGGATAATTTCGCGATCGTGCTGGTTACTGGC\n",
    "GGTACGAGTGTTCCTTTGGGT"
   ]
  },
  {
   "cell_type": "markdown",
   "id": "9c9f9a30-b90d-4cb4-adad-e748aa716d17",
   "metadata": {},
   "source": [
    "logic: In order to solve this problem our script needs to use the parse_fasta(fasta_string) function to parse the FASTA format input and return a dictionary of sequences. The transition_transversion_ratio(s1, s2) function calculates the transition/transversion ratio and it does the following: Defines transition pairs (A<->G and C<->T), compares each pair of nucleotides from s1 and s2, counts transitions and transversions, and it returns the ratio of transitions to transversions."
   ]
  },
  {
   "cell_type": "code",
   "execution_count": 104,
   "id": "477a6d0d-69a7-457c-9cb8-c76b627ce356",
   "metadata": {},
   "outputs": [
    {
     "name": "stdout",
     "output_type": "stream",
     "text": [
      "Enter the DNA sequences (press Enter twice to finish):\n"
     ]
    },
    {
     "name": "stdin",
     "output_type": "stream",
     "text": [
      " Sequence_0209 GCAACGCACAACGAAAACCCTTAGGGACTGGATTATTTCGTGATCGTTGTAGTTATTGGA AGTACGGGCATCAACCCAGTT\n",
      " Sequence_2200 TTATCTGACAAAGAAAGCCGTCAACGGCTGGATAATTTCGCGATCGTGCTGGTTACTGGC GGTACGAGTGTTCCTTTGGGT\n",
      " \n"
     ]
    },
    {
     "name": "stdout",
     "output_type": "stream",
     "text": [
      "1.21428571429\n"
     ]
    }
   ],
   "source": [
    "def parse_input(input_string):\n",
    "    sequences = {}\n",
    "    for line in input_string.split('\\n'):\n",
    "        parts = line.strip().split(maxsplit=1)\n",
    "        if len(parts) == 2:\n",
    "            sequence_id = parts[0]\n",
    "            sequence = parts[1].replace(' ', '')  # Remove any spaces in the sequence\n",
    "            sequences[sequence_id] = sequence\n",
    "    return sequences\n",
    "\n",
    "def transition_transversion_ratio(s1, s2):\n",
    "    transitions = 0\n",
    "    transversions = 0\n",
    "    \n",
    "    # Define transition and transversion pairs\n",
    "    transition_pairs = {('A', 'G'), ('G', 'A'), ('C', 'T'), ('T', 'C')}\n",
    "    \n",
    "    for n1, n2 in zip(s1, s2):\n",
    "        if n1 != n2:\n",
    "            if (n1, n2) in transition_pairs:\n",
    "                transitions += 1\n",
    "            else:\n",
    "                transversions += 1\n",
    "    \n",
    "    return transitions / transversions if transversions != 0 else 0\n",
    "\n",
    "# Get input from the user\n",
    "print(\"Enter the DNA sequences (press Enter twice to finish):\")\n",
    "input_data = ''\n",
    "while True:\n",
    "    line = input()\n",
    "    if line == '':\n",
    "        break\n",
    "    input_data += line + '\\n'\n",
    "\n",
    "# Parse input\n",
    "sequences = parse_input(input_data)\n",
    "\n",
    "# Extract the two sequences\n",
    "s1, s2 = sequences.values()\n",
    "\n",
    "# Calculate the transition/transversion ratio\n",
    "ratio = transition_transversion_ratio(s1, s2)\n",
    "\n",
    "# Print the result\n",
    "print(f\"{ratio:.11f}\")\n"
   ]
  },
  {
   "cell_type": "markdown",
   "id": "19412c02-2e98-44d0-a525-2e238e558329",
   "metadata": {},
   "source": [
    "# Completing a Tree"
   ]
  },
  {
   "cell_type": "markdown",
   "id": "59519f6b-a64b-4d24-a3fd-5e1bd4ad306b",
   "metadata": {},
   "source": [
    "Sample Dataset  :  \n",
    "10\n",
    "1 2  ,  \n",
    "2 8  ,\n",
    "4 10  ,\n",
    "5 9  ,\n",
    "6 10  ,\n",
    "7 9"
   ]
  },
  {
   "cell_type": "markdown",
   "id": "5afed595-1f73-4c80-a4fe-caca558bf6b9",
   "metadata": {},
   "source": [
    "logic: We define a DisjointSet class to implement the Union-Find data structure. This helps us efficiently keep track of connected components in the graph. The min_edges_to_connect function: \n",
    "Creates a DisjointSet with all vertices.\n",
    "Processes existing edges by performing union operations.\n",
    "Counts the number of distinct sets (connected components) after processing all edges.\n",
    "Returns the number of distinct sets minus 1, which is the minimum number of edges needed to connect all components into a single tree."
   ]
  },
  {
   "cell_type": "code",
   "execution_count": 105,
   "id": "decd4df4-e195-4f4f-8c29-1487d0932b0c",
   "metadata": {},
   "outputs": [
    {
     "name": "stdin",
     "output_type": "stream",
     "text": [
      "Enter the number of nodes:  10\n"
     ]
    },
    {
     "name": "stdout",
     "output_type": "stream",
     "text": [
      "Enter the edges (one pair per line, press Enter twice to finish):\n"
     ]
    },
    {
     "name": "stdin",
     "output_type": "stream",
     "text": [
      " 1 2\n",
      " 2 8\n",
      " 4 10 \n",
      " 5 9\n",
      " 6 10\n",
      " 7 9\n",
      " \n"
     ]
    },
    {
     "name": "stdout",
     "output_type": "stream",
     "text": [
      "3\n"
     ]
    }
   ],
   "source": [
    "class DisjointSet:\n",
    "    def __init__(self, vertices):\n",
    "        self.parent = {v: v for v in vertices}\n",
    "        self.rank = {v: 0 for v in vertices}\n",
    "\n",
    "    def find(self, item):\n",
    "        if self.parent[item] != item:\n",
    "            self.parent[item] = self.find(self.parent[item])\n",
    "        return self.parent[item]\n",
    "\n",
    "    def union(self, x, y):\n",
    "        xroot = self.find(x)\n",
    "        yroot = self.find(y)\n",
    "        if self.rank[xroot] < self.rank[yroot]:\n",
    "            self.parent[xroot] = yroot\n",
    "        elif self.rank[xroot] > self.rank[yroot]:\n",
    "            self.parent[yroot] = xroot\n",
    "        else:\n",
    "            self.parent[yroot] = xroot\n",
    "            self.rank[xroot] += 1\n",
    "\n",
    "def min_edges_to_connect(n, edges):\n",
    "    vertices = set(range(1, n+1))\n",
    "    disjoint_set = DisjointSet(vertices)\n",
    "    \n",
    "    # Process existing edges\n",
    "    for edge in edges:\n",
    "        disjoint_set.union(edge[0], edge[1])\n",
    "    \n",
    "    # Count number of distinct sets\n",
    "    distinct_sets = set(disjoint_set.find(v) for v in vertices)\n",
    "    \n",
    "    # The minimum number of edges to add is one less than the number of distinct sets\n",
    "    return len(distinct_sets) - 1\n",
    "\n",
    "# Get input from the user\n",
    "n = int(input(\"Enter the number of nodes: \"))\n",
    "print(\"Enter the edges (one pair per line, press Enter twice to finish):\")\n",
    "edges = []\n",
    "while True:\n",
    "    line = input()\n",
    "    if line == '':\n",
    "        break\n",
    "    u, v = map(int, line.split())\n",
    "    edges.append((u, v))\n",
    "\n",
    "# Calculate and print the result\n",
    "result = min_edges_to_connect(n, edges)\n",
    "print(result)"
   ]
  },
  {
   "cell_type": "markdown",
   "id": "14e73159-d680-4dff-ad5c-294d320623fa",
   "metadata": {},
   "source": [
    "# Catalan Numbers and RNA Secondary Structures"
   ]
  },
  {
   "cell_type": "markdown",
   "id": "de55c831-c8ef-4a35-853d-ac286b1fbb5f",
   "metadata": {},
   "source": [
    "Sample Dataset  :  >Sequence_57  AUAU"
   ]
  },
  {
   "cell_type": "markdown",
   "id": "3053fe82-ae05-4ecc-81e5-87c26ef4b4f9",
   "metadata": {},
   "source": [
    "logic: The can_pair(a, b) function checks if two nucleotides can form a base pair.\n",
    "count_noncrossing_matchings(rna): This is the main function that uses dynamic programming to count the number of noncrossing perfect matchings: \n",
    "It initializes a 2D DP table where dp[i][j] represents the number of noncrossing matchings for the substring from index i to j.\n",
    "It fills this table bottom-up, considering all possible substrings. \n",
    "For each substring, it considers two cases:\n",
    "a) The first and last nucleotides pair with each other.\n",
    "b) The first nucleotide pairs with some nucleotide in between, and we recursively count matchings for the resulting subproblems.\n",
    "It takes the modulo 1,000,000 at each step to keep the numbers manageable.  The parse_fasta(fasta_string) function parses the FASTA format input and returns just the RNA sequence."
   ]
  },
  {
   "cell_type": "code",
   "execution_count": 107,
   "id": "300467cb-757a-4d76-adad-5b511ce63e7c",
   "metadata": {},
   "outputs": [
    {
     "name": "stdin",
     "output_type": "stream",
     "text": [
      "Enter the RNA sequence:  >Sequence_57 AUAU\n"
     ]
    },
    {
     "name": "stdout",
     "output_type": "stream",
     "text": [
      "2\n"
     ]
    }
   ],
   "source": [
    "def count_noncrossing_matchings(rna):\n",
    "    n = len(rna)\n",
    "    if n % 2 != 0:\n",
    "        return 0  # Odd length strings can't have perfect matchings\n",
    "\n",
    "    # Initialize dynamic programming table\n",
    "    dp = [[0] * n for _ in range(n)]\n",
    "    \n",
    "    # Base case: single nucleotide or empty string\n",
    "    for i in range(n):\n",
    "        dp[i][i] = 1\n",
    "        if i > 0:\n",
    "            dp[i][i-1] = 1\n",
    "\n",
    "    # Fill the dp table\n",
    "    for length in range(2, n + 1, 2):\n",
    "        for i in range(n - length + 1):\n",
    "            j = i + length - 1\n",
    "            if can_pair(rna[i], rna[j]):\n",
    "                dp[i][j] = dp[i+1][j-1]\n",
    "            for k in range(i + 1, j, 2):\n",
    "                if can_pair(rna[i], rna[k]):\n",
    "                    dp[i][j] += dp[i+1][k-1] * dp[k+1][j]\n",
    "            dp[i][j] %= 1000000  # Take modulo as per problem statement\n",
    "\n",
    "    return dp[0][n-1]\n",
    "\n",
    "def can_pair(a, b):\n",
    "    return (a == 'A' and b == 'U') or (a == 'U' and b == 'A') or \\\n",
    "           (a == 'C' and b == 'G') or (a == 'G' and b == 'C')\n",
    "\n",
    "def parse_input(input_string):\n",
    "    parts = input_string.strip().split()\n",
    "    if len(parts) >= 2:\n",
    "        return parts[-1]  # Return the last part, which should be the RNA sequence\n",
    "    return \"\"\n",
    "\n",
    "# Get input from the user\n",
    "input_data = input(\"Enter the RNA sequence: \").strip()\n",
    "\n",
    "# Parse input\n",
    "rna = parse_input(input_data)\n",
    "\n",
    "# Calculate and print the result\n",
    "result = count_noncrossing_matchings(rna)\n",
    "print(result)\n"
   ]
  },
  {
   "cell_type": "markdown",
   "id": "14911373-b614-4212-99c1-c18c17f40d65",
   "metadata": {},
   "source": [
    "# Error Correction in Reads"
   ]
  },
  {
   "cell_type": "markdown",
   "id": "1eee5b51-1997-4bea-8bd9-c735c5087279",
   "metadata": {},
   "source": [
    "Sample Dataset\n",
    ">Rosalind_52\n",
    "TCATC\n",
    ">Rosalind_44\n",
    "TTCAT\n",
    ">Rosalind_68\n",
    "TCATC\n",
    ">Rosalind_28\n",
    "TGAAA\n",
    ">Rosalind_95\n",
    "GAGGA\n",
    ">Rosalind_66\n",
    "TTTCA\n",
    ">Rosalind_33\n",
    "ATCAA\n",
    ">Rosalind_21\n",
    "TTGAT\n",
    ">Rosalind_18\n",
    "TTTCC"
   ]
  },
  {
   "cell_type": "markdown",
   "id": "ead2af16-fcac-44e2-9e15-bc5e5d12eaed",
   "metadata": {},
   "source": [
    "logic: We've implemented our own reverse_complement function, created a parse_fasta function to parse the FASTA input."
   ]
  },
  {
   "cell_type": "code",
   "execution_count": 111,
   "id": "db68678c-9126-4b4a-a014-cc1fddefd156",
   "metadata": {},
   "outputs": [
    {
     "name": "stdout",
     "output_type": "stream",
     "text": [
      "Enter the DNA sequences (press Enter twice to finish):\n"
     ]
    },
    {
     "name": "stdin",
     "output_type": "stream",
     "text": [
      " >Rosalind_52 TCATC\n",
      " >Rosalind_44 TTCAT\n",
      " >Rosalind_68 TCATC\n",
      " >Rosalind_28 TGAAA\n",
      " >Rosalind_95 GAGGA\n",
      " >Rosalind_66 TTTCA\n",
      " >Rosalind_33 ATCAA\n",
      " >Rosalind_21 TTGAT\n",
      " >Rosalind_18 TTTCC\n",
      " \n"
     ]
    },
    {
     "name": "stdout",
     "output_type": "stream",
     "text": [
      "TTCAT->TTGAT\n",
      "TTTCC->TTTCA\n",
      "GAGGA->GATGA\n"
     ]
    }
   ],
   "source": [
    "def reverse_complement(seq):\n",
    "    complement = {'A': 'T', 'T': 'A', 'C': 'G', 'G': 'C'}\n",
    "    return ''.join(complement.get(base, base) for base in reversed(seq))\n",
    "\n",
    "def hamming_distance(s1, s2):\n",
    "    return sum(c1 != c2 for c1, c2 in zip(s1, s2))\n",
    "\n",
    "def parse_input(input_string):\n",
    "    sequences = []\n",
    "    for line in input_string.split('\\n'):\n",
    "        parts = line.strip().split()\n",
    "        if len(parts) == 2:\n",
    "            sequences.append(parts[1])\n",
    "    return sequences\n",
    "\n",
    "def find_corrections(reads):\n",
    "    # Count occurrences of each read and its reverse complement\n",
    "    read_counts = {}\n",
    "    for read in reads:\n",
    "        read_counts[read] = read_counts.get(read, 0) + 1\n",
    "        rc = reverse_complement(read)\n",
    "        read_counts[rc] = read_counts.get(rc, 0) + 1\n",
    "\n",
    "    # Identify correct and incorrect reads\n",
    "    correct_reads = set(read for read in reads if read_counts[read] >= 2)\n",
    "    incorrect_reads = set(read for read in reads if read_counts[read] == 1)\n",
    "\n",
    "    # Find corrections\n",
    "    corrections = []\n",
    "    for incorrect in incorrect_reads:\n",
    "        for correct in correct_reads:\n",
    "            if hamming_distance(incorrect, correct) == 1:\n",
    "                corrections.append(f\"{incorrect}->{correct}\")\n",
    "                break\n",
    "            rc_correct = reverse_complement(correct)\n",
    "            if hamming_distance(incorrect, rc_correct) == 1:\n",
    "                corrections.append(f\"{incorrect}->{rc_correct}\")\n",
    "                break\n",
    "\n",
    "    return corrections\n",
    "\n",
    "# Get input from the user\n",
    "print(\"Enter the DNA sequences (press Enter twice to finish):\")\n",
    "input_data = ''\n",
    "while True:\n",
    "    line = input()\n",
    "    if line == '':\n",
    "        break\n",
    "    input_data += line + '\\n'\n",
    "\n",
    "# Parse input\n",
    "reads = parse_input(input_data.strip())\n",
    "\n",
    "# Find and print corrections\n",
    "corrections = find_corrections(reads)\n",
    "for correction in corrections:\n",
    "    print(correction)\n"
   ]
  },
  {
   "cell_type": "markdown",
   "id": "73fe6b72-c65a-4221-8235-8e459e052999",
   "metadata": {},
   "source": [
    "# Counting Phylogenetic Ancestors"
   ]
  },
  {
   "cell_type": "markdown",
   "id": "3bf1754f-0c7c-4cb2-ac85-577f51b2d7a5",
   "metadata": {},
   "source": [
    "Sample Dataset  :  \n",
    "4"
   ]
  },
  {
   "cell_type": "markdown",
   "id": "9b3e6333-2758-4360-9d47-cd517c977f2c",
   "metadata": {},
   "source": [
    "logic: This problem is asking us to find the number of internal nodes in an unrooted binary tree given the number of leaves. There's a simple formula for this, but let's break it down step by step:\n",
    "In an unrooted binary tree, every internal node has exactly 3 edges connected to it.\n",
    "Leaves have only one edge connected to them.\n",
    "The total number of edges in a tree is always one less than the total number of nodes.\n",
    "Let's define some variables:\n",
    "n = number of leaves\n",
    "i = number of internal nodes\n",
    "e = number of edges\n",
    "We can set up two equations based on the properties of unrooted binary trees:\n",
    "Total number of edges: e = n + i - 1\n",
    "Sum of degrees: 3i + n = 2e (each internal node contributes 3 to the degree sum, each leaf contributes 1, and each edge contributes 2)\n",
    "Substituting the first equation into the second:\n",
    "3i + n = 2(n + i - 1)\n",
    "3i + n = 2n + 2i - 2\n",
    "i = n - 2\n",
    "So, the number of internal nodes is always two less than the number of leaves in an unrooted binary tree."
   ]
  },
  {
   "cell_type": "code",
   "execution_count": 113,
   "id": "fedc8b15-e948-45f0-8908-1538c5ddd0f2",
   "metadata": {},
   "outputs": [
    {
     "name": "stdin",
     "output_type": "stream",
     "text": [
      "Enter the number of leaves:  4\n"
     ]
    },
    {
     "name": "stdout",
     "output_type": "stream",
     "text": [
      "2\n"
     ]
    }
   ],
   "source": [
    "def internal_nodes(n):\n",
    "    return n - 2\n",
    "\n",
    "# Get input from the user\n",
    "n = int(input(\"Enter the number of leaves: \"))\n",
    "\n",
    "# Calculate and print the result\n",
    "result = internal_nodes(n)\n",
    "print(result)"
   ]
  },
  {
   "cell_type": "markdown",
   "id": "dc751162-fe01-48ee-a9e5-169599c6c143",
   "metadata": {},
   "source": [
    "# k-Mer Composition"
   ]
  },
  {
   "cell_type": "code",
   "execution_count": null,
   "id": "74dd0a03-5257-4226-a515-226e0e528871",
   "metadata": {},
   "outputs": [],
   "source": [
    "Sample Dataset\n",
    ">Rosalind_6431 CTTCGAAAGTTTGGGCCGAGTCTTACAGTCGGTCTTGAAGCAAAGTAACGAACTCCACGG\n",
    "CCCTGACTACCGAACCAGTTGTGAGTACTCAACTGGGTGAGAGTGCAGTCCCTATTGAGT\n",
    "TTCCGAGACTCACCGGGATTTTCGATCCAGCCTCAGTCCAGTCTTGTGGCCAACTCACCA\n",
    "AATGACGTTGGAATATCCCTGTCTAGCTCACGCAGTACTTAGTAAGAGGTCGCTGCAGCG\n",
    "GGGCAAGGAGATCGGAAAATGTGCTCTATATGCGACTAAAGCTCCTAACTTACACGTAGA\n",
    "CTTGCCCGTGTTAAAAACTCGGCTCACATGCTGTCTGCGGCTGGCTGTATACAGTATCTA\n",
    "CCTAATACCCTTCAGTTCGCCGCACAAAAGCTGGGAGTTACCGCGGAAATCACAG"
   ]
  },
  {
   "cell_type": "markdown",
   "id": "0e5852f4-cc33-4583-a1b2-845a46a2b50e",
   "metadata": {},
   "source": [
    "logic: The parse_fasta(fasta_string) function parses the FASTA format input and returns just the DNA sequence.\n",
    "The generate_kmers(k) function generates all possible k-mers using the DNA alphabet (A, C, G, T). The count_kmers(sequence, k) function counts the occurrences of each k-mer in the given sequence. We get the input from the user in FASTA format. We parse the FASTA input to get the DNA sequence. We count the 4-mers in the sequence. We output the counts in lexicographic order of the 4-mers."
   ]
  },
  {
   "cell_type": "code",
   "execution_count": 118,
   "id": "2e9ef6a9-68a8-4b30-bf9f-e48d409c47c4",
   "metadata": {},
   "outputs": [
    {
     "name": "stdout",
     "output_type": "stream",
     "text": [
      "Enter the DNA sequence (press Enter twice to finish):\n"
     ]
    },
    {
     "name": "stdin",
     "output_type": "stream",
     "text": [
      " >Rosalind_6431 CTTCGAAAGTTTGGGCCGAGTCTTACAGTCGGTCTTGAAGCAAAGTAACGAACTCCACGG CCCTGACTACCGAACCAGTTGTGAGTACTCAACTGGGTGAGAGTGCAGTCCCTATTGAGT TTCCGAGACTCACCGGGATTTTCGATCCAGCCTCAGTCCAGTCTTGTGGCCAACTCACCA AATGACGTTGGAATATCCCTGTCTAGCTCACGCAGTACTTAGTAAGAGGTCGCTGCAGCG GGGCAAGGAGATCGGAAAATGTGCTCTATATGCGACTAAAGCTCCTAACTTACACGTAGA CTTGCCCGTGTTAAAAACTCGGCTCACATGCTGTCTGCGGCTGGCTGTATACAGTATCTA CCTAATACCCTTCAGTTCGCCGCACAAAAGCTGGGAGTTACCGCGGAAATCACAG\n",
      " \n"
     ]
    },
    {
     "name": "stdout",
     "output_type": "stream",
     "text": [
      "4 1 4 3 0 1 1 5 1 3 1 2 2 1 2 0 1 1 3 1 2 1 3 1 1 1 1 2 2 5 1 3 0 2 2 1 1 1 1 3 1 0 0 1 5 5 1 5 0 2 0 2 1 2 1 1 1 2 0 1 0 0 1 1 3 2 1 0 3 2 3 0 0 2 0 8 0 0 1 0 2 1 3 0 0 0 1 4 3 2 1 1 3 1 2 1 3 1 2 1 2 1 1 1 2 3 2 1 1 0 1 1 3 2 1 2 6 2 1 1 1 2 3 3 3 2 3 0 3 2 1 1 0 0 1 4 3 0 1 5 0 2 0 1 2 1 3 0 1 2 2 1 1 0 3 0 0 4 5 0 3 0 2 1 1 3 0 3 2 2 1 1 0 2 1 0 2 2 1 2 0 2 2 5 2 2 1 1 2 1 2 2 2 2 1 1 3 4 0 2 1 1 0 1 2 2 1 1 1 5 2 0 3 2 1 1 2 2 3 0 3 0 1 3 1 2 3 0 2 1 2 2 1 2 3 0 1 2 3 1 1 3 1 0 1 1 3 0 2 1 2 2 0 2 1 1\n"
     ]
    }
   ],
   "source": [
    "from itertools import product\n",
    "\n",
    "def parse_input(input_string):\n",
    "    lines = input_string.strip().split('\\n')\n",
    "    sequence = ''.join(part.split(' ', 1)[1] for part in lines if part.strip())\n",
    "    return sequence.replace(\" \", \"\")  # Remove any spaces within the sequence\n",
    "\n",
    "def generate_kmers(k):\n",
    "    return [''.join(p) for p in product('ACGT', repeat=k)]\n",
    "\n",
    "def count_kmers(sequence, k):\n",
    "    kmer_counts = {kmer: 0 for kmer in generate_kmers(k)}\n",
    "    for i in range(len(sequence) - k + 1):\n",
    "        kmer = sequence[i:i+k]\n",
    "        if kmer in kmer_counts:\n",
    "            kmer_counts[kmer] += 1\n",
    "    return kmer_counts\n",
    "\n",
    "# Get input from the user\n",
    "print(\"Enter the DNA sequence (press Enter twice to finish):\")\n",
    "input_data = ''\n",
    "while True:\n",
    "    line = input()\n",
    "    if line == '':\n",
    "        break\n",
    "    input_data += line + '\\n'\n",
    "\n",
    "# Parse input\n",
    "dna_sequence = parse_input(input_data)\n",
    "\n",
    "# Count 4-mers\n",
    "kmer_counts = count_kmers(dna_sequence, 4)\n",
    "\n",
    "# Output results\n",
    "print(' '.join(str(count) for count in kmer_counts.values()))\n"
   ]
  },
  {
   "cell_type": "markdown",
   "id": "41caaedd-b5e8-45ac-9b59-9cd075dfdde2",
   "metadata": {},
   "source": [
    "# Speeding Up Motif Finding"
   ]
  },
  {
   "cell_type": "code",
   "execution_count": null,
   "id": "8fca6e9e-e82f-4a6a-911e-1e85061c40ea",
   "metadata": {},
   "outputs": [],
   "source": [
    "Sample Dataset  :  \n",
    ">Rosalind_87\n",
    "CAGCATGGTATCACAGCAGAG"
   ]
  },
  {
   "cell_type": "markdown",
   "id": "88884bc9-efb2-493d-9a0b-4023c7e84f3a",
   "metadata": {},
   "source": [
    "logic: The compute_failure_array(s) function implements the KMP algorithm to compute the failure array, it initializes an array P of the same length as the input string, filled with zeros. It uses two pointers, i and j, to compare characters in the string. When a mismatch occurs, it uses the previously computed values to skip unnecessary comparisons. The value P[i] represents the length of the longest proper prefix of the substring s[0:i+1] which is also a suffix of this substring. The parse_fasta(fasta_string) function parses the FASTA format input and returns just the DNA sequence. We get the input from the user in FASTA format, parse the FASTA input to get the DNA sequence, compute the failure array using our compute_failure_array function and output the failure array as space-separated integers."
   ]
  },
  {
   "cell_type": "code",
   "execution_count": 121,
   "id": "dec7a581-dd78-4384-9914-8ee97030366f",
   "metadata": {},
   "outputs": [
    {
     "name": "stdin",
     "output_type": "stream",
     "text": [
      "Enter the DNA sequence:  >Rosalind_87 CAGCATGGTATCACAGCAGAG\n"
     ]
    },
    {
     "name": "stdout",
     "output_type": "stream",
     "text": [
      "0 0 0 1 2 0 0 0 0 0 0 1 2 1 2 3 4 5 3 0 0\n"
     ]
    }
   ],
   "source": [
    "def compute_failure_array(s):\n",
    "    n = len(s)\n",
    "    P = [0] * n\n",
    "    j = 0\n",
    "    for i in range(1, n):\n",
    "        while j > 0 and s[i] != s[j]:\n",
    "            j = P[j-1]\n",
    "        if s[i] == s[j]:\n",
    "            j += 1\n",
    "        P[i] = j\n",
    "    return P\n",
    "\n",
    "def parse_input(input_string):\n",
    "    parts = input_string.strip().split()\n",
    "    if len(parts) >= 2:\n",
    "        return parts[-1]  # Return the last part, which should be the DNA sequence\n",
    "    return \"\"\n",
    "\n",
    "# Get input from the user\n",
    "input_data = input(\"Enter the DNA sequence: \").strip()\n",
    "\n",
    "# Parse input\n",
    "dna_sequence = parse_input(input_data)\n",
    "\n",
    "# Compute failure array\n",
    "failure_array = compute_failure_array(dna_sequence)\n",
    "\n",
    "# Output result\n",
    "print(' '.join(map(str, failure_array)))"
   ]
  },
  {
   "cell_type": "markdown",
   "id": "5db0b09b-f8ea-472d-84c5-3cbdcb06f459",
   "metadata": {},
   "source": [
    "# Finding a Shared Spliced Motif"
   ]
  },
  {
   "cell_type": "code",
   "execution_count": null,
   "id": "d8fc1c56-b257-42d9-b95c-caa4a753757c",
   "metadata": {},
   "outputs": [],
   "source": [
    "Sample Dataset  :  \n",
    ">Rosalind_23\n",
    "AACCTTGG\n",
    ">Rosalind_64\n",
    "ACACTGTGA"
   ]
  },
  {
   "cell_type": "markdown",
   "id": "25a1512b-e5ec-44ea-bb71-810e372de380",
   "metadata": {},
   "source": [
    "The logic: lcs(s, t) function implements the dynamic programming algorithm to find the Longest Common Subsequence. It creates a 2D table L to store the lengths of LCS for all subproblems, if fills this table bottom-up, and after filling the table, it backtracks from the bottom-right corner to construct the LCS. The parse_fasta(fasta_string) function parses the FASTA format input and returns a dictionary of sequences."
   ]
  },
  {
   "cell_type": "code",
   "execution_count": 123,
   "id": "a49dbc59-8c6f-4454-aadc-831d39bbe63c",
   "metadata": {},
   "outputs": [
    {
     "name": "stdin",
     "output_type": "stream",
     "text": [
      "Enter the DNA sequences:  >Rosalind_23 AACCTTGG >Rosalind_64 ACACTGTGA\n"
     ]
    },
    {
     "name": "stdout",
     "output_type": "stream",
     "text": [
      "ACCTGG\n"
     ]
    }
   ],
   "source": [
    "def lcs(s, t):\n",
    "    m, n = len(s), len(t)\n",
    "    L = [[0] * (n + 1) for _ in range(m + 1)]\n",
    "\n",
    "    for i in range(m + 1):\n",
    "        for j in range(n + 1):\n",
    "            if i == 0 or j == 0:\n",
    "                L[i][j] = 0\n",
    "            elif s[i-1] == t[j-1]:\n",
    "                L[i][j] = L[i-1][j-1] + 1\n",
    "            else:\n",
    "                L[i][j] = max(L[i-1][j], L[i][j-1])\n",
    "\n",
    "    lcs = []\n",
    "    i, j = m, n\n",
    "    while i > 0 and j > 0:\n",
    "        if s[i-1] == t[j-1]:\n",
    "            lcs.append(s[i-1])\n",
    "            i -= 1\n",
    "            j -= 1\n",
    "        elif L[i-1][j] > L[i][j-1]:\n",
    "            i -= 1\n",
    "        else:\n",
    "            j -= 1\n",
    "\n",
    "    return ''.join(reversed(lcs))\n",
    "\n",
    "def parse_input(input_string):\n",
    "    parts = input_string.split('>')\n",
    "    sequences = {}\n",
    "    for part in parts:\n",
    "        if part.strip():\n",
    "            lines = part.strip().split()\n",
    "            if len(lines) >= 2:\n",
    "                seq_id = lines[0]\n",
    "                seq = ''.join(lines[1:])\n",
    "                sequences[seq_id] = seq\n",
    "    return sequences\n",
    "\n",
    "# Get input from the user\n",
    "input_data = input(\"Enter the DNA sequences: \").strip()\n",
    "\n",
    "# Parse input\n",
    "sequences = parse_input(input_data)\n",
    "\n",
    "# Extract the two sequences\n",
    "s, t = list(sequences.values())\n",
    "\n",
    "# Find LCS\n",
    "result = lcs(s, t)\n",
    "\n",
    "# Print result\n",
    "print(result)\n",
    "\n"
   ]
  },
  {
   "cell_type": "markdown",
   "id": "b187a149-8187-4453-841b-79b7b5ec61fa",
   "metadata": {},
   "source": [
    "# Ordering Strings of Varying Length Lexicographically"
   ]
  },
  {
   "cell_type": "code",
   "execution_count": null,
   "id": "dc5fd2a2-75f8-4126-83d9-95e3a2f545ad",
   "metadata": {},
   "outputs": [],
   "source": [
    "Sample Dataset  :  \n",
    "D N A\n",
    "3"
   ]
  },
  {
   "cell_type": "markdown",
   "id": "f5d7016c-89d2-464c-b55c-0314494cbb62",
   "metadata": {},
   "source": [
    "logic: We define a function generate_strings that takes the alphabet and the maximum length n as inputs. It uses itertools.product to generate all possible strings of each length from 1 to n. It then sorts these strings lexicographically based on the given alphabet order.\n",
    "The key to solving this problem is in the sorting step. We use a custom key function for sorting that maps each character to its index in the given alphabet. This ensures that the strings are sorted according to the specified alphabet order."
   ]
  },
  {
   "cell_type": "code",
   "execution_count": 125,
   "id": "e66b89a7-14bd-4419-94f9-602843c7fece",
   "metadata": {},
   "outputs": [
    {
     "name": "stdin",
     "output_type": "stream",
     "text": [
      "Enter the alphabet symbols separated by spaces:  D N A\n",
      "Enter the maximum length n:  3\n"
     ]
    },
    {
     "name": "stdout",
     "output_type": "stream",
     "text": [
      "D\n",
      "DD\n",
      "DDD\n",
      "DDN\n",
      "DDA\n",
      "DN\n",
      "DND\n",
      "DNN\n",
      "DNA\n",
      "DA\n",
      "DAD\n",
      "DAN\n",
      "DAA\n",
      "N\n",
      "ND\n",
      "NDD\n",
      "NDN\n",
      "NDA\n",
      "NN\n",
      "NND\n",
      "NNN\n",
      "NNA\n",
      "NA\n",
      "NAD\n",
      "NAN\n",
      "NAA\n",
      "A\n",
      "AD\n",
      "ADD\n",
      "ADN\n",
      "ADA\n",
      "AN\n",
      "AND\n",
      "ANN\n",
      "ANA\n",
      "AA\n",
      "AAD\n",
      "AAN\n",
      "AAA\n"
     ]
    }
   ],
   "source": [
    "from itertools import product\n",
    "\n",
    "def generate_strings(alphabet, n):\n",
    "    all_strings = []\n",
    "    for length in range(1, n + 1):\n",
    "        all_strings.extend([''.join(p) for p in product(alphabet, repeat=length)])\n",
    "    return sorted(all_strings, key=lambda s: [alphabet.index(c) for c in s])\n",
    "\n",
    "# Get input from the user\n",
    "alphabet_input = input(\"Enter the alphabet symbols separated by spaces: \")\n",
    "n = int(input(\"Enter the maximum length n: \"))\n",
    "\n",
    "# Parse the alphabet\n",
    "alphabet = alphabet_input.split()\n",
    "\n",
    "# Generate and print the strings\n",
    "result = generate_strings(alphabet, n)\n",
    "for string in result:\n",
    "    print(string)"
   ]
  },
  {
   "cell_type": "markdown",
   "id": "974bc8e3-0114-4dd1-91b9-265b9efc60c7",
   "metadata": {},
   "source": [
    "# Maximum Matchings and RNA Secondary Structures"
   ]
  },
  {
   "cell_type": "code",
   "execution_count": null,
   "id": "842795a4-3803-414f-8b72-f1afbbef9dda",
   "metadata": {},
   "outputs": [],
   "source": [
    "Sample Dataset\n",
    ">Rosalind_92\n",
    "AUGCUUC"
   ]
  },
  {
   "cell_type": "markdown",
   "id": "b15344ce-5ac1-4e16-80cc-d11ce65f414d",
   "metadata": {},
   "source": [
    "logic: can_pair(a, b): This function checks if two nucleotides can form a base pair. The count_max_matchings(rna) is the main function that uses dynamic programming to count the number of maximum matchings. It initializes a 2D DP table where dp[i][j] represents the number of maximum matchings for the substring from index i to j. It fills this table bottom-up, considering all possible substrings. For each substring, it considers two cases: a) The first nucleotide is not paired with anything. b) The first nucleotide is paired with some nucleotide further in the sequence. It sums up all possible ways to create maximum matchings. The parse_fasta(fasta_string) function parses the FASTA format input and returns just the RNA sequence, get the input from the user in FASTA format, parse the FASTA input to get the RNA sequence, and then we calculate the number of maximum matchings and print the result."
   ]
  },
  {
   "cell_type": "code",
   "execution_count": 138,
   "id": "c5e93c54-5bab-45c0-8245-daf7ad193e6f",
   "metadata": {},
   "outputs": [
    {
     "name": "stdin",
     "output_type": "stream",
     "text": [
      "Enter the RNA sequence:  >Rosalind_92 AUGCUUC\n"
     ]
    },
    {
     "name": "stdout",
     "output_type": "stream",
     "text": [
      "RNA sequence: AUGCUUC\n",
      "Length of RNA: 7\n",
      "Number of maximum matchings: 2\n"
     ]
    }
   ],
   "source": [
    "def count_max_matchings(rna):\n",
    "    n = len(rna)\n",
    "    print(f\"RNA sequence: {rna}\")\n",
    "    print(f\"Length of RNA: {n}\")\n",
    "    \n",
    "    # Initialize the dynamic programming table\n",
    "    dp = [[0 for _ in range(n)] for _ in range(n)]\n",
    "    \n",
    "    # Initialize base cases\n",
    "    for i in range(n):\n",
    "        dp[i][i] = 1\n",
    "    \n",
    "    # Fill the dp table\n",
    "    for length in range(1, n):\n",
    "        for i in range(n - length):\n",
    "            j = i + length\n",
    "            \n",
    "            # Case 1: i is not paired\n",
    "            dp[i][j] = dp[i+1][j]\n",
    "            \n",
    "            # Case 2: i is paired with k\n",
    "            if can_pair(rna[i], rna[j]):\n",
    "                if i + 1 <= j - 1:\n",
    "                    dp[i][j] += dp[i+1][j-1]\n",
    "                else:\n",
    "                    dp[i][j] += 1\n",
    "    \n",
    "    return dp[0][n-1]\n",
    "\n",
    "def can_pair(a, b):\n",
    "    return (a == 'A' and b == 'U') or (a == 'U' and b == 'A') or \\\n",
    "           (a == 'C' and b == 'G') or (a == 'G' and b == 'C')\n",
    "\n",
    "def parse_input(input_string):\n",
    "    parts = input_string.strip().split()\n",
    "    if len(parts) >= 2:\n",
    "        return parts[-1]  # Return the last part, which should be the RNA sequence\n",
    "    return \"\"\n",
    "\n",
    "# Get input from the user\n",
    "input_data = input(\"Enter the RNA sequence: \").strip()\n",
    "\n",
    "# Parse input\n",
    "rna = parse_input(input_data)\n",
    "\n",
    "# Check if RNA sequence is valid\n",
    "if not rna or not all(nucleotide in 'AUCG' for nucleotide in rna):\n",
    "    print(\"Invalid RNA sequence. Please enter a valid sequence containing only A, U, C, and G.\")\n",
    "else:\n",
    "    # Calculate and print the result\n",
    "    try:\n",
    "        result = count_max_matchings(rna)\n",
    "        print(f\"Number of maximum matchings: {result}\")\n",
    "    except Exception as e:\n",
    "        print(f\"An error occurred: {e}\")\n"
   ]
  },
  {
   "cell_type": "markdown",
   "id": "fb351ac5-6e5a-43a3-b9b3-dc452e54376a",
   "metadata": {},
   "source": [
    "# Creating a Distance Matrix"
   ]
  },
  {
   "cell_type": "code",
   "execution_count": null,
   "id": "444241dc-af38-44c4-8fa6-bec54eb0c6e4",
   "metadata": {},
   "outputs": [],
   "source": [
    "Sample Dataset\n",
    ">Rosalind_9499\n",
    "TTTCCATTTA\n",
    ">Rosalind_0942\n",
    "GATTCATTTC\n",
    ">Rosalind_6568\n",
    "TTTCCATTTT\n",
    ">Rosalind_1833\n",
    "GTTCCATTTA"
   ]
  },
  {
   "cell_type": "markdown",
   "id": "b77c32c9-479b-49f0-bfcd-110686c5214a",
   "metadata": {},
   "source": [
    "logic: The parse_fasta(fasta_string)function parses the FASTA format input and returns a list of sequences. p_distance(s1, s2): Calculates the p-distance between two sequences. The calculate_distance_matrix(sequences) function calculates the distance matrix for all pairs of sequences. "
   ]
  },
  {
   "cell_type": "code",
   "execution_count": 141,
   "id": "d1e2f35f-3499-4297-b241-53a852314e78",
   "metadata": {},
   "outputs": [
    {
     "name": "stdout",
     "output_type": "stream",
     "text": [
      "Enter the DNA sequences in FASTA format (press Enter twice to finish):\n"
     ]
    },
    {
     "name": "stdin",
     "output_type": "stream",
     "text": [
      " >Rosalind_9499 TTTCCATTTA\n",
      " >Rosalind_0942 GATTCATTTC\n",
      " >Rosalind_6568 TTTCCATTTT\n",
      " >Rosalind_1833 GTTCCATTTA\n",
      " \n"
     ]
    },
    {
     "name": "stdout",
     "output_type": "stream",
     "text": [
      "0.00000 0.40000 0.10000 0.10000\n",
      "0.40000 0.00000 0.40000 0.30000\n",
      "0.10000 0.40000 0.00000 0.20000\n",
      "0.10000 0.30000 0.20000 0.00000\n"
     ]
    }
   ],
   "source": [
    "def parse_fasta(fasta_string):\n",
    "    sequences = []\n",
    "    for line in fasta_string.split('\\n'):\n",
    "        parts = line.strip().split()\n",
    "        if len(parts) == 2 and parts[0].startswith('>'):\n",
    "            sequences.append(parts[1])\n",
    "    return sequences\n",
    "\n",
    "def p_distance(s1, s2):\n",
    "    if len(s1) != len(s2):\n",
    "        raise ValueError(\"Sequences must be of equal length\")\n",
    "    \n",
    "    differences = sum(c1 != c2 for c1, c2 in zip(s1, s2))\n",
    "    return differences / len(s1)\n",
    "\n",
    "def calculate_distance_matrix(sequences):\n",
    "    n = len(sequences)\n",
    "    matrix = [[0.0 for _ in range(n)] for _ in range(n)]\n",
    "    \n",
    "    for i in range(n):\n",
    "        for j in range(i+1, n):\n",
    "            distance = p_distance(sequences[i], sequences[j])\n",
    "            matrix[i][j] = distance\n",
    "            matrix[j][i] = distance\n",
    "    \n",
    "    return matrix\n",
    "\n",
    "# Get input from the user\n",
    "print(\"Enter the DNA sequences in FASTA format (press Enter twice to finish):\")\n",
    "fasta_input = ''\n",
    "while True:\n",
    "    line = input()\n",
    "    if line == '':\n",
    "        break\n",
    "    fasta_input += line + '\\n'\n",
    "\n",
    "# Parse FASTA input\n",
    "sequences = parse_fasta(fasta_input)\n",
    "\n",
    "# Calculate distance matrix\n",
    "distance_matrix = calculate_distance_matrix(sequences)\n",
    "\n",
    "# Print the result\n",
    "for row in distance_matrix:\n",
    "    print(' '.join(f'{x:.5f}' for x in row))"
   ]
  },
  {
   "cell_type": "markdown",
   "id": "e806f7f7-be41-4156-a5e0-deeb51f7a83b",
   "metadata": {},
   "source": [
    "# Reversal Distance "
   ]
  },
  {
   "cell_type": "code",
   "execution_count": null,
   "id": "0c1abd6f-ccfc-474c-a4de-59864c5df610",
   "metadata": {},
   "outputs": [],
   "source": [
    "Sample Dataset\n",
    "1 2 3 4 5 6 7 8 9 10\n",
    "3 1 5 2 7 4 9 6 10 8\n",
    "\n",
    "3 10 8 2 5 4 7 1 6 9\n",
    "5 2 3 1 7 4 10 8 6 9\n",
    "\n",
    "8 6 7 9 4 1 3 10 2 5\n",
    "8 2 7 6 9 1 5 3 10 4\n",
    "\n",
    "3 9 10 4 1 8 6 7 5 2\n",
    "2 9 8 5 1 7 3 4 6 10\n",
    "\n",
    "1 2 3 4 5 6 7 8 9 10\n",
    "1 2 3 4 5 6 7 8 9 10"
   ]
  },
  {
   "cell_type": "markdown",
   "id": "597b8246-3143-4d53-b379-9bf366110e4f",
   "metadata": {},
   "source": [
    "logic: The reverse_segment(perm, i, j) function reverses a segment of a permutation between indices i and j. The reversal_distance(perm1, perm2) function calculates the reversal distance between two permutations. It first converts the problem to sorting a permutation to the identity permutation. It then uses a breadth-first search to find the minimum number of reversals needed. It generates all possible reversals at each step and keeps track of seen permutations to avoid cycles."
   ]
  },
  {
   "cell_type": "code",
   "execution_count": 149,
   "id": "1da2ee8d-732e-4ee7-b134-41ea9d718836",
   "metadata": {},
   "outputs": [
    {
     "name": "stdout",
     "output_type": "stream",
     "text": [
      "9 4 5 7 0\n"
     ]
    }
   ],
   "source": [
    "from itertools import combinations\n",
    "from collections import deque\n",
    "\n",
    "def reverse_segment(perm, i, j):\n",
    "    return perm[:i] + perm[i:j][::-1] + perm[j:]\n",
    "\n",
    "def reversal_distance(perm1, perm2):\n",
    "    target = tuple(perm2)\n",
    "    seen = set()\n",
    "    queue = deque([(tuple(perm1), 0)])\n",
    "    \n",
    "    while queue:\n",
    "        current, dist = queue.popleft()\n",
    "        \n",
    "        if current == target:\n",
    "            return dist\n",
    "        \n",
    "        for i, j in combinations(range(len(current) + 1), 2):\n",
    "            new_perm = reverse_segment(current, i, j)\n",
    "            if new_perm not in seen:\n",
    "                seen.add(new_perm)\n",
    "                queue.append((new_perm, dist + 1))\n",
    "    \n",
    "    return -1  # Should never reach here for valid input\n",
    "\n",
    "# Sample Dataset\n",
    "dataset = [\n",
    "    ([1, 2, 3, 4, 5, 6, 7, 8, 9, 10], [3, 1, 5, 2, 7, 4, 9, 6, 10, 8]),\n",
    "    ([3, 10, 8, 2, 5, 4, 7, 1, 6, 9], [5, 2, 3, 1, 7, 4, 10, 8, 6, 9]),\n",
    "    ([8, 6, 7, 9, 4, 1, 3, 10, 2, 5], [8, 2, 7, 6, 9, 1, 5, 3, 10, 4]),\n",
    "    ([3, 9, 10, 4, 1, 8, 6, 7, 5, 2], [2, 9, 8, 5, 1, 7, 3, 4, 6, 10]),\n",
    "    ([1, 2, 3, 4, 5, 6, 7, 8, 9, 10], [1, 2, 3, 4, 5, 6, 7, 8, 9, 10])\n",
    "]\n",
    "\n",
    "# Calculate reversal distances for each pair\n",
    "distances = []\n",
    "for perm1, perm2 in dataset:\n",
    "    distances.append(reversal_distance(perm1, perm2))\n",
    "\n",
    "# Print results\n",
    "print(' '.join(map(str, distances)))\n"
   ]
  },
  {
   "cell_type": "markdown",
   "id": "52f8323f-815f-4cea-b585-7ce93cd9428f",
   "metadata": {},
   "source": [
    "# Matching Random Motifs"
   ]
  },
  {
   "cell_type": "markdown",
   "id": "f8d6047f-62a8-4af0-8bda-764f101fd058",
   "metadata": {},
   "source": [
    "Sample Dataset  :  \n",
    "90000 0.6\n",
    "ATAGCCGA"
   ]
  },
  {
   "cell_type": "markdown",
   "id": "2b6d646f-151e-4cae-90a3-d43d23cb5560",
   "metadata": {},
   "source": [
    "logic: Explanation of the Code:\n",
    "calculate_probability Function: This function takes three arguments:\n",
    "\n",
    "N: Number of random DNA strings.\n",
    "x: GC-content probability.\n",
    "s: DNA motif string.\n",
    "Probability Calculation:\n",
    "\n",
    "prob_GC and prob_AT are calculated based on the given GC-content \n",
    "𝑥\n",
    "x.\n",
    "The probability \n",
    "𝑃\n",
    "P is calculated by iterating over each base in the motif string \n",
    "𝑠\n",
    "s and multiplying the corresponding probabilities.\n",
    "Complement Probability:\n",
    "\n",
    "The probability that none of the \n",
    "𝑁\n",
    "N strings match \n",
    "𝑠\n",
    "s is calculated using \n",
    "(\n",
    "1\n",
    "−\n",
    "𝑃\n",
    ")\n",
    "𝑁\n",
    "(1−P) \n",
    "N\n",
    " .\n",
    "The probability that at least one matches is \n",
    "1\n",
    "−\n",
    "(\n",
    "1\n",
    "−\n",
    "𝑃\n",
    ")\n",
    "𝑁\n",
    "1−(1−P) \n",
    "N\n",
    " .\n",
    "Result Output: The result is printed with three decimal places."
   ]
  },
  {
   "cell_type": "code",
   "execution_count": 151,
   "id": "d5b1b5f3-11df-4c66-aee3-dd2b1a0a05d6",
   "metadata": {},
   "outputs": [
    {
     "name": "stdout",
     "output_type": "stream",
     "text": [
      "0.689\n"
     ]
    }
   ],
   "source": [
    "def calculate_probability(N, x, s):\n",
    "    # Calculate the probability of each base in the motif s\n",
    "    prob_GC = x / 2\n",
    "    prob_AT = (1 - x) / 2\n",
    "\n",
    "    # Calculate the probability P that a random string equals the motif s\n",
    "    P = 1.0\n",
    "    for base in s:\n",
    "        if base in 'GC':\n",
    "            P *= prob_GC\n",
    "        elif base in 'AT':\n",
    "            P *= prob_AT\n",
    "\n",
    "    # Calculate the probability that at least one of the N strings matches s\n",
    "    probability_at_least_one_match = 1 - (1 - P) ** N\n",
    "\n",
    "    return probability_at_least_one_match\n",
    "\n",
    "# Sample Dataset\n",
    "N = 90000\n",
    "x = 0.6\n",
    "s = \"ATAGCCGA\"\n",
    "\n",
    "# Calculate the result\n",
    "result = calculate_probability(N, x, s)\n",
    "\n",
    "# Print the result\n",
    "print(f\"{result:.3f}\")\n"
   ]
  },
  {
   "cell_type": "markdown",
   "id": "c1dea3a8-1407-4662-9f82-d0c039f95607",
   "metadata": {},
   "source": [
    "# Expected Number of Restriction Sites"
   ]
  },
  {
   "cell_type": "markdown",
   "id": "ad40db6b-cf95-4ce7-976e-863720d11246",
   "metadata": {},
   "source": [
    "Sample Dataset\n",
    "10\n",
    "AG\n",
    "0.25 0.5 0.75"
   ]
  },
  {
   "cell_type": "code",
   "execution_count": 153,
   "id": "0e7b9b6d-3805-4ba3-91ac-255a00dd29d8",
   "metadata": {},
   "outputs": [
    {
     "name": "stdout",
     "output_type": "stream",
     "text": [
      "0.422 0.562 0.422\n"
     ]
    }
   ],
   "source": [
    "def expected_occurrences(n, s, A):\n",
    "    len_s = len(s)\n",
    "    B = []\n",
    "\n",
    "    for gc_content in A:\n",
    "        prob_GC = gc_content / 2\n",
    "        prob_AT = (1 - gc_content) / 2\n",
    "\n",
    "        # Calculate the probability P that a random string equals the motif s\n",
    "        P = 1.0\n",
    "        for base in s:\n",
    "            if base in 'GC':\n",
    "                P *= prob_GC\n",
    "            elif base in 'AT':\n",
    "                P *= prob_AT\n",
    "\n",
    "        # Calculate the expected number of times s appears in a random DNA string of length n\n",
    "        E = (n - len_s + 1) * P\n",
    "        B.append(E)\n",
    "    \n",
    "    return B\n",
    "\n",
    "# Sample Dataset\n",
    "n = 10\n",
    "s = \"AG\"\n",
    "A = [0.25, 0.5, 0.75]\n",
    "\n",
    "# Calculate the expected occurrences for each GC-content in A\n",
    "result = expected_occurrences(n, s, A)\n",
    "\n",
    "# Print results formatted to three decimal places\n",
    "print(' '.join(f\"{x:.3f}\" for x in result))\n"
   ]
  },
  {
   "cell_type": "markdown",
   "id": "61920754-3c69-4440-a62f-a4e737ed4b23",
   "metadata": {},
   "source": [
    "# Motzkin Numbers and RNA Secondary Structures"
   ]
  },
  {
   "cell_type": "markdown",
   "id": "9aed55cf-8f8a-4028-b57f-727c3380883e",
   "metadata": {},
   "source": [
    "Sample Dataset   :  \n",
    ">Rosalind_57\n",
    "AUAU"
   ]
  },
  {
   "cell_type": "markdown",
   "id": "f34bc1e9-a6c1-4ae4-841a-8352b8356ef1",
   "metadata": {},
   "source": [
    "logic: To solve this problem, we need to compute the number of noncrossing matchings of basepair edges in the bonding graph of an RNA string using a modified Motzkin recurrence relation. The function is_valid_pair checks if two bases can form a valid RNA pair.\n",
    "The count_noncrossing_matchings function initializes a DP table where dp[i][i] = 1 (base case). Fills the DP table for substrings of increasing length. Uses the recurrence relation to compute dp[i][j] based on the possible valid pairs. Returns dp[0][len(s)-1], which represents the number of noncrossing matchings for the entire string."
   ]
  },
  {
   "cell_type": "code",
   "execution_count": 156,
   "id": "2470c50b-bb55-4419-905b-7c88b8396856",
   "metadata": {},
   "outputs": [
    {
     "name": "stdout",
     "output_type": "stream",
     "text": [
      "7\n"
     ]
    }
   ],
   "source": [
    "MOD = 1000000\n",
    "\n",
    "def is_valid_pair(base1, base2):\n",
    "    return (base1 == 'A' and base2 == 'U') or \\\n",
    "           (base1 == 'U' and base2 == 'A') or \\\n",
    "           (base1 == 'C' and base2 == 'G') or \\\n",
    "           (base1 == 'G' and base2 == 'C')\n",
    "\n",
    "def count_noncrossing_matchings(s):\n",
    "    n = len(s)\n",
    "    dp = [[0] * n for _ in range(n)]\n",
    "    \n",
    "    for i in range(n):\n",
    "        dp[i][i] = 1\n",
    "        if i < n - 1:\n",
    "            dp[i][i+1] = 1 + is_valid_pair(s[i], s[i+1])\n",
    "\n",
    "    for length in range(2, n):\n",
    "        for i in range(n - length):\n",
    "            j = i + length\n",
    "            dp[i][j] = dp[i+1][j]\n",
    "            for k in range(i+1, j+1):\n",
    "                if is_valid_pair(s[i], s[k]):\n",
    "                    left = dp[i+1][k-1] if k-1 >= i+1 else 1\n",
    "                    right = dp[k+1][j] if k+1 <= j else 1\n",
    "                    dp[i][j] = (dp[i][j] + left * right) % MOD\n",
    "    \n",
    "    return dp[0][n-1]\n",
    "\n",
    "# Sample Dataset\n",
    "s = \"AUAU\"\n",
    "\n",
    "# Calculate the result\n",
    "result = count_noncrossing_matchings(s)\n",
    "\n",
    "# Print the result\n",
    "print(result)\n"
   ]
  },
  {
   "cell_type": "markdown",
   "id": "6615a17e-9a10-49b8-9fbd-5ccc3e52ad73",
   "metadata": {},
   "source": [
    "# Distance in Trees"
   ]
  },
  {
   "cell_type": "code",
   "execution_count": null,
   "id": "4dacff38-99b0-45b9-ad31-82646ad04766",
   "metadata": {},
   "outputs": [],
   "source": [
    "Sample Dataset\n",
    "(cat)dog;\n",
    "dog cat\n",
    "\n",
    "(dog,cat);\n",
    "dog cat"
   ]
  },
  {
   "cell_type": "markdown",
   "id": "e2141463-deee-4a88-b690-a68ba7065e22",
   "metadata": {},
   "source": [
    "logic: Parse the Newick Format:\n",
    "\n",
    "Newick format represents trees using a nested parenthesis structure. We need to parse this format to reconstruct the tree structure.\n",
    "Build the Tree:\n",
    "\n",
    "Use the parsed Newick format to build a tree data structure, such as an adjacency list.\n",
    "Compute the Distance Between Nodes:\n",
    "\n",
    "Once the tree is built, use a graph traversal algorithm (like BFS or DFS) to find the shortest path (distance) between the two specified nodes."
   ]
  },
  {
   "cell_type": "code",
   "execution_count": null,
   "id": "dd1fc0b7-54c5-4775-aa00-41eb95136e2a",
   "metadata": {
    "scrolled": true
   },
   "outputs": [],
   "source": [
    "from ete3 import Tree\n",
    "\n",
    "def newick_distance(newick_string, node1, node2):\n",
    "    tree = Tree(newick_string)\n",
    "    distance = tree.get_distance(node1, node2)\n",
    "    return distance\n",
    "\n",
    "def main():\n",
    "    with open(\"input.txt\") as file:\n",
    "        lines = file.readlines()\n",
    "\n",
    "    for i in range(0, len(lines), 2):\n",
    "        newick_string = lines[i].strip()\n",
    "        node1, node2 = lines[i + 1].strip().split()\n",
    "        distance = newick_distance(newick_string, node1, node2)\n",
    "        print(distance)\n",
    "\n",
    "if __name__ == \"__main__\":\n",
    "    main()\n"
   ]
  },
  {
   "cell_type": "markdown",
   "id": "b4847634-2d7b-4f85-b8ca-58b43aa1271d",
   "metadata": {},
   "source": [
    "# Interleaving Two Motifs"
   ]
  },
  {
   "cell_type": "markdown",
   "id": "d161781c-85c7-46be-a468-bae7953575cb",
   "metadata": {},
   "source": [
    "Sample Dataset  :  \n",
    "ATCTGAT\n",
    "TGCATA"
   ]
  },
  {
   "cell_type": "markdown",
   "id": "d7ab749f-3bbb-45f9-8263-e0adb7d5c57f",
   "metadata": {},
   "source": [
    "logic: DP Table Initialization:\n",
    "\n",
    "The table dp is initialized with dimensions (m+1) x (n+1) where m and n are the lengths of s and t, respectively.\n",
    "Filling the DP Table:\n",
    "\n",
    "If either string is empty (i == 0 or j == 0), the length of the SCS is the length of the other string.\n",
    "If the characters match (s[i-1] == t[j-1]), the length of the SCS is dp[i-1][j-1] + 1.\n",
    "If they don't match, the length of the SCS is min(dp[i-1][j], dp[i][j-1]) + 1.\n",
    "Reconstructing the SCS:\n",
    "\n",
    "Starting from dp[m][n], trace back to reconstruct the SCS by comparing the characters of s and t and following the minimum values in the DP table.\n",
    "Append the remaining characters of s or t to the SCS if any.\n",
    "Output:\n",
    "\n",
    "The function prints the SCS, which is the shortest string containing both s and t as subsequences."
   ]
  },
  {
   "cell_type": "code",
   "execution_count": 170,
   "id": "d0de7df2-e948-406c-8063-a01b94ae4cd1",
   "metadata": {},
   "outputs": [
    {
     "name": "stdout",
     "output_type": "stream",
     "text": [
      "ATCTGCATA\n"
     ]
    }
   ],
   "source": [
    "def shortest_common_supersequence(s, t):\n",
    "    m, n = len(s), len(t)\n",
    "    dp = [[0] * (n + 1) for _ in range(m + 1)]\n",
    "\n",
    "    # Fill the dp table\n",
    "    for i in range(m + 1):\n",
    "        for j in range(n + 1):\n",
    "            if i == 0:\n",
    "                dp[i][j] = j\n",
    "            elif j == 0:\n",
    "                dp[i][j] = i\n",
    "            elif s[i - 1] == t[j - 1]:\n",
    "                dp[i][j] = dp[i - 1][j - 1] + 1\n",
    "            else:\n",
    "                dp[i][j] = min(dp[i - 1][j], dp[i][j - 1]) + 1\n",
    "\n",
    "    # Reconstruct the SCS from the dp table\n",
    "    scs = []\n",
    "    i, j = m, n\n",
    "    while i > 0 and j > 0:\n",
    "        if s[i - 1] == t[j - 1]:\n",
    "            scs.append(s[i - 1])\n",
    "            i -= 1\n",
    "            j -= 1\n",
    "        elif dp[i - 1][j] < dp[i][j - 1]:\n",
    "            scs.append(s[i - 1])\n",
    "            i -= 1\n",
    "        else:\n",
    "            scs.append(t[j - 1])\n",
    "            j -= 1\n",
    "\n",
    "    # Add remaining characters of s or t\n",
    "    while i > 0:\n",
    "        scs.append(s[i - 1])\n",
    "        i -= 1\n",
    "    while j > 0:\n",
    "        scs.append(t[j - 1])\n",
    "        j -= 1\n",
    "\n",
    "    return ''.join(reversed(scs))\n",
    "\n",
    "# Sample Dataset\n",
    "s = \"ATCTGAT\"\n",
    "t = \"TGCATA\"\n",
    "\n",
    "# Calculate the SCS\n",
    "scs = shortest_common_supersequence(s, t)\n",
    "\n",
    "# Print the result\n",
    "print(scs)\n"
   ]
  },
  {
   "cell_type": "code",
   "execution_count": null,
   "id": "85dd8026-0670-4f25-8801-a2f5279f6648",
   "metadata": {},
   "outputs": [],
   "source": []
  }
 ],
 "metadata": {
  "kernelspec": {
   "display_name": "Python 3 (ipykernel)",
   "language": "python",
   "name": "python3"
  },
  "language_info": {
   "codemirror_mode": {
    "name": "ipython",
    "version": 3
   },
   "file_extension": ".py",
   "mimetype": "text/x-python",
   "name": "python",
   "nbconvert_exporter": "python",
   "pygments_lexer": "ipython3",
   "version": "3.12.4"
  }
 },
 "nbformat": 4,
 "nbformat_minor": 5
}
