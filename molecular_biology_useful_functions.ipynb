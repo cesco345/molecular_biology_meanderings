{
 "cells": [
  {
   "cell_type": "markdown",
   "id": "861ffe76-521e-4377-9516-829b7b899237",
   "metadata": {},
   "source": [
    "# Counting Nucleotides in a DNA String"
   ]
  },
  {
   "cell_type": "markdown",
   "id": "45564d83-ba0e-4503-809f-d1fef0a91fd7",
   "metadata": {},
   "source": [
    "Sample Dataset\n",
    "\n",
    "\n",
    "\n",
    "AGCTTTTCATTCTGACTGCAACGGGCAATATGTCTCTGTGTGGATTAAAAAAAGAGTGTCTGATAGCAGC"
   ]
  },
  {
   "cell_type": "markdown",
   "id": "956627cb-09e5-44b7-b58d-988a1128d444",
   "metadata": {},
   "source": [
    "logic: In order to count the occurrences of each nucleotide (A, C, G, T) in the given DNA string. Let's write a Python function to do this:"
   ]
  },
  {
   "cell_type": "code",
   "execution_count": 1,
   "id": "7a59f273-6c05-4b4a-8b05-922c3d5841a1",
   "metadata": {},
   "outputs": [
    {
     "name": "stdout",
     "output_type": "stream",
     "text": [
      "20 12 17 21\n"
     ]
    }
   ],
   "source": [
    "def count_nucleotides(dna_string):\n",
    "    return (\n",
    "        dna_string.count('A'),\n",
    "        dna_string.count('C'),\n",
    "        dna_string.count('G'),\n",
    "        dna_string.count('T')\n",
    "    )\n",
    "\n",
    "# Test with the sample dataset\n",
    "sample_dna = \"AGCTTTTCATTCTGACTGCAACGGGCAATATGTCTCTGTGTGGATTAAAAAAAGAGTGTCTGATAGCAGC\"\n",
    "result = count_nucleotides(sample_dna)\n",
    "print(\" \".join(map(str, result)))"
   ]
  },
  {
   "cell_type": "markdown",
   "id": "a46a2b2a-cc38-4fd3-bb37-4a9e066a32f7",
   "metadata": {},
   "source": [
    "# Conversion from DNA string to RNA string"
   ]
  },
  {
   "cell_type": "markdown",
   "id": "e11dbcf3-d209-4906-8c69-8ce825ce56c7",
   "metadata": {},
   "source": [
    "Sample Dataset:\n",
    "GATGGAACTTGACTACGTAAATT\n",
    "\n",
    "logic: In order to solve this problem, we need to create a function that transcribes a DNA string to an RNA string by replacing all occurrences of 'T' with 'U'. Here's a Python function to accomplish this:"
   ]
  },
  {
   "cell_type": "code",
   "execution_count": 2,
   "id": "9f67fe82-c5ae-4a98-a4ff-11e3313c98d0",
   "metadata": {},
   "outputs": [
    {
     "name": "stdout",
     "output_type": "stream",
     "text": [
      "GAUGGAACUUGACUACGUAAAUU\n"
     ]
    }
   ],
   "source": [
    "def dna_to_rna(dna_string):\n",
    "    return dna_string.replace('T', 'U')\n",
    "\n",
    "# Test with the sample dataset\n",
    "sample_dna = \"GATGGAACTTGACTACGTAAATT\"\n",
    "rna_string = dna_to_rna(sample_dna)\n",
    "print(rna_string)"
   ]
  },
  {
   "cell_type": "markdown",
   "id": "52e075bd-02d8-4fdd-adf4-8df0e7168440",
   "metadata": {},
   "source": [
    "# Complementing a Strand of DNA"
   ]
  },
  {
   "cell_type": "markdown",
   "id": "c7f8c83b-8d87-40bb-a15c-453cd861efae",
   "metadata": {},
   "source": [
    "Sample Dataset:  \n",
    "AAAACCCGGT"
   ]
  },
  {
   "cell_type": "markdown",
   "id": "bd7d6f18-6292-4665-b54e-4b30f0aaffc9",
   "metadata": {},
   "source": [
    "logic: To solve this problem, we need to create a function that produces the reverse complement of a given DNA string. Here's a Python function to accomplish this:"
   ]
  },
  {
   "cell_type": "code",
   "execution_count": 3,
   "id": "09f006ee-22a8-4599-a1e2-3aa7884044f0",
   "metadata": {},
   "outputs": [
    {
     "name": "stdout",
     "output_type": "stream",
     "text": [
      "ACCGGGTTTT\n"
     ]
    }
   ],
   "source": [
    "def reverse_complement(dna_string):\n",
    "    complement = {'A': 'T', 'T': 'A', 'C': 'G', 'G': 'C'}\n",
    "    return ''.join(complement[base] for base in reversed(dna_string))\n",
    "\n",
    "# Test with the sample dataset\n",
    "sample_dna = \"AAAACCCGGT\"\n",
    "result = reverse_complement(sample_dna)\n",
    "print(result)"
   ]
  },
  {
   "cell_type": "markdown",
   "id": "c7db5357-3771-456c-a3bb-491ab407dd14",
   "metadata": {},
   "source": [
    "# Fibonacci's Rabbits and Recurrence Relations"
   ]
  },
  {
   "cell_type": "markdown",
   "id": "303b153b-5503-4eaf-b306-89d04fc284d0",
   "metadata": {},
   "source": [
    "Example of a variation of the Fibonacci sequence, often referred to as the \"Rabbit Sequence\" or \"Fibonacci's Rabbits\". "
   ]
  },
  {
   "cell_type": "markdown",
   "id": "8f36b108-9918-4fee-bbf5-a7d938a2fba7",
   "metadata": {},
   "source": [
    "Sample Dataset:  \n",
    "5 3"
   ]
  },
  {
   "cell_type": "markdown",
   "id": "c11e50e9-93d4-411d-852c-be1fb6f3852a",
   "metadata": {},
   "source": [
    "logic:  In the first month, we start with 1 mature pair and 0 immature pairs. In each subsequent month the number of new immature pairs is the number of mature pairs from last month multiplied by k. The number of new mature pairs is the sum of immature and mature pairs from last month (all rabbits mature after one month). We update our mature and immature counts for the next iteration. The total number of pairs is the sum of mature and immature pairs."
   ]
  },
  {
   "cell_type": "code",
   "execution_count": 10,
   "id": "6dbc2493-1a5c-4710-93fa-4ca84fc49718",
   "metadata": {},
   "outputs": [
    {
     "name": "stdout",
     "output_type": "stream",
     "text": [
      "Month 3: 4\n",
      "Month 4: 7\n",
      "Month 5: 19\n",
      "Final result: 19\n"
     ]
    }
   ],
   "source": [
    "def rabbit_pairs(n, k):\n",
    "    if n <= 2:\n",
    "        return 1\n",
    "    \n",
    "    # Initialize the first two months\n",
    "    mature = 1  # Mature (reproductive) pairs\n",
    "    immature = 0  # Immature pairs\n",
    "    \n",
    "    # Calculate rabbit pairs for each month\n",
    "    for month in range(2, n):\n",
    "        # New immature pairs = mature pairs * k\n",
    "        new_immature = mature * k\n",
    "        # New mature pairs = last month's immature pairs + last month's mature pairs\n",
    "        new_mature = immature + mature\n",
    "        \n",
    "        mature = new_mature\n",
    "        immature = new_immature\n",
    "        \n",
    "        total = mature + immature\n",
    "        print(f\"Month {month+1}: {total}\")\n",
    "    \n",
    "    return mature + immature\n",
    "\n",
    "# Test with the sample dataset\n",
    "n, k = 5, 3\n",
    "result = rabbit_pairs(n, k)\n",
    "print(f\"Final result: {result}\")"
   ]
  },
  {
   "cell_type": "markdown",
   "id": "6ff54d73-7bad-4401-ade1-7e1ecebb604d",
   "metadata": {},
   "source": [
    "# Computing GC Content"
   ]
  },
  {
   "cell_type": "markdown",
   "id": "ef53046f-d86d-46fd-b041-2eff1e99d5f6",
   "metadata": {},
   "source": [
    "Because of the base pairing relations of the two DNA strands, cytosine and guanine will always appear in equal amounts in a double-stranded DNA molecule. Thus, to analyze the symbol frequencies of DNA for comparison against a database, we compute the molecule's GC-content, or the percentage of its bases that are either cytosine or guanine."
   ]
  },
  {
   "cell_type": "code",
   "execution_count": null,
   "id": "d527e78a-d616-4f9c-bd64-f98a79bba0cc",
   "metadata": {},
   "outputs": [],
   "source": [
    "Sample Dataset\n",
    ">Sequence_6404\n",
    "CCTGCGGAAGATCGGCACTAGAATAGCCAGAACCGTTTCTCTGAGGCTTCCGGCCTTCCC\n",
    "TCCCACTAATAATTCTGAGG\n",
    ">Sequence_5959\n",
    "CCATCGGTAGCGCATCCTTAGTCCAATTAAGTCCCTATCCAGGCGCTCCGCCGAAGGTCT\n",
    "ATATCCATTTGTCAGCAGACACGC\n",
    ">Sequence_0808\n",
    "CCACCCTCGTGGTATGGCTAGGCATTCAGGAACCGGAGAACGCTTCAGACCAGCCCGGAC\n",
    "TGGGAACCTGCGGGCAGTAGGTGGAAT"
   ]
  },
  {
   "cell_type": "markdown",
   "id": "2ff310dc-6057-4984-8a50-12159cef599f",
   "metadata": {},
   "source": [
    "logic: To solve this problem, we need to create a function that can parse FASTA format DNA strings, calculate their GC-content, and return the ID of the string with the highest GC-content along with its GC-content percentage. "
   ]
  },
  {
   "cell_type": "code",
   "execution_count": 11,
   "id": "b2b0662b-f88a-47f5-85ae-6c5be3a6094f",
   "metadata": {},
   "outputs": [
    {
     "name": "stdout",
     "output_type": "stream",
     "text": [
      "Sequence_0808\n",
      "60.919540\n"
     ]
    }
   ],
   "source": [
    "def parse_fasta(fasta_string):\n",
    "    sequences = {}\n",
    "    current_id = None\n",
    "    current_seq = []\n",
    "\n",
    "    for line in fasta_string.split('\\n'):\n",
    "        if line.startswith('>'):\n",
    "            if current_id:\n",
    "                sequences[current_id] = ''.join(current_seq)\n",
    "            current_id = line[1:]\n",
    "            current_seq = []\n",
    "        else:\n",
    "            current_seq.append(line)\n",
    "\n",
    "    if current_id:\n",
    "        sequences[current_id] = ''.join(current_seq)\n",
    "\n",
    "    return sequences\n",
    "\n",
    "def gc_content(dna_string):\n",
    "    gc_count = dna_string.count('G') + dna_string.count('C')\n",
    "    return (gc_count / len(dna_string)) * 100\n",
    "\n",
    "def highest_gc_content(fasta_string):\n",
    "    sequences = parse_fasta(fasta_string)\n",
    "    max_gc = 0\n",
    "    max_id = ''\n",
    "\n",
    "    for seq_id, sequence in sequences.items():\n",
    "        gc = gc_content(sequence)\n",
    "        if gc > max_gc:\n",
    "            max_gc = gc\n",
    "            max_id = seq_id\n",
    "\n",
    "    return max_id, max_gc\n",
    "\n",
    "# Test with the sample dataset\n",
    "sample_data = \"\"\">Sequence_6404\n",
    "CCTGCGGAAGATCGGCACTAGAATAGCCAGAACCGTTTCTCTGAGGCTTCCGGCCTTCCC\n",
    "TCCCACTAATAATTCTGAGG\n",
    ">Sequence_5959\n",
    "CCATCGGTAGCGCATCCTTAGTCCAATTAAGTCCCTATCCAGGCGCTCCGCCGAAGGTCT\n",
    "ATATCCATTTGTCAGCAGACACGC\n",
    ">Sequence_0808\n",
    "CCACCCTCGTGGTATGGCTAGGCATTCAGGAACCGGAGAACGCTTCAGACCAGCCCGGAC\n",
    "TGGGAACCTGCGGGCAGTAGGTGGAAT\"\"\"\n",
    "\n",
    "result_id, result_gc = highest_gc_content(sample_data)\n",
    "print(result_id)\n",
    "print(f\"{result_gc:.6f}\")"
   ]
  },
  {
   "cell_type": "markdown",
   "id": "6ec3eaa3-c784-40ac-bc2f-69242ec6b5f1",
   "metadata": {},
   "source": [
    "# Counting Point Mutations and Hamming Distance"
   ]
  },
  {
   "cell_type": "markdown",
   "id": "8fa126a2-73d8-4881-b112-b968da54c112",
   "metadata": {},
   "source": [
    "Sample Dataset:\n",
    "\n",
    "Sequence A: GAGCCTACTAACGGGAT , \n",
    "Sequence B: CATCGTAATGACGGCCT"
   ]
  },
  {
   "cell_type": "markdown",
   "id": "dea186ab-7c46-44e0-9aa7-436697220c25",
   "metadata": {},
   "source": [
    "logic: To solve this problem, we need to create a function that calculates the Hamming distance between two DNA strings. "
   ]
  },
  {
   "cell_type": "code",
   "execution_count": 14,
   "id": "d98b34d5-cc33-4246-a600-3e69af82c6dd",
   "metadata": {},
   "outputs": [
    {
     "name": "stdout",
     "output_type": "stream",
     "text": [
      "7\n"
     ]
    }
   ],
   "source": [
    "def hamming_distance(s, t):\n",
    "    if len(s) != len(t):\n",
    "        raise ValueError(\"Strings must be of equal length\")\n",
    "    \n",
    "    return sum(c1 != c2 for c1, c2 in zip(s, t))\n",
    "\n",
    "# Test with the sample dataset\n",
    "s = \"GAGCCTACTAACGGGAT\"\n",
    "t = \"CATCGTAATGACGGCCT\"\n",
    "\n",
    "distance = hamming_distance(s, t)\n",
    "print(distance)"
   ]
  },
  {
   "cell_type": "markdown",
   "id": "ad630664-2983-4af9-866d-40a5cdf1ed3a",
   "metadata": {},
   "source": [
    "# Mendel's Law of Segregation"
   ]
  },
  {
   "cell_type": "markdown",
   "id": "4f65562d-ca1a-46f4-bcd3-9427da0205ff",
   "metadata": {},
   "source": [
    "Sample Dataset:  2 , 2 , 2"
   ]
  },
  {
   "cell_type": "markdown",
   "id": "08b49162-b8ac-4eee-b1fc-ff07e7dbc4c9",
   "metadata": {},
   "source": [
    "logic: To solve this problem, we need to calculate the probability of producing an offspring with a dominant allele when randomly selecting two organisms from a population. We calculate the total number of organisms and the total number of possible pairs. We then calculate the probability for each scenario that results in a dominant allele. When k (homozygous dominant) mates with anyone, it's always dominant. When m (heterozygous) mates with m, there's a 0.75 chance of dominant allele. When m mates with n (homozygous recessive), there's a 0.5 chance of dominant allele."
   ]
  },
  {
   "cell_type": "code",
   "execution_count": 20,
   "id": "70fe2c6a-62a9-49ed-82f5-7b31cf3b5038",
   "metadata": {},
   "outputs": [
    {
     "name": "stdout",
     "output_type": "stream",
     "text": [
      "0.78333\n"
     ]
    }
   ],
   "source": [
    "def dominant_allele_probability(k, m, n):\n",
    "    total = k + m + n\n",
    "    total_pairs = total * (total - 1)  # Total number of ways to choose 2 organisms\n",
    "    \n",
    "    # Probabilities of getting at least one dominant allele:\n",
    "    \n",
    "    # k with k\n",
    "    p_kk = k * (k - 1) / total_pairs\n",
    "    \n",
    "    # k with m or n\n",
    "    p_k_other = k * (m + n) * 2 / total_pairs\n",
    "    \n",
    "    # m with m (0.75 chance)\n",
    "    p_mm = m * (m - 1) / total_pairs * 0.75\n",
    "    \n",
    "    # m with n (0.5 chance)\n",
    "    p_mn = m * n * 2 / total_pairs * 0.5\n",
    "    \n",
    "    # Probability of getting a dominant allele\n",
    "    probability = p_kk + p_k_other + p_mm + p_mn\n",
    "    \n",
    "    return probability\n",
    "\n",
    "# Test with the sample dataset\n",
    "k, m, n = 2, 2, 2\n",
    "result = dominant_allele_probability(k, m, n)\n",
    "print(f\"{result:.5f}\")"
   ]
  },
  {
   "cell_type": "markdown",
   "id": "08fca32e-bdd5-4926-92d9-b915a50720e0",
   "metadata": {},
   "source": [
    "# Translating RNA into Protein"
   ]
  },
  {
   "cell_type": "markdown",
   "id": "0bf98bb0-a26e-41bd-823c-cad478a6f746",
   "metadata": {},
   "source": [
    "Sample Dataset : AUGGCCAUGGCGCCCAGAACUGAGAUCAAUAGUACCCGUAUUAACGGGUGA"
   ]
  },
  {
   "cell_type": "markdown",
   "id": "d24da18e-9076-4965-bbaf-b9998f65d5cb",
   "metadata": {},
   "source": [
    "logic: To solve this problem, we need to translate an RNA sequence into a protein sequence using the RNA codon table. We define a codon_table dictionary that maps each RNA codon to its corresponding amino acid. The rna_to_protein function takes an RNA string as input and translates it to a protein string. It iterates over the RNA string in steps of 3 (each codon is 3 nucleotides). For each codon, it looks up the corresponding amino acid in the codon_table. If it encounters a 'Stop' codon, it stops the translation. It builds up the protein string one amino acid at a time. We test the function with the sample dataset provided."
   ]
  },
  {
   "cell_type": "code",
   "execution_count": 22,
   "id": "5f6e5ac8-216b-4e04-a194-014d9684c6b0",
   "metadata": {},
   "outputs": [
    {
     "name": "stdout",
     "output_type": "stream",
     "text": [
      "MAMAPRTEINSTRING\n"
     ]
    }
   ],
   "source": [
    "def rna_to_protein(rna_string):\n",
    "    # RNA codon table\n",
    "    codon_table = {\n",
    "        'UUU': 'F', 'CUU': 'L', 'AUU': 'I', 'GUU': 'V',\n",
    "        'UUC': 'F', 'CUC': 'L', 'AUC': 'I', 'GUC': 'V',\n",
    "        'UUA': 'L', 'CUA': 'L', 'AUA': 'I', 'GUA': 'V',\n",
    "        'UUG': 'L', 'CUG': 'L', 'AUG': 'M', 'GUG': 'V',\n",
    "        'UCU': 'S', 'CCU': 'P', 'ACU': 'T', 'GCU': 'A',\n",
    "        'UCC': 'S', 'CCC': 'P', 'ACC': 'T', 'GCC': 'A',\n",
    "        'UCA': 'S', 'CCA': 'P', 'ACA': 'T', 'GCA': 'A',\n",
    "        'UCG': 'S', 'CCG': 'P', 'ACG': 'T', 'GCG': 'A',\n",
    "        'UAU': 'Y', 'CAU': 'H', 'AAU': 'N', 'GAU': 'D',\n",
    "        'UAC': 'Y', 'CAC': 'H', 'AAC': 'N', 'GAC': 'D',\n",
    "        'UAA': 'Stop', 'CAA': 'Q', 'AAA': 'K', 'GAA': 'E',\n",
    "        'UAG': 'Stop', 'CAG': 'Q', 'AAG': 'K', 'GAG': 'E',\n",
    "        'UGU': 'C', 'CGU': 'R', 'AGU': 'S', 'GGU': 'G',\n",
    "        'UGC': 'C', 'CGC': 'R', 'AGC': 'S', 'GGC': 'G',\n",
    "        'UGA': 'Stop', 'CGA': 'R', 'AGA': 'R', 'GGA': 'G',\n",
    "        'UGG': 'W', 'CGG': 'R', 'AGG': 'R', 'GGG': 'G'\n",
    "    }\n",
    "\n",
    "    protein = []\n",
    "    for i in range(0, len(rna_string), 3):\n",
    "        codon = rna_string[i:i+3]\n",
    "        if len(codon) == 3:  # Ensure we have a full codon\n",
    "            amino_acid = codon_table[codon]\n",
    "            if amino_acid == 'Stop':\n",
    "                break\n",
    "            protein.append(amino_acid)\n",
    "\n",
    "    return ''.join(protein)\n",
    "\n",
    "# Test with the sample dataset\n",
    "rna_string = \"AUGGCCAUGGCGCCCAGAACUGAGAUCAAUAGUACCCGUAUUAACGGGUGA\"\n",
    "protein_string = rna_to_protein(rna_string)\n",
    "print(protein_string)"
   ]
  },
  {
   "cell_type": "markdown",
   "id": "1d33bb29-7bc5-4c85-a9ec-6c44a9752df3",
   "metadata": {},
   "source": [
    "# Finding a Motif in DNA"
   ]
  },
  {
   "cell_type": "markdown",
   "id": "4a8b4be4-d69f-4f5c-83c7-437cdbb2eeb9",
   "metadata": {},
   "source": [
    "Sample Dataset : GATATATGCATATACTT , ATAT"
   ]
  },
  {
   "cell_type": "markdown",
   "id": "9624cb0b-1e08-4cb0-8111-cae1431136a7",
   "metadata": {},
   "source": [
    "logic: To solve this problem, we need to find all occurrences of a substring within a larger string. We define a function  that takes two parameters(s, t). We initialize an empty list location and iterate through the main string s, but only up to the point where there's enough room for the substring t to fit. We then check if the substring of s starting at that position and of length equal to t matches t. If there's a match, we add the position to our locations list. We add 1 to the index because the problem specifies 1-indexed positions. After the function definition we read the input strings s and t. Call our function with these inputs. Print the results, joining the list of locations with spaces."
   ]
  },
  {
   "cell_type": "code",
   "execution_count": 25,
   "id": "8538df49-f1ae-4a53-a758-d85123e7e35d",
   "metadata": {},
   "outputs": [
    {
     "name": "stdout",
     "output_type": "stream",
     "text": [
      "Enter the main DNA string and the substring on separate lines:\n"
     ]
    },
    {
     "name": "stdin",
     "output_type": "stream",
     "text": [
      " GATATATGCATATACTT\n",
      " ATAT\n"
     ]
    },
    {
     "name": "stdout",
     "output_type": "stream",
     "text": [
      "2 4 10\n"
     ]
    }
   ],
   "source": [
    "def find_substring_locations(s, t):\n",
    "    locations = []\n",
    "    for i in range(len(s) - len(t) + 1):\n",
    "        if s[i:i+len(t)] == t:\n",
    "            locations.append(i + 1)  # Add 1 because positions are 1-indexed\n",
    "    return locations\n",
    "\n",
    "# Get input from the user\n",
    "print(\"Enter the main DNA string and the substring on separate lines:\")\n",
    "s = input().strip()\n",
    "t = input().strip()\n",
    "\n",
    "# Find locations\n",
    "locations = find_substring_locations(s, t)\n",
    "\n",
    "# Print results\n",
    "print(' '.join(map(str, locations)))"
   ]
  },
  {
   "cell_type": "markdown",
   "id": "f4ba887f-e498-4e32-853d-b3b6abec4ec2",
   "metadata": {},
   "source": [
    "# Consensus and Profile \n",
    "### The natural problem to find an average-case strand to represent the most likely common ancestor of the given strands.\n",
    "\n"
   ]
  },
  {
   "cell_type": "markdown",
   "id": "a6256db9-ecc8-49fc-9849-9d3f407ea7aa",
   "metadata": {},
   "source": [
    "Sample Dataset : \n",
    ">Strand_1 : \n",
    "ATCCAGCT ,  \n",
    ">Strand_2 :\n",
    "GGGCAACT , \n",
    ">Strand_3 :\n",
    "ATGGATCT , \n",
    ">Strand_4 :\n",
    "AAGCAACC , \n",
    ">Strand_5 :\n",
    "TTGGAACT , \n",
    ">Strand_6 :\n",
    "ATGCCATT , \n",
    ">Strand_7 :\n",
    "ATGGCACT"
   ]
  },
  {
   "cell_type": "markdown",
   "id": "11d6a60e-e227-41c8-8226-144fb4e2da05",
   "metadata": {},
   "source": [
    "logic:  Copy the entire code above into a Python file, the script will prompt you to enter the DNA strings in FASTA format. Enter each line and press enter after each line. When you're done, press enter twice to finish the input. The script will output the consensus string and the profile matrix."
   ]
  },
  {
   "cell_type": "code",
   "execution_count": 30,
   "id": "8025baab-bbcc-4266-860c-e6726d9ff8d6",
   "metadata": {},
   "outputs": [
    {
     "name": "stdout",
     "output_type": "stream",
     "text": [
      "Enter the DNA strings (in FASTA format or as a simple list, press Enter twice to finish):\n"
     ]
    },
    {
     "name": "stdin",
     "output_type": "stream",
     "text": [
      " ATCCAGCT\n",
      " GGGCAACT\n",
      " ATGGATCT\n",
      " AAGCAACC\n",
      " TTGGAACT\n",
      " ATGCCATT\n",
      " ATGGCACT\n",
      " \n"
     ]
    },
    {
     "name": "stdout",
     "output_type": "stream",
     "text": [
      "\n",
      "Received input:\n",
      "ATCCAGCT\n",
      "GGGCAACT\n",
      "ATGGATCT\n",
      "AAGCAACC\n",
      "TTGGAACT\n",
      "ATGCCATT\n",
      "ATGGCACT\n",
      "\n",
      "\n",
      "Parsed sequences:\n",
      "Sequence_1: ATCCAGCT\n",
      "Sequence_2: GGGCAACT\n",
      "Sequence_3: ATGGATCT\n",
      "Sequence_4: AAGCAACC\n",
      "Sequence_5: TTGGAACT\n",
      "Sequence_6: ATGCCATT\n",
      "Sequence_7: ATGGCACT\n",
      "\n",
      "Results:\n",
      "ATGCAACT\n",
      "A: 5 1 0 0 5 5 0 0\n",
      "C: 0 0 1 4 2 0 6 1\n",
      "G: 1 1 6 3 0 1 0 0\n",
      "T: 1 5 0 0 0 1 1 6\n"
     ]
    }
   ],
   "source": [
    "def parse_input(input_string):\n",
    "    sequences = {}\n",
    "    lines = input_string.strip().split('\\n')\n",
    "    \n",
    "    if lines and lines[0].startswith('>'):  # FASTA format\n",
    "        current_id = ''\n",
    "        current_sequence = ''\n",
    "        for line in lines:\n",
    "            if line.startswith('>'):\n",
    "                if current_id:\n",
    "                    sequences[current_id] = current_sequence\n",
    "                current_id = line[1:]\n",
    "                current_sequence = ''\n",
    "            else:\n",
    "                current_sequence += line.strip()\n",
    "        if current_id:\n",
    "            sequences[current_id] = current_sequence\n",
    "    else:  # Simple list of sequences\n",
    "        for i, line in enumerate(lines, 1):\n",
    "            if line.strip():\n",
    "                sequences[f'Sequence_{i}'] = line.strip()\n",
    "    \n",
    "    return sequences\n",
    "\n",
    "def create_profile_matrix(dna_strings):\n",
    "    if not dna_strings:\n",
    "        raise ValueError(\"No DNA strings provided\")\n",
    "    length = len(dna_strings[0])\n",
    "    profile = {'A': [0] * length, 'C': [0] * length, 'G': [0] * length, 'T': [0] * length}\n",
    "    \n",
    "    for dna in dna_strings:\n",
    "        if len(dna) != length:\n",
    "            raise ValueError(f\"All DNA strings must have the same length. Found lengths {length} and {len(dna)}\")\n",
    "        for i, nucleotide in enumerate(dna):\n",
    "            if nucleotide not in profile:\n",
    "                raise ValueError(f\"Invalid nucleotide {nucleotide} found in DNA string\")\n",
    "            profile[nucleotide][i] += 1\n",
    "    \n",
    "    return profile\n",
    "\n",
    "def find_consensus(profile):\n",
    "    if not profile['A']:\n",
    "        raise ValueError(\"Profile matrix is empty\")\n",
    "    consensus = ''\n",
    "    for i in range(len(profile['A'])):\n",
    "        max_count = 0\n",
    "        max_nucleotide = ''\n",
    "        for nucleotide in 'ACGT':\n",
    "            if profile[nucleotide][i] > max_count:\n",
    "                max_count = profile[nucleotide][i]\n",
    "                max_nucleotide = nucleotide\n",
    "        consensus += max_nucleotide\n",
    "    return consensus\n",
    "\n",
    "# Get input from the user\n",
    "print(\"Enter the DNA strings (in FASTA format or as a simple list, press Enter twice to finish):\")\n",
    "input_data = ''\n",
    "while True:\n",
    "    line = input()\n",
    "    if line == '':\n",
    "        break\n",
    "    input_data += line + '\\n'\n",
    "\n",
    "print(\"\\nReceived input:\")\n",
    "print(input_data)\n",
    "\n",
    "try:\n",
    "    # Parse input\n",
    "    sequences = parse_input(input_data)\n",
    "    if not sequences:\n",
    "        raise ValueError(\"No valid sequences found in input\")\n",
    "    \n",
    "    print(\"\\nParsed sequences:\")\n",
    "    for id, seq in sequences.items():\n",
    "        print(f\"{id}: {seq}\")\n",
    "    \n",
    "    dna_strings = list(sequences.values())\n",
    "\n",
    "    # Create profile matrix\n",
    "    profile = create_profile_matrix(dna_strings)\n",
    "\n",
    "    # Find consensus string\n",
    "    consensus = find_consensus(profile)\n",
    "\n",
    "    # Print results\n",
    "    print(\"\\nResults:\")\n",
    "    print(consensus)\n",
    "    for nucleotide in 'ACGT':\n",
    "        print(f\"{nucleotide}: {' '.join(map(str, profile[nucleotide]))}\")\n",
    "\n",
    "except ValueError as e:\n",
    "    print(f\"Error: {e}\")"
   ]
  },
  {
   "cell_type": "code",
   "execution_count": null,
   "id": "c05e064b-f427-4ae6-9a05-1c7dbfc89056",
   "metadata": {},
   "outputs": [],
   "source": [
    "ATCCAGCT\n",
    " GGGCAACT\n",
    " ATGGATCT\n",
    " AAGCAACC\n",
    " TTGGAACT\n",
    " ATGCCATT\n",
    " ATGGCACT"
   ]
  },
  {
   "cell_type": "markdown",
   "id": "90fd7d5b-fe5d-4f0b-8066-630d1950b9cf",
   "metadata": {},
   "source": [
    "# Mortal Fibonacci Rabbits"
   ]
  },
  {
   "cell_type": "markdown",
   "id": "7468efc1-4794-4b0b-977a-f3a45e995950",
   "metadata": {},
   "source": [
    "### A depiction of a rabbit situation in which rabbits live for (m=3) months (meaning that they reproduce only twice before dying)."
   ]
  },
  {
   "cell_type": "markdown",
   "id": "a5ab482f-24da-4192-a807-dc10e1a87880",
   "metadata": {},
   "source": [
    "Sample Dataset : \n",
    "6 3"
   ]
  },
  {
   "cell_type": "markdown",
   "id": "56d3b841-3b8c-404d-99e0-10a859cfa3a7",
   "metadata": {},
   "source": [
    "logic: To solve this problem, we need to modify the Fibonacci sequence to account for rabbits dying after m months. We define a function mortal_fibonacci_rabbits that takes two parameters: (n, m) Initialize a list rabbits of length m, where each element represents the number of rabbit pairs born in that month. We start with 1 pair in the first month, and iterate through each month up to n. We calculate the number of new rabbits born this month, which is the sum of all mature rabbits (all except the newborns from last month). We shift the rabbit population, adding the new rabbits at the beginning and removing the oldest rabbits (which die after m months). After n months, we return the sum of all rabbits alive. We get the input from the user and print the result. "
   ]
  },
  {
   "cell_type": "code",
   "execution_count": 32,
   "id": "94c18014-f3da-4924-b259-ad5b743cb685",
   "metadata": {},
   "outputs": [
    {
     "name": "stdin",
     "output_type": "stream",
     "text": [
      "Enter n and m separated by a space:  6 3 \n"
     ]
    },
    {
     "name": "stdout",
     "output_type": "stream",
     "text": [
      "4\n"
     ]
    }
   ],
   "source": [
    "def mortal_fibonacci_rabbits(n, m):\n",
    "    # Initialize the rabbit population for the first m months\n",
    "    rabbits = [0] * m\n",
    "    rabbits[0] = 1  # First month, we have 1 pair of rabbits\n",
    "\n",
    "    # Calculate the rabbit population for each month\n",
    "    for month in range(1, n):\n",
    "        # Calculate new rabbits born this month\n",
    "        new_rabbits = sum(rabbits[1:])  # All rabbits except newborns reproduce\n",
    "\n",
    "        # Shift the rabbit population, removing rabbits that die\n",
    "        rabbits = [new_rabbits] + rabbits[:-1]\n",
    "\n",
    "    # Return the total number of rabbit pairs alive\n",
    "    return sum(rabbits)\n",
    "\n",
    "# Get input from the user\n",
    "n, m = map(int, input(\"Enter n and m separated by a space: \").split())\n",
    "\n",
    "# Calculate and print the result\n",
    "result = mortal_fibonacci_rabbits(n, m)\n",
    "print(result)"
   ]
  },
  {
   "cell_type": "markdown",
   "id": "bd21afe4-5fe5-4324-8dd4-d5bc0556206d",
   "metadata": {},
   "source": [
    "# Overlap Graphs \n",
    "### A Brief Introduction to Graph Theory"
   ]
  },
  {
   "cell_type": "markdown",
   "id": "4498da9c-c828-4ace-9a6f-e5a61fcd0341",
   "metadata": {},
   "source": [
    "Sample Dataset : \n",
    ">Sequence_0498 : \n",
    "AAATAAA , \n",
    ">Sequence_2391 :\n",
    "AAATTTT , \n",
    ">Sequence_2323 :\n",
    "TTTTCCC , \n",
    ">Sequence_0442 :\n",
    "AAATCCC , \n",
    ">Sequence_5013 :\n",
    "GGGTGGG"
   ]
  },
  {
   "cell_type": "markdown",
   "id": "2acc098b-dd0e-4490-a02e-30da532bb7f9",
   "metadata": {},
   "source": [
    "logic: This function parses the FASTA format input and returns a dictionary where keys are sequence IDs and values are the DNA sequences.\n",
    "It checks each pair of sequences to see if the k-length suffix of one matches the k-length prefix of the other. We get the input from the user in FASTA format. We parse the FASTA input using our parse_fasta function. We create the overlap graph with k=3 using our overlap_graph function. Enter the DNA strings in FASTA format when prompted. Press Enter twice to finish input. The script will output the adjacency list for the overlap graph."
   ]
  },
  {
   "cell_type": "code",
   "execution_count": 41,
   "id": "4f287ddd-346d-4722-a992-76f95b4822dc",
   "metadata": {},
   "outputs": [
    {
     "name": "stdout",
     "output_type": "stream",
     "text": [
      "Enter the DNA strings one at a time (press Enter without input to finish):\n"
     ]
    },
    {
     "name": "stdin",
     "output_type": "stream",
     "text": [
      " Sequence_0498 : AAATAAA\n",
      " Sequence_2391 : AAATTTT\n",
      " Sequence_2323 : TTTTCCC\n",
      " Sequence_0442 : AAATCCC\n",
      " Sequence_5013 : GGGTGGG\n",
      " \n"
     ]
    },
    {
     "name": "stdout",
     "output_type": "stream",
     "text": [
      "Sequence_0498 Sequence_2391\n",
      "Sequence_0498 Sequence_0442\n",
      "Sequence_2391 Sequence_2323\n"
     ]
    }
   ],
   "source": [
    "def overlap_graph(sequences, k):\n",
    "    adjacency_list = []\n",
    "    for id1, seq1 in sequences.items():\n",
    "        suffix = seq1[-k:]\n",
    "        for id2, seq2 in sequences.items():\n",
    "            if id1 != id2 and seq2.startswith(suffix):\n",
    "                adjacency_list.append((id1, id2))\n",
    "    return adjacency_list\n",
    "\n",
    "# Get input from the user\n",
    "print(\"Enter the DNA strings one at a time (press Enter without input to finish):\")\n",
    "sequences = {}\n",
    "while True:\n",
    "    input_data = input().strip()\n",
    "    if not input_data:\n",
    "        break\n",
    "    parts = input_data.split(':')\n",
    "    if len(parts) == 2:\n",
    "        seq_id = parts[0].strip()\n",
    "        seq = parts[1].strip()\n",
    "        sequences[seq_id] = seq\n",
    "    else:\n",
    "        print(\"Invalid input format. Please use 'Sequence_ID : DNASEQUENCE'\")\n",
    "\n",
    "# Create overlap graph with k=3\n",
    "k = 3\n",
    "graph = overlap_graph(sequences, k)\n",
    "\n",
    "# Print results\n",
    "if graph:\n",
    "    for edge in graph:\n",
    "        print(f\"{edge[0]} {edge[1]}\")\n",
    "else:\n",
    "    print(\"No overlaps found.\")\n",
    "\n",
    "\n",
    "\n",
    "\n",
    "\n"
   ]
  },
  {
   "cell_type": "markdown",
   "id": "222df22f-c365-4498-9ed5-fca62ddbf465",
   "metadata": {},
   "source": [
    "# Calculating Expected Offspring"
   ]
  },
  {
   "cell_type": "markdown",
   "id": "160d6e86-a040-44c7-a41a-4c48c7b30de9",
   "metadata": {},
   "source": [
    "Sample Dataset : 1 0 0 1 0 1"
   ]
  },
  {
   "cell_type": "markdown",
   "id": "93347bcc-f97c-44e0-9838-0a1fd33c9780",
   "metadata": {},
   "source": [
    "logic: We define a function expected_dominant_offspring that takes a list of the number of couples for each genotype pairing. We define a list of probabilities for each genotype pairing to produce offspring with the dominant phenotype:\n",
    "\n",
    "AA-AA: 1 (100%)\n",
    "AA-Aa: 1 (100%)\n",
    "AA-aa: 1 (100%)\n",
    "Aa-Aa: 0.75 (75%)\n",
    "Aa-aa: 0.5 (50%)\n",
    "aa-aa: 0 (0%)"
   ]
  },
  {
   "cell_type": "code",
   "execution_count": 42,
   "id": "f35bf613-c087-41c1-8b8d-567cf94d666f",
   "metadata": {},
   "outputs": [
    {
     "name": "stdin",
     "output_type": "stream",
     "text": [
      "Enter six integers separated by spaces:  1 0 0 1 0 1\n"
     ]
    },
    {
     "name": "stdout",
     "output_type": "stream",
     "text": [
      "3.5\n"
     ]
    }
   ],
   "source": [
    "def expected_dominant_offspring(couples):\n",
    "    # Probability of dominant phenotype for each genotype pairing\n",
    "    probabilities = [1, 1, 1, 0.75, 0.5, 0]\n",
    "    \n",
    "    # Calculate expected value\n",
    "    expected = sum(c * p * 2 for c, p in zip(couples, probabilities))\n",
    "    \n",
    "    return expected\n",
    "\n",
    "# Get input from the user\n",
    "input_data = input(\"Enter six integers separated by spaces: \")\n",
    "couples = list(map(int, input_data.split()))\n",
    "\n",
    "if len(couples) != 6:\n",
    "    print(\"Error: You must enter exactly 6 integers.\")\n",
    "else:\n",
    "    result = expected_dominant_offspring(couples)\n",
    "    print(f\"{result:.1f}\")"
   ]
  },
  {
   "cell_type": "markdown",
   "id": "bd51521c-5180-4de8-9f0c-2cf7d337a215",
   "metadata": {},
   "source": [
    "# Finding a Shared Motif"
   ]
  },
  {
   "cell_type": "markdown",
   "id": "675b4dde-7fd4-4ad5-a2f9-1b420ef1eaf2",
   "metadata": {},
   "source": [
    "Sample Dataset : \n",
    ">Sequence_1\n",
    "GATTACA\n",
    ">Sequence_2\n",
    "TAGACCA\n",
    ">Sequence_3\n",
    "ATACA"
   ]
  },
  {
   "cell_type": "markdown",
   "id": "58642201-180f-44af-964a-879ed04dea2b",
   "metadata": {},
   "source": [
    "logic: To solve this problem, we'll implement a function that finds the longest common substring of a collection of DNA strings."
   ]
  },
  {
   "cell_type": "code",
   "execution_count": 47,
   "id": "1314bdbe-dad5-4c50-b78c-d8897b6dde45",
   "metadata": {},
   "outputs": [
    {
     "name": "stdout",
     "output_type": "stream",
     "text": [
      "Enter the DNA strings (press Enter twice to finish):\n"
     ]
    },
    {
     "name": "stdin",
     "output_type": "stream",
     "text": [
      " Sequence_1 GATTACA\n",
      " Sequence_2 TAGACCA\n",
      " Sequence_3 ATACA\n",
      " \n"
     ]
    },
    {
     "name": "stdout",
     "output_type": "stream",
     "text": [
      "Longest common substrings:\n",
      "TA\n",
      "AC\n",
      "CA\n"
     ]
    }
   ],
   "source": [
    "def parse_input(input_string):\n",
    "    sequences = {}\n",
    "    for line in input_string.split('\\n'):\n",
    "        parts = line.strip().split()\n",
    "        if len(parts) == 2:\n",
    "            sequences[parts[0]] = parts[1]\n",
    "    return sequences\n",
    "\n",
    "def longest_common_substring(strings):\n",
    "    if not strings:\n",
    "        return []\n",
    "    \n",
    "    ref = strings[0]\n",
    "    longest = []\n",
    "    max_length = 0\n",
    "    \n",
    "    for i in range(len(ref)):\n",
    "        for j in range(i + 1, len(ref) + 1):\n",
    "            substring = ref[i:j]\n",
    "            \n",
    "            if all(substring in s for s in strings[1:]):\n",
    "                if len(substring) > max_length:\n",
    "                    longest = [substring]\n",
    "                    max_length = len(substring)\n",
    "                elif len(substring) == max_length and substring not in longest:\n",
    "                    longest.append(substring)\n",
    "    \n",
    "    return longest\n",
    "\n",
    "# Get input from the user\n",
    "print(\"Enter the DNA strings (press Enter twice to finish):\")\n",
    "input_data = ''\n",
    "while True:\n",
    "    line = input()\n",
    "    if line == '':\n",
    "        break\n",
    "    input_data += line + '\\n'\n",
    "\n",
    "# Parse input\n",
    "sequences = parse_input(input_data)\n",
    "\n",
    "# Find longest common substrings\n",
    "results = longest_common_substring(list(sequences.values()))\n",
    "\n",
    "# Print results\n",
    "print(\"Longest common substrings:\")\n",
    "for result in results:\n",
    "    print(result)"
   ]
  },
  {
   "cell_type": "markdown",
   "id": "66998a7f-2901-4893-a146-5b9099128651",
   "metadata": {},
   "source": [
    "# Mendel's Law of Independent Assortment"
   ]
  },
  {
   "cell_type": "markdown",
   "id": "eb4c546b-3fb0-484f-ab43-bb0bdec45396",
   "metadata": {},
   "source": [
    "Sample Dataset : 2 1"
   ]
  },
  {
   "cell_type": "markdown",
   "id": "ee95b5da-1c50-4801-ac08-1ab8a4a8fe3a",
   "metadata": {},
   "source": [
    "logic: We import the comb function from the math module to calculate combinations. The binomial probability formula we're using is:     P(X ≥ N) = Σ(i=N to 2^k) C(2^k, i) * p^i * (1-p)^(2^k-i)\n",
    "Where: X is the number of AaBb organisms C(n,k) is the number of ways to choose k items from n items p is the probability of an individual being AaBb (0.25)"
   ]
  },
  {
   "cell_type": "code",
   "execution_count": 49,
   "id": "90271f56-ce5f-4287-84b3-e2cc7bc68c51",
   "metadata": {},
   "outputs": [
    {
     "name": "stdin",
     "output_type": "stream",
     "text": [
      "Enter k and N separated by a space:  2 1\n"
     ]
    },
    {
     "name": "stdout",
     "output_type": "stream",
     "text": [
      "0.684\n"
     ]
    }
   ],
   "source": [
    "from math import comb\n",
    "\n",
    "def probability_AaBb(k, N):\n",
    "    # Probability of an offspring being AaBb\n",
    "    p_AaBb = 0.25\n",
    "    \n",
    "    # Total number of organisms in k-th generation\n",
    "    total_organisms = 2**k\n",
    "    \n",
    "    # Calculate probability of at least N AaBb organisms\n",
    "    probability = 0\n",
    "    for i in range(N, total_organisms + 1):\n",
    "        probability += comb(total_organisms, i) * (p_AaBb**i) * ((1-p_AaBb)**(total_organisms-i))\n",
    "    \n",
    "    return probability\n",
    "\n",
    "# Get input from user\n",
    "k, N = map(int, input(\"Enter k and N separated by a space: \").split())\n",
    "\n",
    "# Calculate and print the result\n",
    "result = probability_AaBb(k, N)\n",
    "print(f\"{result:.3f}\")"
   ]
  },
  {
   "cell_type": "markdown",
   "id": "9c5f4278-b7fd-4801-8857-28c71a11e759",
   "metadata": {},
   "source": [
    "# Finding a Protein Motif"
   ]
  },
  {
   "cell_type": "markdown",
   "id": "ef353608-5b11-45b2-b2e9-6b062beb24d2",
   "metadata": {},
   "source": [
    "Sample Dataset :             \n",
    "A2Z669 , \n",
    "B5ZC00 , \n",
    "P07204_TRBM_HUMAN , \n",
    "P20840_SAG1_YEAST"
   ]
  },
  {
   "cell_type": "markdown",
   "id": "ef2a7041-56d1-405f-9eb6-7619da7de8dd",
   "metadata": {},
   "source": [
    "logic: To solve this problem, we need to create a script that can fetch protein sequences from UniProt and then search for the N-glycosylation motif in these sequences. We import the re module for regular expressions and the requests module to fetch data from the UniProt website. fetch_protein_sequence(uniprot_id): This function fetches the protein sequence in FASTA format from UniProt and returns just the sequence (without the header). find_n_glycosylation_motif(sequence): This function uses a regular expression to find all occurrences of the N-glycosylation motif in the sequence. It returns a list of starting positions (1-indexed). process_proteins(uniprot_ids): This function processes each UniProt ID, fetches its sequence, finds the motif positions, and prints the results if any motifs are found. We get the input UniProt IDs from the user. "
   ]
  },
  {
   "cell_type": "code",
   "execution_count": 55,
   "id": "586c7e6b-e6bd-4f20-a5a4-7b8b70e7e43b",
   "metadata": {},
   "outputs": [
    {
     "name": "stdout",
     "output_type": "stream",
     "text": [
      "Enter UniProt IDs (one per line, press Enter twice to finish):\n"
     ]
    },
    {
     "name": "stdin",
     "output_type": "stream",
     "text": [
      " B5ZC00\n",
      " A2Z669\n",
      " P07204_TRBM_HUMAN\n",
      " P20840_SAG1_YEAST\n",
      " \n"
     ]
    },
    {
     "name": "stdout",
     "output_type": "stream",
     "text": [
      "B5ZC00\n",
      "85 118 142 306 395\n",
      "P07204_TRBM_HUMAN\n",
      "47 115 382 409\n",
      "P20840_SAG1_YEAST\n",
      "79 109 135 248 306 348 364 402 485 501 614\n"
     ]
    }
   ],
   "source": [
    "import re\n",
    "import requests\n",
    "\n",
    "def fetch_protein_sequence(uniprot_id):\n",
    "    # Try different URL formats\n",
    "    urls = [\n",
    "        f\"https://www.uniprot.org/uniprot/{uniprot_id}.fasta\",\n",
    "        f\"https://rest.uniprot.org/uniprotkb/{uniprot_id}.fasta\",\n",
    "        f\"https://www.uniprot.org/uniprot/{uniprot_id.split('_')[0]}.fasta\"\n",
    "    ]\n",
    "    \n",
    "    for url in urls:\n",
    "        try:\n",
    "            response = requests.get(url)\n",
    "            response.raise_for_status()\n",
    "            lines = response.text.split('\\n')\n",
    "            return ''.join(lines[1:])  # Skip the header line\n",
    "        except requests.exceptions.RequestException:\n",
    "            continue\n",
    "    \n",
    "    print(f\"Error: Failed to fetch sequence for {uniprot_id}\")\n",
    "    return None\n",
    "\n",
    "def find_n_glycosylation_motif(sequence):\n",
    "    pattern = r'N[^P][ST][^P]'\n",
    "    matches = re.finditer(pattern, sequence)\n",
    "    return [match.start() + 1 for match in matches]  # +1 for 1-based indexing\n",
    "\n",
    "def process_proteins(uniprot_ids):\n",
    "    for uniprot_id in uniprot_ids:        \n",
    "        sequence = fetch_protein_sequence(uniprot_id)\n",
    "        if sequence:\n",
    "            motif_positions = find_n_glycosylation_motif(sequence)\n",
    "            if motif_positions:\n",
    "                print(uniprot_id)\n",
    "                print(' '.join(map(str, motif_positions)))\n",
    "\n",
    "# Get input from the user\n",
    "print(\"Enter UniProt IDs (one per line, press Enter twice to finish):\")\n",
    "uniprot_ids = []\n",
    "while True:\n",
    "    line = input().strip()\n",
    "    if not line:\n",
    "        break\n",
    "    uniprot_ids.append(line)\n",
    "\n",
    "# Process the proteins\n",
    "process_proteins(uniprot_ids)"
   ]
  },
  {
   "cell_type": "markdown",
   "id": "eb174cc8-91d8-4875-bad8-805827d01b60",
   "metadata": {},
   "source": [
    "# Inferring mRNA from Protein"
   ]
  },
  {
   "cell_type": "markdown",
   "id": "b67568a8-6066-4a7b-b221-d422c3e6d5c3",
   "metadata": {},
   "source": [
    "Sample Dataset :  \n",
    "MA"
   ]
  },
  {
   "cell_type": "markdown",
   "id": "1e464806-08e8-41ea-bc37-d835b0c3bfd4",
   "metadata": {},
   "source": [
    "logic: In order to solve this problem we need to calculate the number of possible RNA sequences that could produce a given protein sequence, considering the genetic code and the stop codon. We start with a total of 1 and iterate through each amino acid in the protein, and for each amino acid, we multiply the total by the number of codons that can encode it. We use the modulo operation after each multiplication to keep the number manageable. After processing all amino acids, we multiply by the number of stop codons (3) to account for the end of the protein. We return the final total, which is the number of possible RNA sequences modulo 1,000,000."
   ]
  },
  {
   "cell_type": "code",
   "execution_count": 57,
   "id": "325fcb75-374b-4344-8ddf-7be59c270cfe",
   "metadata": {},
   "outputs": [
    {
     "name": "stdin",
     "output_type": "stream",
     "text": [
      "Enter the protein sequence:  MA\n"
     ]
    },
    {
     "name": "stdout",
     "output_type": "stream",
     "text": [
      "12\n"
     ]
    }
   ],
   "source": [
    "def count_rna_sequences(protein):\n",
    "    modulo = 1000000\n",
    "    codon_count = {\n",
    "        'F': 2, 'L': 6, 'S': 6, 'Y': 2, 'C': 2, 'W': 1,\n",
    "        'P': 4, 'H': 2, 'Q': 2, 'R': 6, 'I': 3, 'M': 1,\n",
    "        'T': 4, 'N': 2, 'K': 2, 'V': 4, 'A': 4, 'D': 2,\n",
    "        'E': 2, 'G': 4\n",
    "    }\n",
    "    stop_codons = 3  # UAA, UAG, UGA\n",
    "\n",
    "    total = 1\n",
    "    for amino_acid in protein:\n",
    "        total = (total * codon_count[amino_acid]) % modulo\n",
    "\n",
    "    # Multiply by the number of stop codons for the last position\n",
    "    total = (total * stop_codons) % modulo\n",
    "\n",
    "    return total\n",
    "\n",
    "# Get input from the user\n",
    "protein = input(\"Enter the protein sequence: \").strip()\n",
    "\n",
    "# Calculate and print the result\n",
    "result = count_rna_sequences(protein)\n",
    "print(result)"
   ]
  },
  {
   "cell_type": "markdown",
   "id": "c5e6ba03-71de-4114-9121-c4a4d64e8891",
   "metadata": {},
   "source": [
    "# Open Reading Frames"
   ]
  },
  {
   "cell_type": "markdown",
   "id": "cbc6343a-e63e-44aa-a5ee-65c55fbf64e5",
   "metadata": {},
   "source": [
    "Sample Dataset :\n",
    ">Sequence_99\n",
    "AGCCATGTAGCTAACTCAGGTTACATGGGGATGACCCCGCGACTTGGATTAGAGTCTCTTTTGGAATAAGCCTGAATGATCCGAGTAGCATCTCAG"
   ]
  },
  {
   "cell_type": "markdown",
   "id": "349a92ea-302b-40d2-b028-44d8f8a38f8e",
   "metadata": {},
   "source": [
    "logic: An open reading frame (ORF) is one which starts from the start codon and ends by stop codon, without any other stop codons in between. First we need to save the DNA sequence in FASTA format to a file (e.g., sequence.fasta). We then run the script and enter the filename when prompted. We then import necessary modules from Biopython. The find_orfs function does the main work, and it considers both the original sequence and its reverse complement. For each strand, it checks all three reading frames. It looks for start codons ('ATG') and then searches for the next stop codon. When it finds a complete ORF, it translates it to a protein sequence. It uses a set to store unique protein sequences. Finally we read the FASTA file. We call find_orfs to get all possible protein sequences."
   ]
  },
  {
   "cell_type": "code",
   "execution_count": 64,
   "id": "6e424894-0df2-4928-bf2d-de2c0550de9a",
   "metadata": {},
   "outputs": [
    {
     "name": "stdin",
     "output_type": "stream",
     "text": [
      "Enter the sequence data:  Sequence_99 AGCCATGTAGCTAACTCAGGTTACATGGGGATGACCCCGCGACTTGGATTAGAGTCTCTTTTGGAATAAGCCTGAATGATCCGAGTAGCATCTCAG\n"
     ]
    },
    {
     "name": "stdout",
     "output_type": "stream",
     "text": [
      "MTPRLGLESLLE\n",
      "MLLGSFRLIPKETLIQVAGSSPCNLS\n",
      "MGMTPRLGLESLLE\n",
      "M\n"
     ]
    }
   ],
   "source": [
    "def reverse_complement(dna):\n",
    "    complement = {'A': 'T', 'C': 'G', 'G': 'C', 'T': 'A'}\n",
    "    return ''.join(complement[base] for base in reversed(dna))\n",
    "\n",
    "def translate(seq):\n",
    "    codon_table = {\n",
    "        'ATA':'I', 'ATC':'I', 'ATT':'I', 'ATG':'M',\n",
    "        'ACA':'T', 'ACC':'T', 'ACG':'T', 'ACT':'T',\n",
    "        'AAC':'N', 'AAT':'N', 'AAA':'K', 'AAG':'K',\n",
    "        'AGC':'S', 'AGT':'S', 'AGA':'R', 'AGG':'R',\n",
    "        'CTA':'L', 'CTC':'L', 'CTG':'L', 'CTT':'L',\n",
    "        'CCA':'P', 'CCC':'P', 'CCG':'P', 'CCT':'P',\n",
    "        'CAC':'H', 'CAT':'H', 'CAA':'Q', 'CAG':'Q',\n",
    "        'CGA':'R', 'CGC':'R', 'CGG':'R', 'CGT':'R',\n",
    "        'GTA':'V', 'GTC':'V', 'GTG':'V', 'GTT':'V',\n",
    "        'GCA':'A', 'GCC':'A', 'GCG':'A', 'GCT':'A',\n",
    "        'GAC':'D', 'GAT':'D', 'GAA':'E', 'GAG':'E',\n",
    "        'GGA':'G', 'GGC':'G', 'GGG':'G', 'GGT':'G',\n",
    "        'TCA':'S', 'TCC':'S', 'TCG':'S', 'TCT':'S',\n",
    "        'TTC':'F', 'TTT':'F', 'TTA':'L', 'TTG':'L',\n",
    "        'TAC':'Y', 'TAT':'Y', 'TAA':'_', 'TAG':'_',\n",
    "        'TGC':'C', 'TGT':'C', 'TGA':'_', 'TGG':'W',\n",
    "    }\n",
    "    protein = \"\"\n",
    "    for i in range(0, len(seq), 3):\n",
    "        codon = seq[i:i+3]\n",
    "        if len(codon) == 3:\n",
    "            amino_acid = codon_table.get(codon, 'X')\n",
    "            if amino_acid == '_':\n",
    "                break\n",
    "            protein += amino_acid\n",
    "    return protein\n",
    "\n",
    "def find_orfs(seq):\n",
    "    orfs = set()\n",
    "    \n",
    "    for strand in [seq, reverse_complement(seq)]:\n",
    "        for frame in range(3):\n",
    "            for start in range(frame, len(strand)-2, 3):\n",
    "                if strand[start:start+3] == 'ATG':\n",
    "                    for end in range(start+3, len(strand)-2, 3):\n",
    "                        codon = strand[end:end+3]\n",
    "                        if codon in ['TAA', 'TAG', 'TGA']:\n",
    "                            orf = strand[start:end+3]\n",
    "                            protein = translate(orf)\n",
    "                            orfs.add(protein)\n",
    "                            break\n",
    "    return list(orfs)\n",
    "\n",
    "# Get input from the user\n",
    "input_data = input(\"Enter the sequence data: \").strip()\n",
    "\n",
    "# Parse input\n",
    "parts = input_data.split()\n",
    "if len(parts) == 2:\n",
    "    seq_id, dna_seq = parts\n",
    "else:\n",
    "    print(\"Invalid input format. Please use 'Sequence_ID DNASEQUENCE'\")\n",
    "    exit()\n",
    "\n",
    "# Find ORFs and translate to proteins\n",
    "proteins = find_orfs(dna_seq)\n",
    "\n",
    "# Print results\n",
    "for protein in proteins:\n",
    "    print(protein)"
   ]
  },
  {
   "cell_type": "markdown",
   "id": "4725733a-dd60-4fe9-818d-6d8f30e9aebd",
   "metadata": {},
   "source": [
    "# Enumerating Gene Orders"
   ]
  },
  {
   "cell_type": "markdown",
   "id": "531cc12d-861b-4f4f-811a-a11574819206",
   "metadata": {},
   "source": [
    "### Rearrangements Power Large-Scale Genomic Changes"
   ]
  },
  {
   "cell_type": "markdown",
   "id": "6aa321fa-0890-4fcc-89e2-75fcc58284c0",
   "metadata": {},
   "source": [
    "Sample Dataset : 3"
   ]
  },
  {
   "cell_type": "markdown",
   "id": "597cd442-76c7-48b3-bb44-9404e15dc25c",
   "metadata": {},
   "source": [
    "logic: We import the itertools module, which provides the permutations function. We define a function that uses itertools.permutations(range(1, n+1)) to generate all permutations of numbers from 1 to n. It converts the result to a list and counts the total number of permutations. It returns both the total count and the list of permutations."
   ]
  },
  {
   "cell_type": "code",
   "execution_count": 66,
   "id": "dc5dad51-9a7c-4073-97a4-f8878c5ead3b",
   "metadata": {},
   "outputs": [
    {
     "name": "stdin",
     "output_type": "stream",
     "text": [
      "Enter a positive integer n (≤7):  3\n"
     ]
    },
    {
     "name": "stdout",
     "output_type": "stream",
     "text": [
      "6\n",
      "1 2 3\n",
      "1 3 2\n",
      "2 1 3\n",
      "2 3 1\n",
      "3 1 2\n",
      "3 2 1\n"
     ]
    }
   ],
   "source": [
    "import itertools\n",
    "\n",
    "def generate_permutations(n):\n",
    "    # Generate all permutations\n",
    "    perms = list(itertools.permutations(range(1, n+1)))\n",
    "    \n",
    "    # Count the total number of permutations\n",
    "    total = len(perms)\n",
    "    \n",
    "    return total, perms\n",
    "\n",
    "# Get input from the user\n",
    "n = int(input(\"Enter a positive integer n (≤7): \"))\n",
    "\n",
    "# Generate permutations\n",
    "total, permutations = generate_permutations(n)\n",
    "\n",
    "# Print results\n",
    "print(total)\n",
    "for perm in permutations:\n",
    "    print(' '.join(map(str, perm)))"
   ]
  },
  {
   "cell_type": "markdown",
   "id": "61902f10-abf1-4cfa-a497-13e88429c9a1",
   "metadata": {},
   "source": [
    "# Calculating Protein Mass"
   ]
  },
  {
   "cell_type": "markdown",
   "id": "b9977d1b-597e-42b6-9c6b-b61b90de4179",
   "metadata": {},
   "source": [
    "Sample Dataset : \n",
    "SKADYEK"
   ]
  },
  {
   "cell_type": "markdown",
   "id": "f12ccd58-5c4b-43ec-bea4-97ad7abd5a5d",
   "metadata": {},
   "source": [
    "logic: To solve this problem, we need to calculate the total weight of a protein string based on the monoisotopic mass of each amino acid. The script will work for any valid protein string up to 1000 amino acids long, as specified in the problem. It assumes that the input string contains only valid amino acid symbols (A, C, D, E, F, G, H, I, K, L, M, N, P, Q, R, S, T, V, W, Y). "
   ]
  },
  {
   "cell_type": "code",
   "execution_count": 68,
   "id": "f83a4bf6-9ca0-471d-8dff-e99a89111db8",
   "metadata": {},
   "outputs": [
    {
     "name": "stdin",
     "output_type": "stream",
     "text": [
      "Enter the protein string:  SKADYEK\n"
     ]
    },
    {
     "name": "stdout",
     "output_type": "stream",
     "text": [
      "821.392\n"
     ]
    }
   ],
   "source": [
    "def protein_mass(protein_string):\n",
    "    # Monoisotopic mass table for amino acids\n",
    "    mass_table = {\n",
    "        'A': 71.03711,\n",
    "        'C': 103.00919,\n",
    "        'D': 115.02694,\n",
    "        'E': 129.04259,\n",
    "        'F': 147.06841,\n",
    "        'G': 57.02146,\n",
    "        'H': 137.05891,\n",
    "        'I': 113.08406,\n",
    "        'K': 128.09496,\n",
    "        'L': 113.08406,\n",
    "        'M': 131.04049,\n",
    "        'N': 114.04293,\n",
    "        'P': 97.05276,\n",
    "        'Q': 128.05858,\n",
    "        'R': 156.10111,\n",
    "        'S': 87.03203,\n",
    "        'T': 101.04768,\n",
    "        'V': 99.06841,\n",
    "        'W': 186.07931,\n",
    "        'Y': 163.06333\n",
    "    }\n",
    "\n",
    "    total_mass = sum(mass_table[aa] for aa in protein_string)\n",
    "    return round(total_mass, 3)\n",
    "\n",
    "# Get input from the user\n",
    "protein_string = input(\"Enter the protein string: \").strip()\n",
    "\n",
    "# Calculate and print the result\n",
    "result = protein_mass(protein_string)\n",
    "print(result)"
   ]
  },
  {
   "cell_type": "markdown",
   "id": "fa9ea51d-3e7a-4b24-9847-acbbbedd1a1f",
   "metadata": {},
   "source": [
    "# Locating Restriction Sites"
   ]
  },
  {
   "cell_type": "code",
   "execution_count": null,
   "id": "5d0a1166-facb-4d1b-b460-ad8019ed1acc",
   "metadata": {},
   "outputs": [],
   "source": [
    ">Sequence_24 TCAATGCATGCGGGTCTATATGCAT"
   ]
  },
  {
   "cell_type": "markdown",
   "id": "60632683-a085-44ff-a001-74a65ae34739",
   "metadata": {},
   "source": [
    "logic: The restriction enzyme is a homodimer, which means that it is composed of two identical substructures. Each of these structures separates from the restriction enzyme in order to bind to and cut one strand of the phage DNA molecule; both substructures are pre-programmed with the same target string containing 4 to 12 nucleotides to search for within the phage DNA. For this reason we need a script that finds all reverse palindromes in a given DNA sequence, with lengths between 4 and 12."
   ]
  },
  {
   "cell_type": "code",
   "execution_count": 72,
   "id": "a0e4e035-798e-4b76-aa4a-a7a81efd69d5",
   "metadata": {},
   "outputs": [
    {
     "name": "stdin",
     "output_type": "stream",
     "text": [
      "Enter the DNA sequence:  Sequence_24 TCAATGCATGCGGGTCTATATGCAT\n"
     ]
    },
    {
     "name": "stdout",
     "output_type": "stream",
     "text": [
      "4 6\n",
      "5 4\n",
      "6 6\n",
      "7 4\n",
      "17 4\n",
      "18 4\n",
      "20 6\n",
      "21 4\n"
     ]
    }
   ],
   "source": [
    "def reverse_complement(dna):\n",
    "    complement = {'A': 'T', 'T': 'A', 'C': 'G', 'G': 'C'}\n",
    "    return ''.join(complement[base] for base in reversed(dna))\n",
    "\n",
    "def find_reverse_palindromes(dna):\n",
    "    palindromes = []\n",
    "    for i in range(len(dna)):\n",
    "        for length in range(4, 13):  # lengths from 4 to 12\n",
    "            if i + length > len(dna):\n",
    "                break\n",
    "            substring = dna[i:i+length]\n",
    "            if substring == reverse_complement(substring):\n",
    "                palindromes.append((i+1, length))  # +1 because positions are 1-indexed\n",
    "    return palindromes\n",
    "\n",
    "def parse_input(input_string):\n",
    "    parts = input_string.strip().split()\n",
    "    if len(parts) == 2:\n",
    "        return parts[1]  # Return just the DNA sequence\n",
    "    else:\n",
    "        raise ValueError(\"Invalid input format\")\n",
    "\n",
    "# Get input from the user\n",
    "input_data = input(\"Enter the DNA sequence: \").strip()\n",
    "\n",
    "try:\n",
    "    # Parse input\n",
    "    dna_sequence = parse_input(input_data)\n",
    "\n",
    "    # Find reverse palindromes\n",
    "    results = find_reverse_palindromes(dna_sequence)\n",
    "\n",
    "    # Print results\n",
    "    for position, length in results:\n",
    "        print(f\"{position} {length}\")\n",
    "\n",
    "except ValueError as e:\n",
    "    print(f\"Error: {e}\")"
   ]
  },
  {
   "cell_type": "markdown",
   "id": "8947d8d6-5e8c-4c92-b46a-9e9e43fb89a6",
   "metadata": {},
   "source": [
    "# RNA Splicing"
   ]
  },
  {
   "cell_type": "code",
   "execution_count": null,
   "id": "69a23754-8a88-4af2-a240-534a88bc974f",
   "metadata": {},
   "outputs": [],
   "source": [
    "Sample Dataset\n",
    ">Sequence_10\n",
    "ATGGTCTACATAGCTGACAAACAGCACGTAGCAATCGGTCGAATCTCGAGAGGCATATGGTCACATGATCGGTCGAGCGTGTTTCAAAGTTTGCGCCTAG\n",
    ">Sequence_12\n",
    "ATCGGTCGAA\n",
    ">Sequence_15\n",
    "ATCGGTCGAGCGTGT"
   ]
  },
  {
   "cell_type": "markdown",
   "id": "5b3f4058-94b6-4211-871c-76212619df40",
   "metadata": {},
   "source": [
    "logic: We'll need to parse the FASTA input, remove the introns from the DNA sequence, transcribe it to RNA, and then translate it to a protein sequence. Enter your DNA sequences in FASTA format when prompted. The first sequence should be the main DNA string, followed by the intron sequences. Press Enter twice to finish input. The script will output the protein sequence."
   ]
  },
  {
   "cell_type": "code",
   "execution_count": 74,
   "id": "3756b432-6ae2-4874-9fac-78b6443342c3",
   "metadata": {},
   "outputs": [
    {
     "name": "stdout",
     "output_type": "stream",
     "text": [
      "Enter the DNA sequences (press Enter twice to finish):\n"
     ]
    },
    {
     "name": "stdin",
     "output_type": "stream",
     "text": [
      " >Sequence_10 ATGGTCTACATAGCTGACAAACAGCACGTAGCAATCGGTCGAATCTCGAGAGGCATATGGTCACATGATCGGTCGAGCGTGTTTCAAAGTTTGCGCCTAG\n",
      " >Sequence_12 ATCGGTCGAA\n",
      " >Sequence_15 ATCGGTCGAGCGTGT\n",
      " \n"
     ]
    },
    {
     "name": "stdout",
     "output_type": "stream",
     "text": [
      "MVYIADKQHVASREAYGHMFKVCA\n"
     ]
    }
   ],
   "source": [
    "def parse_input(input_string):\n",
    "    sequences = {}\n",
    "    for line in input_string.split('\\n'):\n",
    "        parts = line.strip().split()\n",
    "        if len(parts) == 2:\n",
    "            sequences[parts[0]] = parts[1]\n",
    "    return sequences\n",
    "\n",
    "def remove_introns(dna, introns):\n",
    "    for intron in introns:\n",
    "        dna = dna.replace(intron, '')\n",
    "    return dna\n",
    "\n",
    "def transcribe(dna):\n",
    "    return dna.replace('T', 'U')\n",
    "\n",
    "def translate(rna):\n",
    "    codon_table = {\n",
    "        'UUU': 'F', 'UUC': 'F', 'UUA': 'L', 'UUG': 'L', 'CUU': 'L', 'CUC': 'L', 'CUA': 'L', 'CUG': 'L',\n",
    "        'AUU': 'I', 'AUC': 'I', 'AUA': 'I', 'AUG': 'M', 'GUU': 'V', 'GUC': 'V', 'GUA': 'V', 'GUG': 'V',\n",
    "        'UCU': 'S', 'UCC': 'S', 'UCA': 'S', 'UCG': 'S', 'CCU': 'P', 'CCC': 'P', 'CCA': 'P', 'CCG': 'P',\n",
    "        'ACU': 'T', 'ACC': 'T', 'ACA': 'T', 'ACG': 'T', 'GCU': 'A', 'GCC': 'A', 'GCA': 'A', 'GCG': 'A',\n",
    "        'UAU': 'Y', 'UAC': 'Y', 'UAA': '_', 'UAG': '_', 'CAU': 'H', 'CAC': 'H', 'CAA': 'Q', 'CAG': 'Q',\n",
    "        'AAU': 'N', 'AAC': 'N', 'AAA': 'K', 'AAG': 'K', 'GAU': 'D', 'GAC': 'D', 'GAA': 'E', 'GAG': 'E',\n",
    "        'UGU': 'C', 'UGC': 'C', 'UGA': '_', 'UGG': 'W', 'CGU': 'R', 'CGC': 'R', 'CGA': 'R', 'CGG': 'R',\n",
    "        'AGU': 'S', 'AGC': 'S', 'AGA': 'R', 'AGG': 'R', 'GGU': 'G', 'GGC': 'G', 'GGA': 'G', 'GGG': 'G'\n",
    "    }\n",
    "    protein = ''\n",
    "    for i in range(0, len(rna), 3):\n",
    "        codon = rna[i:i+3]\n",
    "        if len(codon) == 3:\n",
    "            amino_acid = codon_table.get(codon, '')\n",
    "            if amino_acid == '_':\n",
    "                break\n",
    "            protein += amino_acid\n",
    "    return protein\n",
    "\n",
    "# Get input from the user\n",
    "print(\"Enter the DNA sequences (press Enter twice to finish):\")\n",
    "input_data = ''\n",
    "while True:\n",
    "    line = input()\n",
    "    if line == '':\n",
    "        break\n",
    "    input_data += line + '\\n'\n",
    "\n",
    "# Parse input\n",
    "sequences = parse_input(input_data)\n",
    "\n",
    "# The first sequence is the main DNA string, the rest are introns\n",
    "dna = list(sequences.values())[0]\n",
    "introns = list(sequences.values())[1:]\n",
    "\n",
    "# Remove introns, transcribe to RNA, and translate to protein\n",
    "dna_without_introns = remove_introns(dna, introns)\n",
    "rna = transcribe(dna_without_introns)\n",
    "protein = translate(rna)\n",
    "\n",
    "# Print the result\n",
    "print(protein)"
   ]
  },
  {
   "cell_type": "markdown",
   "id": "1b37336a-5543-43e0-a761-6ffd55958f7a",
   "metadata": {},
   "source": [
    "# Enumerating k-mers Lexicographically"
   ]
  },
  {
   "cell_type": "markdown",
   "id": "05889dc6-ea3b-46ff-8801-e9ccf6819265",
   "metadata": {},
   "source": [
    "Sample Dataset : \n",
    "A C G T  ,  \n",
    "2"
   ]
  },
  {
   "cell_type": "markdown",
   "id": "11d724af-82f6-49ad-9b6f-8c835d0edf72",
   "metadata": {},
   "source": [
    "logic: In order to solve this problem we need a script that generates all possible strings of a given length from a given alphabet and orders them lexicographically. "
   ]
  },
  {
   "cell_type": "code",
   "execution_count": 76,
   "id": "66be0346-49e8-4cbc-9429-a92824d61dcc",
   "metadata": {},
   "outputs": [
    {
     "name": "stdin",
     "output_type": "stream",
     "text": [
      "Enter the alphabet symbols separated by spaces:  A C G T\n",
      "Enter the length of strings to generate:  2\n"
     ]
    },
    {
     "name": "stdout",
     "output_type": "stream",
     "text": [
      "AA\n",
      "AC\n",
      "AG\n",
      "AT\n",
      "CA\n",
      "CC\n",
      "CG\n",
      "CT\n",
      "GA\n",
      "GC\n",
      "GG\n",
      "GT\n",
      "TA\n",
      "TC\n",
      "TG\n",
      "TT\n"
     ]
    }
   ],
   "source": [
    "from itertools import product\n",
    "\n",
    "def generate_strings(alphabet, n):\n",
    "    # Generate all possible combinations\n",
    "    combinations = product(alphabet, repeat=n)\n",
    "    \n",
    "    # Convert each combination to a string and sort lexicographically\n",
    "    strings = sorted(''.join(combo) for combo in combinations)\n",
    "    \n",
    "    return strings\n",
    "\n",
    "# Get input from the user\n",
    "alphabet = input(\"Enter the alphabet symbols separated by spaces: \").split()\n",
    "n = int(input(\"Enter the length of strings to generate: \"))\n",
    "\n",
    "# Generate and print the strings\n",
    "result = generate_strings(alphabet, n)\n",
    "for string in result:\n",
    "    print(string)"
   ]
  },
  {
   "cell_type": "markdown",
   "id": "e1e48729-ad65-4764-ace2-fe0dffde0126",
   "metadata": {},
   "source": [
    "# Longest Increasing Subsequence"
   ]
  },
  {
   "cell_type": "markdown",
   "id": "4087ab39-9020-4e78-9bdd-4a8a05bcbed0",
   "metadata": {},
   "source": [
    "Sample Dataset :  \n",
    "5  ,  \n",
    "5 1 4 2 3"
   ]
  },
  {
   "cell_type": "markdown",
   "id": "d0bd2f25-3813-4667-b42a-6eac6e92bdea",
   "metadata": {},
   "source": [
    "logic: This problem requires implementing an algorithm to find the longest increasing subsequence (LIS) and longest decreasing subsequence (LDS) of a given permutation. We define two main functions, thelongest_increasing_subsequence(seq) and the longest_decreasing_subsequence(seq).  The LIS function implements the dynamic programming algorithm to find the longest increasing subsequence.  The LDS function uses the LIS algorithm on the reversed and negated sequence to find the longest decreasing subsequence."
   ]
  },
  {
   "cell_type": "code",
   "execution_count": 79,
   "id": "dfdb632f-3d21-457f-aea4-b5812a921c13",
   "metadata": {},
   "outputs": [
    {
     "name": "stdin",
     "output_type": "stream",
     "text": [
      "Enter the length of the permutation:  5\n",
      "Enter the permutation separated by spaces:  5 1 4 2 3\n"
     ]
    },
    {
     "name": "stdout",
     "output_type": "stream",
     "text": [
      "1 2 3\n",
      "5 4 2\n"
     ]
    }
   ],
   "source": [
    "def longest_increasing_subsequence(seq):\n",
    "    n = len(seq)\n",
    "    # L[i] - length of the longest increasing subsequence ending at i\n",
    "    L = [1] * n\n",
    "    # P[i] - predecessor of element i in the longest increasing subsequence\n",
    "    P = [-1] * n\n",
    "\n",
    "    for i in range(1, n):\n",
    "        for j in range(i):\n",
    "            if seq[i] > seq[j] and L[i] < L[j] + 1:\n",
    "                L[i] = L[j] + 1\n",
    "                P[i] = j\n",
    "\n",
    "    # Find the maximum length and its index\n",
    "    length = max(L)\n",
    "    index = L.index(length)\n",
    "\n",
    "    # Reconstruct the sequence\n",
    "    result = []\n",
    "    while index != -1:\n",
    "        result.append(seq[index])\n",
    "        index = P[index]\n",
    "\n",
    "    return result[::-1]  # Reverse the result\n",
    "\n",
    "def longest_decreasing_subsequence(seq):\n",
    "    # We can use LIS algorithm on the negated sequence\n",
    "    lis = longest_increasing_subsequence([-x for x in seq])\n",
    "    return [-x for x in lis]  # Convert back to original values\n",
    "\n",
    "# Get input from the user\n",
    "n = int(input(\"Enter the length of the permutation: \"))\n",
    "permutation = list(map(int, input(\"Enter the permutation separated by spaces: \").split()))\n",
    "\n",
    "# Find longest increasing and decreasing subsequences\n",
    "lis = longest_increasing_subsequence(permutation)\n",
    "lds = longest_decreasing_subsequence(permutation)\n",
    "\n",
    "# Print results\n",
    "print(' '.join(map(str, lis)))\n",
    "print(' '.join(map(str, lds)))"
   ]
  },
  {
   "cell_type": "markdown",
   "id": "d30537f2-50a3-443c-aa91-dd822355b93b",
   "metadata": {},
   "source": [
    "# Genome Assembly as Shortest Superstring"
   ]
  },
  {
   "cell_type": "markdown",
   "id": "11342bc3-ecf4-4e3c-9e99-e17b295c814d",
   "metadata": {},
   "source": [
    "Sample Dataset\n",
    ">Sequence_56 \n",
    "ATTAGACCTG , \n",
    ">Sequence_57  \n",
    "CCTGCCGGAA , \n",
    ">Sequence_58 \n",
    "AGACCTGCCG ,  \n",
    ">Sequence_59  \n",
    "GCCGGAATAC"
   ]
  },
  {
   "cell_type": "markdown",
   "id": "6e5ccbf5-cfd6-47d5-94e6-262e2c2902e2",
   "metadata": {},
   "source": [
    "logic: This problem requires implementing an algorithm to find the shortest superstring that contains all given DNA sequences. overlap(s1, s2): Finds the largest overlap between the end of s1 and the start of s2. the merge_strings(s1, s2) function merges s1 and s2 based on their overlap. The find_shortest_superstring(dna_strings) function mplements a greedy algorithm to find the shortest superstring. It repeatedly finds the pair of strings with the largest overlap. It merges these strings and replaces them in the list with the merged string. This continues until only one string remains, which is the shortest superstring. The parse_fasta(fasta_string) function parses the FASTA format input and returns a list of DNA sequences. We get the input from the user in FASTA format. We parse the FASTA input to get the list of DNA strings. We find the shortest superstring using our algorithm and print the result."
   ]
  },
  {
   "cell_type": "code",
   "execution_count": 82,
   "id": "a4076355-2646-4e3f-89af-49bf2f88b937",
   "metadata": {},
   "outputs": [
    {
     "name": "stdout",
     "output_type": "stream",
     "text": [
      "Enter the DNA sequences (press Enter twice to finish):\n"
     ]
    },
    {
     "name": "stdin",
     "output_type": "stream",
     "text": [
      " Sequence_56 ATTAGACCTG\n",
      " Sequence_57 CCTGCCGGAA\n",
      " Sequence_58 AGACCTGCCG\n",
      " Sequence_59 GCCGGAATAC\n",
      " \n"
     ]
    },
    {
     "name": "stdout",
     "output_type": "stream",
     "text": [
      "ATTAGACCTGCCGGAATAC\n"
     ]
    }
   ],
   "source": [
    "def overlap(s1, s2):\n",
    "    for i in range(min(len(s1), len(s2)), 0, -1):\n",
    "        if s1[-i:] == s2[:i]:\n",
    "            return i\n",
    "    return 0\n",
    "\n",
    "def merge_strings(s1, s2):\n",
    "    o = overlap(s1, s2)\n",
    "    return s1 + s2[o:]\n",
    "\n",
    "def find_shortest_superstring(dna_strings):\n",
    "    while len(dna_strings) > 1:\n",
    "        max_overlap = 0\n",
    "        best_pair = (0, 1)\n",
    "        \n",
    "        for i in range(len(dna_strings)):\n",
    "            for j in range(len(dna_strings)):\n",
    "                if i != j:\n",
    "                    o = overlap(dna_strings[i], dna_strings[j])\n",
    "                    if o > max_overlap:\n",
    "                        max_overlap = o\n",
    "                        best_pair = (i, j)\n",
    "        \n",
    "        i, j = best_pair\n",
    "        merged = merge_strings(dna_strings[i], dna_strings[j])\n",
    "        dna_strings = [s for k, s in enumerate(dna_strings) if k not in best_pair]\n",
    "        dna_strings.append(merged)\n",
    "    \n",
    "    return dna_strings[0]\n",
    "\n",
    "def parse_input(input_string):\n",
    "    sequences = []\n",
    "    for line in input_string.split('\\n'):\n",
    "        parts = line.strip().split()\n",
    "        if len(parts) == 2:\n",
    "            sequences.append(parts[1])\n",
    "    return sequences\n",
    "\n",
    "# Get input from the user\n",
    "print(\"Enter the DNA sequences (press Enter twice to finish):\")\n",
    "input_data = ''\n",
    "while True:\n",
    "    line = input()\n",
    "    if line == '':\n",
    "        break\n",
    "    input_data += line + '\\n'\n",
    "\n",
    "# Parse input\n",
    "dna_strings = parse_input(input_data)\n",
    "\n",
    "# Find shortest superstring\n",
    "if dna_strings:\n",
    "    result = find_shortest_superstring(dna_strings)\n",
    "    print(result)\n",
    "else:\n",
    "    print(\"No valid DNA sequences found in the input.\")"
   ]
  },
  {
   "cell_type": "markdown",
   "id": "0af6f9b1-6088-40df-a964-1a4ccd8408d5",
   "metadata": {},
   "source": [
    "# Perfect Matchings and RNA Secondary Structures"
   ]
  },
  {
   "cell_type": "markdown",
   "id": "5ceea64f-e4a0-4088-838c-f9d3601ee4b1",
   "metadata": {},
   "source": [
    "Sample Dataset : \n",
    ">Sequence_23\n",
    "AGCUAGUCAU"
   ]
  },
  {
   "cell_type": "markdown",
   "id": "768ba040-a9ed-47be-aa0a-466e5422cd25",
   "metadata": {},
   "source": [
    "logic: This problem requires us to calculate the total number of perfect matchings in the bonding graph of an RNA string."
   ]
  },
  {
   "cell_type": "code",
   "execution_count": 85,
   "id": "b00a83f8-943c-4196-acfa-ee573859626f",
   "metadata": {},
   "outputs": [
    {
     "name": "stdin",
     "output_type": "stream",
     "text": [
      "Enter the RNA sequence:  Sequence_23 AGCUAGUCAU\n"
     ]
    },
    {
     "name": "stdout",
     "output_type": "stream",
     "text": [
      "12\n"
     ]
    }
   ],
   "source": [
    "from math import factorial\n",
    "\n",
    "def count_perfect_matchings(rna):\n",
    "    # Count the occurrences of each nucleotide\n",
    "    count_A = rna.count('A')\n",
    "    count_U = rna.count('U')\n",
    "    count_C = rna.count('C')\n",
    "    count_G = rna.count('G')\n",
    "    \n",
    "    # Check if the counts are valid for perfect matching\n",
    "    if count_A != count_U or count_C != count_G:\n",
    "        return 0\n",
    "    \n",
    "    # Calculate the number of perfect matchings\n",
    "    return factorial(count_A) * factorial(count_C)\n",
    "\n",
    "def parse_input(input_string):\n",
    "    parts = input_string.strip().split()\n",
    "    if len(parts) == 2:\n",
    "        return parts[1]  # Return just the RNA sequence\n",
    "    else:\n",
    "        raise ValueError(\"Invalid input format\")\n",
    "\n",
    "# Get input from the user\n",
    "input_data = input(\"Enter the RNA sequence: \").strip()\n",
    "\n",
    "try:\n",
    "    # Parse input\n",
    "    rna = parse_input(input_data)\n",
    "\n",
    "    # Calculate and print the result\n",
    "    result = count_perfect_matchings(rna)\n",
    "    print(result)\n",
    "\n",
    "except ValueError as e:\n",
    "    print(f\"Error: {e}\")"
   ]
  },
  {
   "cell_type": "code",
   "execution_count": null,
   "id": "39c995bb-34b4-4613-8f59-d49b2d99d74c",
   "metadata": {},
   "outputs": [],
   "source": []
  },
  {
   "cell_type": "code",
   "execution_count": null,
   "id": "230717c0-ef32-4e8d-93ff-b62f6054bb7d",
   "metadata": {},
   "outputs": [],
   "source": []
  },
  {
   "cell_type": "code",
   "execution_count": null,
   "id": "172164a5-665b-4c89-9b97-6d8e181b8de1",
   "metadata": {},
   "outputs": [],
   "source": []
  },
  {
   "cell_type": "code",
   "execution_count": null,
   "id": "3e80e18f-9974-4450-8bb3-0afd6577c39b",
   "metadata": {},
   "outputs": [],
   "source": []
  },
  {
   "cell_type": "code",
   "execution_count": null,
   "id": "d4b9d73b-d8b4-4c2d-8566-8df8e4160464",
   "metadata": {},
   "outputs": [],
   "source": []
  },
  {
   "cell_type": "code",
   "execution_count": null,
   "id": "2c089d15-62f0-4153-9f43-9f5f9aa02c03",
   "metadata": {},
   "outputs": [],
   "source": []
  },
  {
   "cell_type": "code",
   "execution_count": null,
   "id": "98081b20-a1b9-47ea-b452-2295b198ecd7",
   "metadata": {},
   "outputs": [],
   "source": []
  },
  {
   "cell_type": "code",
   "execution_count": null,
   "id": "71e57d74-120b-42ce-b189-9718cd032a4c",
   "metadata": {},
   "outputs": [],
   "source": []
  },
  {
   "cell_type": "code",
   "execution_count": null,
   "id": "842e2971-084a-42e3-b410-c6c21c593a66",
   "metadata": {},
   "outputs": [],
   "source": []
  }
 ],
 "metadata": {
  "kernelspec": {
   "display_name": "Python 3 (ipykernel)",
   "language": "python",
   "name": "python3"
  },
  "language_info": {
   "codemirror_mode": {
    "name": "ipython",
    "version": 3
   },
   "file_extension": ".py",
   "mimetype": "text/x-python",
   "name": "python",
   "nbconvert_exporter": "python",
   "pygments_lexer": "ipython3",
   "version": "3.12.4"
  }
 },
 "nbformat": 4,
 "nbformat_minor": 5
}
